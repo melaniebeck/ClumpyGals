{
 "cells": [
  {
   "cell_type": "code",
   "execution_count": 1,
   "metadata": {
    "collapsed": false
   },
   "outputs": [
    {
     "name": "stderr",
     "output_type": "stream",
     "text": [
      "/home/oxymoronic/.local/lib/python2.7/site-packages/IPython/kernel/__init__.py:13: ShimWarning: The `IPython.kernel` package has been deprecated. You should import from ipykernel or jupyter_client instead.\n",
      "  \"You should import from ipykernel or jupyter_client instead.\", ShimWarning)\n"
     ]
    }
   ],
   "source": [
    "from astropy.table import Table"
   ]
  },
  {
   "cell_type": "code",
   "execution_count": 2,
   "metadata": {
    "collapsed": true
   },
   "outputs": [],
   "source": [
    "dat = Table.read('../data/gzh_sdss_strictclumpy_629.fits')"
   ]
  },
  {
   "cell_type": "code",
   "execution_count": 16,
   "metadata": {
    "collapsed": false
   },
   "outputs": [
    {
     "name": "stdout",
     "output_type": "stream",
     "text": [
      "273\n"
     ]
    }
   ],
   "source": [
    "single = dat[dat['Table'] == 'sdss_single  ']\n",
    "print len(single)\n",
    "\n",
    "# write file to wget single depth jpegs \n",
    "#   (these were all classified as clumpy but only about half are true clumpy)\n",
    "with open('download_singledepth.txt','w') as f:\n",
    "    for ss in single:\n",
    "        f.write(ss['location']+'\\n')\n",
    "        \n",
    "# write a manifest file for clumpy_zoo\n",
    "import os\n",
    "imgname = []\n",
    "for img in single:\n",
    "    name = os.path.basename(img['location'])\n",
    "    imgname.append(name)\n",
    "    \n",
    "single['imgname'] = imgname\n",
    "single['survey_id', 'RA','DEC', 'imgname'].write('clumpy_singledepth_manifest.csv')"
   ]
  },
  {
   "cell_type": "code",
   "execution_count": null,
   "metadata": {
    "collapsed": true
   },
   "outputs": [],
   "source": []
  }
 ],
 "metadata": {
  "kernelspec": {
   "display_name": "Python 2",
   "language": "python",
   "name": "python2"
  },
  "language_info": {
   "codemirror_mode": {
    "name": "ipython",
    "version": 2
   },
   "file_extension": ".py",
   "mimetype": "text/x-python",
   "name": "python",
   "nbconvert_exporter": "python",
   "pygments_lexer": "ipython2",
   "version": "2.7.12"
  }
 },
 "nbformat": 4,
 "nbformat_minor": 0
}
