{
 "cells": [
  {
   "cell_type": "markdown",
   "metadata": {},
   "source": [
    "# Clumpy galaxies in GZH SDSS\n",
    "### Redoing KW's analysis (see kw_notes.txt)\n",
    "\n",
    "Kyle originally selected galaxies by this metric:\n",
    "\n",
    "`f_features >= 0.5 & f_clumpy >= 0.5 & f_clumpy_votes >= 20`\n",
    "\n",
    "He found 144 single-epoch galaxies and 145 coadd galaxies\n",
    "\n",
    "I've done the same with the file MelG provided: `gzh_sdss.fits`\n",
    "\n",
    "I found **629** galaxies: 273 single-epoch and 356 coadd. This probably shouldn't be surprising as KW performed this initial search in 2014 before the definitions of \"weighted\" votes were finalized. \n",
    "\n",
    "\n",
    "|             |  single-epoch  | single-epoch - not clumpy| not in single-epoch | Total |\n",
    "|-------------|----------------|--------------------------|---------------------|-------|\n",
    "|coadd        |    92          |       160                |       104           |356    |\n",
    "|coadd- not clumpy |    174    |                          |                     |       |\n",
    "| not in coadd |    7          |                          |                     |       |\n",
    "| Total        |   273         |                          |                     | 629   |\n",
    "\n",
    "*All matching was performed within 3.0\"*\n",
    "\n",
    "After further analysis, I've determined that 3.0'' is not enough to adequately characterize the separation between galaxies which actually are the same between the single-epoch and coadd image depths. I steadily increased the separation until I no longer found matches and it looks like 25'' is a better value. Redoing the table above:\n",
    "\n",
    "\n",
    "|             |  single-epoch  | single-epoch - not clumpy| Total |\n",
    "|-------------|----------------|--------------------------|-------|\n",
    "|coadd        |    111         |       245                |356    |\n",
    "|coadd- not clumpy |    162    |                          |       |\n",
    "| Total        |   273         |                          | 629   |\n",
    "\n",
    "\n",
    "### Making sense of these numbers\n",
    "For galaxies found in the coadd imaging but not found in single-epoch imaging -- it all makes sense. Coadd imaging is deeper so humans can see additional detail and classify subjects as clumpy that they didn't classify as clumpy in the single-epoch imaging. It also makes sense that not all single-epoch images are found in coadd imaging because of the intial magnitude criterion place on the sample. \n",
    "\n",
    "However -- why 174 single-epoch images are classified as clumpy but are NOT classified as clumpy in the coadd imaging is a bit strange. Should look at these briefly. \n",
    "\n",
    "### This is **everything** classified as \"clumpy\" -- can we separate TRUE clumpy with color?\n",
    "Turns out, probably not. I remade the u-r color histograms that Ali/Steve made last year (see below) and there is NO clear dilineation between the true blue clumpy sample and the known red-elliptical interloper sample which is definitely the majority. I'll have to go through these 600 galaxies by eye. :( But at least it's not looking at 50K!!\n",
    "\n",
    "I went through the 629 \"clumpy\" galaxies by eye marking those which were defintely NOT groups of red ellipticals or obvious double nuclei/mergers. This means the clumpy sample will still contain some questionable galaxies which may not have the type of clumps we're looking for but they'll all be blue, individual galaxies. These 224 galaxies are saved in `/data/gzh_sdss_strictclumpy_all_trueclumpy.fits`\n",
    "\n",
    "I also determined which of these galaxies have duplicates among their own depth. \n",
    "* 106 unique single-epoch galaxies (119 total)\n",
    "* 93 unqiue coadd depth galaxies (105 total)\n",
    "\n",
    "\n",
    "## Relaxing some of KW's criteria\n",
    "\n",
    "#### Relaxing f_features \n",
    "    1. 0.3 <= f_features < 0.4 :  21 additional galaxies. None are true \"clumpy\"\n",
    "    2. 0.4 <= f_features < 0.5 : 271 additional galaxies. Perhaps 9 are truly clumpy.\n",
    "    \n",
    "#### Relaxing f_clumpy\n",
    "    1. 0.3 <= f_clumpy < 0.4 : 314 additional galaxies. \n",
    "    2. 0.4 <= f_clumpy < 0.5 : 169 additional galaxies.\n",
    "\n",
    "#### Relaxing f_clumpy_count\n",
    "    1. 10 <= f_clumpy_count < 20: 15 additional galaxies. \n",
    "  \n",
    "  "
   ]
  },
  {
   "cell_type": "code",
   "execution_count": 1,
   "metadata": {
    "collapsed": false
   },
   "outputs": [
    {
     "name": "stderr",
     "output_type": "stream",
     "text": [
      "/home/oxymoronic/.local/lib/python2.7/site-packages/IPython/kernel/__init__.py:13: ShimWarning: The `IPython.kernel` package has been deprecated. You should import from ipykernel or jupyter_client instead.\n",
      "  \"You should import from ipykernel or jupyter_client instead.\", ShimWarning)\n"
     ]
    }
   ],
   "source": [
    "from astropy.table import Table\n",
    "from astropy.coordinates import SkyCoord\n",
    "from astropy import units as u\n",
    "import numpy as np\n",
    "import matplotlib.pyplot as plt\n",
    "%matplotlib inline"
   ]
  },
  {
   "cell_type": "code",
   "execution_count": 2,
   "metadata": {
    "collapsed": false
   },
   "outputs": [],
   "source": [
    "clumpy = Table.read('../data/gzh_sdss_strictclumpy_all_SDSSancillary.fits')"
   ]
  },
  {
   "cell_type": "code",
   "execution_count": 3,
   "metadata": {
    "collapsed": false
   },
   "outputs": [
    {
     "data": {
      "text/plain": [
       "<matplotlib.text.Text at 0x7ff12f4e1f10>"
      ]
     },
     "execution_count": 3,
     "metadata": {},
     "output_type": "execute_result"
    },
    {
     "data": {
      "image/png": "[encoded data removed]",
      "text/plain": [
       "<matplotlib.figure.Figure at 0x7ff12f50c450>"
      ]
     },
     "metadata": {},
     "output_type": "display_data"
    }
   ],
   "source": [
    "bins = np.arange(0.,5.,0.1)\n",
    "fig, ax = plt.subplots()\n",
    "ax.hist(clumpy['urcolor'],bins=bins,histtype='stepfilled',color='violet')\n",
    "ax.set_xlabel('ur color')\n",
    "ax.set_title(\"All GZH Clumpy Galaxies satisfying KW's criteria\")"
   ]
  },
  {
   "cell_type": "code",
   "execution_count": 4,
   "metadata": {
    "collapsed": false
   },
   "outputs": [
    {
     "data": {
      "text/plain": [
       "<matplotlib.legend.Legend at 0x7ff12dabbbd0>"
      ]
     },
     "execution_count": 4,
     "metadata": {},
     "output_type": "execute_result"
    },
    {
     "data": {
      "image/png": "[encoded data removed]",
      "text/plain": [
       "<matplotlib.figure.Figure at 0x7ff12f50c850>"
      ]
     },
     "metadata": {},
     "output_type": "display_data"
    }
   ],
   "source": [
    "# But maybe there's a difference if we separate single-epoch from coadd?\n",
    "single = clumpy['Table'] == 'sdss_single  '\n",
    "fig, ax = plt.subplots()\n",
    "ax.hist(clumpy['urcolor'][single], bins=bins, histtype='stepfilled',color='red',\n",
    "        alpha=0.5, label='Single-epoch')\n",
    "ax.hist(clumpy['urcolor'][~single], bins=bins, histtype='stepfilled',color='blue',\n",
    "        alpha=0.5, label='Coadd')\n",
    "ax.set_xlabel('ur color')\n",
    "ax.legend(loc='best')"
   ]
  },
  {
   "cell_type": "code",
   "execution_count": 34,
   "metadata": {
    "collapsed": false
   },
   "outputs": [
    {
     "name": "stdout",
     "output_type": "stream",
     "text": [
      "These are the indices of duplicate pairs in single-epoch:\n",
      "These are the indices of unique images\n",
      "(array([  5,   6,  13,  14,  15,  31,  32,  39,  40,  46,  47,  60,  61,\n",
      "        70,  71,  75,  76, 100, 101, 102, 104]),)\n"
     ]
    }
   ],
   "source": [
    "# Remove duplicates! --------------------------------------------#\n",
    "# ----> SEPARATELY from single-epoch and coadd imaging\n",
    "\n",
    "clumpy = Table.read('../data/gzh_sdss_strictclumpy_all_trueclumpy.fits')\n",
    "\n",
    "single_mask = clumpy['Table']=='sdss_single  '\n",
    "single = clumpy[single_mask]\n",
    "coadd = clumpy[~single_mask]\n",
    "\n",
    "\n",
    "c1_single = SkyCoord(single['RA']*u.degree, single['DEC']*u.degree)\n",
    "c2_single = SkyCoord(single['RA']*u.degree, single['DEC']*u.degree)\n",
    "idxc1_single, idxc2_single, d2d, d3d = c1_single.search_around_sky(c2_single, 25*u.arcsec)\n",
    "\n",
    "print \"These are the indices of duplicate pairs in single-epoch:\"\n",
    "single_idx = np.where(np.bincount(idxc1_single)==1)\n",
    "\n",
    "c1_coadd = SkyCoord(coadd['RA']*u.degree, coadd['DEC']*u.degree)\n",
    "c2_coadd = SkyCoord(coadd['RA']*u.degree, coadd['DEC']*u.degree)\n",
    "idxc1_coadd, idxc2_coadd, d2d, d3d = c1_coadd.search_around_sky(c2_coadd, 25*u.arcsec)\n",
    "\n",
    "print \"These are the duplicate images\"\n",
    "print np.where(np.bincount(idxc1_coadd)>1)\n",
    "\n",
    "single.write('../data/gzh_sdss_strictclumpy_single.fits',overwrite=True)\n",
    "coadd.write('../data/gzh_sdss_strictclumpy_coadd.fits',overwrite=True)"
   ]
  },
  {
   "cell_type": "code",
   "execution_count": 38,
   "metadata": {
    "collapsed": false
   },
   "outputs": [
    {
     "name": "stdout",
     "output_type": "stream",
     "text": [
      "93 106\n"
     ]
    }
   ],
   "source": [
    "single_dupes = np.array([3,16,22,27,30,54,58,78,83,99,101,103,113])\n",
    "coadd_dupes = np.array([6,14,15,32,40,47,61,71,76,101,103,104])\n",
    "\n",
    "sdupe_mask = np.ones(len(single), dtype='bool')\n",
    "sdupe_mask[single_dupes] = False\n",
    "\n",
    "cdupe_mask = np.ones(len(coadd), dtype='bool')\n",
    "cdupe_mask[coadd_dupes] = False\n",
    "\n",
    "print len(coadd[cdupe_mask]), len(single[sdupe_mask])\n",
    "\n",
    "# Write out coordinates and identifer for looking up SDSS spectra\n",
    "ss = single['RA','DEC'][sdupe_mask]\n",
    "#ss['OBJID']=ss['survey_id']\n",
    "#ss.remove_column('survey_id')\n",
    "ss.write('../data/gzh_single_nodupes_coordlist.csv',format='ascii.csv')\n",
    "\n",
    "cc = coadd['RA','DEC'][cdupe_mask]\n",
    "#cc['OBJID']=cc['survey_id']\n",
    "#cc.remove_column('survey_id')\n",
    "cc.write('../data/gzh_coadd_nodupes_coordlist.csv',format='ascii.csv')\n",
    "\n"
   ]
  },
  {
   "cell_type": "code",
   "execution_count": null,
   "metadata": {
    "collapsed": true
   },
   "outputs": [],
   "source": []
  }
 ],
 "metadata": {
  "kernelspec": {
   "display_name": "Python 2",
   "language": "python",
   "name": "python2"
  },
  "language_info": {
   "codemirror_mode": {
    "name": "ipython",
    "version": 2
   },
   "file_extension": ".py",
   "mimetype": "text/x-python",
   "name": "python",
   "nbconvert_exporter": "python",
   "pygments_lexer": "ipython2",
   "version": "2.7.12"
  }
 },
 "nbformat": 4,
 "nbformat_minor": 0
}
