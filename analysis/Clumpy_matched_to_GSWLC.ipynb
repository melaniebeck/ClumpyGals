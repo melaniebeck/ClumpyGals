{
 "cells": [
  {
   "cell_type": "code",
   "execution_count": 22,
   "metadata": {
    "collapsed": false
   },
   "outputs": [],
   "source": [
    "from astropy.table import Table\n",
    "import pdb\n",
    "import numpy as np\n",
    "import matplotlib.pyplot as plt\n",
    "import astropy.units as u\n",
    "from astropy.coordinates import SkyCoord\n",
    "\n",
    "import matplotlib\n",
    "%matplotlib inline"
   ]
  },
  {
   "cell_type": "code",
   "execution_count": 2,
   "metadata": {
    "collapsed": true
   },
   "outputs": [],
   "source": [
    "matplotlib.rcParams.update({'font.size': 20, 'font.family': 'STIXGeneral', \n",
    "                            'mathtext.fontset': 'stix'})"
   ]
  },
  {
   "cell_type": "code",
   "execution_count": 16,
   "metadata": {
    "collapsed": false
   },
   "outputs": [],
   "source": [
    "clumpy = Table.read('../data/clumpy_coadd_dr12_mass_spectra.fits')\n",
    "clumpy2 = Table.read('../data/clumpy_coadd_final75_gzh_dr12ancillary.fits')"
   ]
  },
  {
   "cell_type": "code",
   "execution_count": 119,
   "metadata": {
    "collapsed": false
   },
   "outputs": [],
   "source": [
    "GSWLC = Table.read(\"../data/GSWLC-X1.dat\", format='ascii.fast_no_header')"
   ]
  },
  {
   "cell_type": "code",
   "execution_count": 121,
   "metadata": {
    "collapsed": false
   },
   "outputs": [],
   "source": [
    "# why the FUCK don't they put the damn column headers in themselves?!! How obnoxious.\n",
    "colnames = ['DR12_OBJID', 'GLXID', 'plate', 'MJD', 'fiber ID', 'RA', 'DEC', 'z', 'chi_sq', \n",
    "           'M*', 'M*_err', 'SFR', 'SFR_err', 'A_FUV', 'A_FUV_err', 'A_B', 'A_B_err', 'A_V',\n",
    "           'A_V_err', 'flag_sed', 'UV_survey', 'SFR_wise', 'flag_wise', 'SFR_unwise',\n",
    "           'flag_unwise', 'flag_mgs']\n",
    "\n",
    "for i, name in enumerate(colnames):\n",
    "    GSWLC.rename_column('col{}'.format(i+1), name)"
   ]
  },
  {
   "cell_type": "code",
   "execution_count": 165,
   "metadata": {
    "collapsed": false
   },
   "outputs": [],
   "source": [
    "#clumpy2.colnames"
   ]
  },
  {
   "cell_type": "code",
   "execution_count": 127,
   "metadata": {
    "collapsed": true
   },
   "outputs": [],
   "source": [
    "catalog = SkyCoord(ra=GSWLC['RA']*u.deg, dec=GSWLC['DEC']*u.deg)\n",
    "sample = SkyCoord(ra=clumpy2['DR12_RA']*u.deg, dec=clumpy2['DR12_DEC']*u.deg)\n",
    "idx, d2d, d3d = sample.match_to_catalog_sky(catalog)"
   ]
  },
  {
   "cell_type": "code",
   "execution_count": 128,
   "metadata": {
    "collapsed": false
   },
   "outputs": [
    {
     "name": "stdout",
     "output_type": "stream",
     "text": [
      "[u'0.197704arcsec' u'0.123435arcsec' u'1.39532arcsec' u'0.205284arcsec'\n",
      " u'0.140809arcsec' u'0.133922arcsec' u'0.0565079arcsec' u'0.18016arcsec'\n",
      " u'0.0846442arcsec' u'4.50877arcsec' u'0.051981arcsec' u'5.0384arcsec'\n",
      " u'0.223543arcsec' u'0.107302arcsec' u'0.175993arcsec' u'0.345666arcsec'\n",
      " u'0.1476arcsec' u'0.450691arcsec' u'4.18483arcsec' u'0.260011arcsec'\n",
      " u'0.0274145arcsec' u'0.329988arcsec' u'0.21604arcsec' u'0.0938457arcsec'\n",
      " u'0.0335853arcsec' u'0.127261arcsec' u'0.484988arcsec' u'0.166769arcsec'\n",
      " u'0.172837arcsec' u'0.257097arcsec' u'0.144146arcsec' u'0.399588arcsec'\n",
      " u'0.218779arcsec' u'0.474903arcsec' u'3.71435arcsec' u'0.0254519arcsec'\n",
      " u'0.108859arcsec' u'0.084887arcsec' u'8.92643arcsec' u'0.0766391arcsec'\n",
      " u'1.49449arcsec' u'0.111453arcsec' u'5.54636arcsec' u'0.225476arcsec'\n",
      " u'0.401961arcsec' u'0.0563168arcsec' u'13.9507arcsec' u'0.24902arcsec'\n",
      " u'0.061351arcsec' u'0.0982607arcsec' u'0.135838arcsec' u'0.179322arcsec'\n",
      " u'0.074443arcsec' u'0.432684arcsec' u'2.70141arcsec' u'0.306956arcsec'\n",
      " u'0.184273arcsec' u'0.39126arcsec' u'0.094494arcsec' u'0.0934452arcsec'\n",
      " u'0.0864arcsec' u'0.532574arcsec' u'0.111131arcsec' u'15.7876arcsec']\n"
     ]
    }
   ],
   "source": [
    "from astropy.coordinates import Angle\n",
    "print Angle(d2d, u.arcsec)[close_mask]"
   ]
  },
  {
   "cell_type": "code",
   "execution_count": 132,
   "metadata": {
    "collapsed": false
   },
   "outputs": [],
   "source": [
    "close_mask = (catalog[idx].separation(sample)<20*u.arcsec)\n",
    "close_matches_in_clumpy = clumpy2[close_mask]\n",
    "close_matches_in_GSWLC = GSWLC[idx[close_mask]]\n",
    "\n",
    "#for id1, id2, sep in zip(close_matches_in_GSWLC['DR12_OBJID'], close_matches_in_clumpy['DR12_OBJID'], \n",
    "#                         Angle(d2d[close_mask], u.arcsec)):\n",
    "#    print id1, id2, sep"
   ]
  },
  {
   "cell_type": "code",
   "execution_count": 133,
   "metadata": {
    "collapsed": false
   },
   "outputs": [
    {
     "name": "stdout",
     "output_type": "stream",
     "text": [
      "64\n",
      "38\n"
     ]
    }
   ],
   "source": [
    "print len(close_matches_in_clumpy)\n",
    "print np.sum(close_matches_in_clumpy['AVG_Z']<=0.04)"
   ]
  },
  {
   "cell_type": "markdown",
   "metadata": {},
   "source": [
    "### I've come to realize that the DR12 OBJID I have for the clumpy galaxies are not good.\n",
    "When you enter them into SDSS Navigator the correct subject comes up but it's missing \n",
    "the link to the interactive spectra section and additional information. I wonder if I didn't get the Primary Object ID or something.... \n",
    "### Anyway. I am going overwrite them with those that I found in this GSWL catalog"
   ]
  },
  {
   "cell_type": "code",
   "execution_count": 97,
   "metadata": {
    "collapsed": false
   },
   "outputs": [],
   "source": [
    "clumpy2['DR12_OBJID'][close_mask] = GSWLC['DR12_OBJID'][idx[close_mask]]"
   ]
  },
  {
   "cell_type": "code",
   "execution_count": 134,
   "metadata": {
    "collapsed": false
   },
   "outputs": [
    {
     "data": {
      "text/plain": [
       "64"
      ]
     },
     "execution_count": 134,
     "metadata": {},
     "output_type": "execute_result"
    }
   ],
   "source": [
    "len(set(clumpy2['DR12_OBJID']) & set(GSWLC['DR12_OBJID']))"
   ]
  },
  {
   "cell_type": "code",
   "execution_count": 135,
   "metadata": {
    "collapsed": false
   },
   "outputs": [],
   "source": [
    "lowz = close_matches_in_clumpy[close_matches_in_clumpy['AVG_Z']<=0.04]\n",
    "lowz_GSWLC = close_matches_in_GSWLC[close_matches_in_GSWLC['z']<=0.04]"
   ]
  },
  {
   "cell_type": "markdown",
   "metadata": {},
   "source": [
    "### Half the lowz sample doesn't have 22 um detection in WISE (flag_unwise = 5)"
   ]
  },
  {
   "cell_type": "code",
   "execution_count": 136,
   "metadata": {
    "collapsed": false
   },
   "outputs": [
    {
     "data": {
      "text/plain": [
       "(array([ 18.,   0.,   0.,   0.,   0.,   0.,   0.,   0.,   0.,  20.]),\n",
       " array([ 0. ,  0.5,  1. ,  1.5,  2. ,  2.5,  3. ,  3.5,  4. ,  4.5,  5. ]),\n",
       " <a list of 10 Patch objects>)"
      ]
     },
     "execution_count": 136,
     "metadata": {},
     "output_type": "execute_result"
    },
    {
     "data": {
      "image/png": "[encoded data removed]",
      "text/plain": [
       "<matplotlib.figure.Figure at 0x7f65d992acd0>"
      ]
     },
     "metadata": {},
     "output_type": "display_data"
    }
   ],
   "source": [
    "plt.hist(lowz_GSWLC['flag_unwise'])"
   ]
  },
  {
   "cell_type": "markdown",
   "metadata": {},
   "source": [
    "### ~ 3 have SED fitting with chi square > 30 "
   ]
  },
  {
   "cell_type": "code",
   "execution_count": 137,
   "metadata": {
    "collapsed": false
   },
   "outputs": [
    {
     "data": {
      "text/plain": [
       "(array([ 34.,   0.,   0.,   0.,   0.,   0.,   0.,   0.,   0.,   4.]),\n",
       " array([ 0. ,  0.2,  0.4,  0.6,  0.8,  1. ,  1.2,  1.4,  1.6,  1.8,  2. ]),\n",
       " <a list of 10 Patch objects>)"
      ]
     },
     "execution_count": 137,
     "metadata": {},
     "output_type": "execute_result"
    },
    {
     "data": {
      "image/png": "[encoded data removed]",
      "text/plain": [
       "<matplotlib.figure.Figure at 0x7f65d5e65c10>"
      ]
     },
     "metadata": {},
     "output_type": "display_data"
    }
   ],
   "source": [
    "plt.hist(lowz_GSWLC['flag_sed'])"
   ]
  },
  {
   "cell_type": "markdown",
   "metadata": {},
   "source": [
    "### Most subjects have medium-depth UV imaging, a few have only shallowest; a few have the deepest depth"
   ]
  },
  {
   "cell_type": "code",
   "execution_count": 139,
   "metadata": {
    "collapsed": false
   },
   "outputs": [
    {
     "data": {
      "text/plain": [
       "(array([  3.,   0.,   0.,   0.,   0.,  29.,   0.,   0.,   0.,   6.]),\n",
       " array([ 1. ,  1.2,  1.4,  1.6,  1.8,  2. ,  2.2,  2.4,  2.6,  2.8,  3. ]),\n",
       " <a list of 10 Patch objects>)"
      ]
     },
     "execution_count": 139,
     "metadata": {},
     "output_type": "execute_result"
    },
    {
     "data": {
      "image/png": "[encoded data removed]",
      "text/plain": [
       "<matplotlib.figure.Figure at 0x7f65d59b12d0>"
      ]
     },
     "metadata": {},
     "output_type": "display_data"
    }
   ],
   "source": [
    "plt.hist(lowz_GSWLC['UV_survey'])"
   ]
  },
  {
   "cell_type": "markdown",
   "metadata": {},
   "source": [
    "## SFR vs Stellar Mass for 34 clumpy gals with z < 0.04"
   ]
  },
  {
   "cell_type": "code",
   "execution_count": 164,
   "metadata": {
    "collapsed": false
   },
   "outputs": [
    {
     "name": "stdout",
     "output_type": "stream",
     "text": [
      "34\n"
     ]
    },
    {
     "data": {
      "image/png": "[encoded data removed]",
      "text/plain": [
       "<matplotlib.figure.Figure at 0x7f65d51cfc10>"
      ]
     },
     "metadata": {},
     "output_type": "display_data"
    }
   ],
   "source": [
    "fig = plt.figure(figsize=(10, 5))\n",
    "\n",
    "ax = fig.add_subplot(111)\n",
    "\n",
    "ax.scatter(lowz_GSWLC['M*'][lowz_GSWLC['flag_sed']==0],\n",
    "           lowz_GSWLC['SFR'][lowz_GSWLC['flag_sed']==0])\n",
    "ax.set_xlabel('log(M*)', fontsize=16)\n",
    "ax.set_ylabel('log(SFR)', fontsize=16)\n",
    "\n",
    "print len(lowz_GSWLC['M*'][lowz_GSWLC['flag_sed']==0])\n"
   ]
  },
  {
   "cell_type": "code",
   "execution_count": 167,
   "metadata": {
    "collapsed": false
   },
   "outputs": [
    {
     "data": {
      "text/plain": [
       "<matplotlib.text.Text at 0x7f65d4987f90>"
      ]
     },
     "execution_count": 167,
     "metadata": {},
     "output_type": "execute_result"
    },
    {
     "data": {
      "image/png": "[encoded data removed]",
      "text/plain": [
       "<matplotlib.figure.Figure at 0x7f65d4940850>"
      ]
     },
     "metadata": {},
     "output_type": "display_data"
    }
   ],
   "source": [
    "fig = plt.figure(figsize=(10, 5))\n",
    "\n",
    "ax = fig.add_subplot(111)\n",
    "\n",
    "ax.scatter(lowz_GSWLC['z'][lowz_GSWLC['flag_sed']==0],\n",
    "           lowz_GSWLC['M*'][lowz_GSWLC['flag_sed']==0])\n",
    "ax.set_xlabel('log(M*)', fontsize=16)\n",
    "ax.set_ylabel('z', fontsize=16)"
   ]
  },
  {
   "cell_type": "code",
   "execution_count": null,
   "metadata": {
    "collapsed": true
   },
   "outputs": [],
   "source": []
  }
 ],
 "metadata": {
  "kernelspec": {
   "display_name": "Python 2",
   "language": "python",
   "name": "python2"
  },
  "language_info": {
   "codemirror_mode": {
    "name": "ipython",
    "version": 2
   },
   "file_extension": ".py",
   "mimetype": "text/x-python",
   "name": "python",
   "nbconvert_exporter": "python",
   "pygments_lexer": "ipython2",
   "version": "2.7.12"
  }
 },
 "nbformat": 4,
 "nbformat_minor": 0
}
