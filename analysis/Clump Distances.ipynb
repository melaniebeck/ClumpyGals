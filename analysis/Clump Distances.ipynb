{
 "cells": [
  {
   "cell_type": "code",
   "execution_count": 50,
   "metadata": {
    "collapsed": true
   },
   "outputs": [],
   "source": [
    "from astropy.table import Table, join\n",
    "from astropy.io import fits\n",
    "from astropy.wcs import WCS\n",
    "from astropy.coordinates import SkyCoord\n",
    "from astropy.coordinates import Distance\n",
    "from astropy.cosmology import FlatLambdaCDM\n",
    "import astropy.units as u\n",
    "\n",
    "import matplotlib.pyplot as plt\n",
    "import matplotlib as mpl\n",
    "\n",
    "import numpy as np\n",
    "\n",
    "from utils import *\n",
    "\n",
    "mpl.rcParams.update({'font.size': 45, \n",
    "\t\t\t\t\t\t\t'font.family': 'STIXGeneral', \n",
    "\t\t\t\t\t\t\t'mathtext.fontset': 'stix',\n",
    "\t\t\t\t\t\t\t'xtick.labelsize':18,\n",
    "\t\t\t\t\t\t\t'ytick.labelsize':18,\n",
    "\t\t\t\t\t\t\t'xtick.major.width':2,\n",
    "\t\t\t\t\t\t\t'ytick.major.width':2,\n",
    "\t\t\t\t\t\t\t'axes.linewidth':2,\n",
    "\t\t\t\t\t\t\t'lines.linewidth':3,\n",
    "\t\t\t\t\t\t\t'legend.fontsize':18})\n",
    "\n",
    "%matplotlib inline"
   ]
  },
  {
   "cell_type": "code",
   "execution_count": 187,
   "metadata": {
    "collapsed": false
   },
   "outputs": [],
   "source": [
    "# Read in clump data and SE catalog\n",
    "\n",
    "sdss = Table.read('../data/final_clumpy_sample_DR12ancillary_highzgal.csv')\n",
    "sdss['survey_id'] = sdss['OBJID']\n",
    "sex1 = Table.read('../data/SEcatalog_faint.csv')\n",
    "\n",
    "data = join(sdss, sex1, keys='survey_id')\n",
    "\n",
    "# Read in spectra data\n",
    "gzdata = Table.read(\"../data/2017-01-30_final_clumpy_sample.csv\")\n",
    "\n",
    "data = join(data, gzdata, keys='survey_id')\n",
    "\n",
    "# Read in the spectra lookup table\n",
    "spectable = Table.read('../data/2017-01-30_object_spectra_lookup_table.csv')\n"
   ]
  },
  {
   "cell_type": "code",
   "execution_count": 188,
   "metadata": {
    "collapsed": false
   },
   "outputs": [
    {
     "data": {
      "text/html": [
       "&lt;Table length=171&gt;\n",
       "<table id=\"table140064629244560\" class=\"table-striped table-bordered table-condensed\">\n",
       "<thead><tr><th>OBJID</th><th>DR12objid</th><th>RA</th><th>DEC</th><th>ra2</th><th>dec2</th><th>specObjID</th><th>plate</th><th>mjd</th><th>fiberID</th><th>z</th><th>zErr</th></tr></thead>\n",
       "<thead><tr><th>int64</th><th>int64</th><th>float64</th><th>float64</th><th>float64</th><th>float64</th><th>int64</th><th>int64</th><th>int64</th><th>int64</th><th>float64</th><th>float64</th></tr></thead>\n",
       "<tr><td>8647474690313946727</td><td>1237656567038608395</td><td>313.1226</td><td>-1.072714</td><td>313.1226</td><td>-1.0727334</td><td>1106819297918871552</td><td>983</td><td>52443</td><td>217</td><td>0.05495704</td><td>4.064313e-05</td></tr>\n",
       "<tr><td>8647474690329084045</td><td>1237663275774902499</td><td>347.6749</td><td>-1.163527</td><td>347.67491</td><td>-1.1634723</td><td>428991534390601728</td><td>381</td><td>51811</td><td>86</td><td>0.01234631</td><td>4.717897e-06</td></tr>\n",
       "<tr><td>8647474690334458050</td><td>1237663275780276407</td><td>0.01344961</td><td>-1.113013</td><td>0.013429198</td><td>-1.1130411</td><td>771305244821841920</td><td>685</td><td>52203</td><td>232</td><td>0.02177868</td><td>5.148592e-06</td></tr>\n",
       "<tr><td>8647474690339438846</td><td>1237663782591791113</td><td>11.38851</td><td>-1.105878</td><td>11.39023</td><td>-1.10353</td><td>1221616009916475392</td><td>1085</td><td>52531</td><td>53</td><td>0.01366896</td><td>5.746615e-06</td></tr>\n",
       "<tr><td>8647474690339438846</td><td>1237663782591791110</td><td>11.38851</td><td>-1.105878</td><td>11.391259</td><td>-1.1017326</td><td>778030682503931904</td><td>691</td><td>52199</td><td>123</td><td>0.01377012</td><td>3.565432e-06</td></tr>\n",
       "<tr><td>8647474690339438846</td><td>1237663782591791116</td><td>11.38851</td><td>-1.105878</td><td>11.395839</td><td>-1.104012</td><td>1683235528406755328</td><td>1495</td><td>52944</td><td>55</td><td>0.01372564</td><td>7.528681e-06</td></tr>\n",
       "<tr><td>8647474690343043368</td><td>1237663782595330352</td><td>19.51202</td><td>-1.166398</td><td>19.512057</td><td>-1.166392</td><td>1216028842972440576</td><td>1080</td><td>52614</td><td>207</td><td>0.03989848</td><td>1.09604e-05</td></tr>\n",
       "<tr><td>8647474690344747089</td><td>1237663782597034032</td><td>23.42248</td><td>-1.158285</td><td>23.42261</td><td>-1.158271</td><td>1213781441691805696</td><td>1078</td><td>52643</td><td>223</td><td>0.0164872</td><td>5.687107e-06</td></tr>\n",
       "<tr><td>8647474690344747089</td><td>1237663782597034029</td><td>23.42248</td><td>-1.158285</td><td>23.421757</td><td>-1.158842</td><td>1691162470858647552</td><td>1502</td><td>53741</td><td>221</td><td>0.01635964</td><td>2.641237e-06</td></tr>\n",
       "<tr><td>8647474690858942711</td><td>1237656567583604943</td><td>331.6922</td><td>-0.6881652</td><td>331.69223</td><td>-0.68814175</td><td>419996704255797248</td><td>373</td><td>51788</td><td>131</td><td>0.02934824</td><td>5.20117e-06</td></tr>\n",
       "<tr><td>...</td><td>...</td><td>...</td><td>...</td><td>...</td><td>...</td><td>...</td><td>...</td><td>...</td><td>...</td><td>...</td><td>...</td></tr>\n",
       "<tr><td>587731513150144647</td><td>1237666408458158160</td><td>35.90083</td><td>0.2256859</td><td>35.900857</td><td>0.22563594</td><td>457251183338219520</td><td>406</td><td>51876</td><td>494</td><td>0.02494591</td><td>9.87702e-06</td></tr>\n",
       "<tr><td>587731513150144647</td><td>1237666408458158161</td><td>35.90083</td><td>0.2256859</td><td>35.89983</td><td>0.22379</td><td>1697993723230578688</td><td>1508</td><td>52944</td><td>497</td><td>0.02516786</td><td>5.618442e-06</td></tr>\n",
       "<tr><td>587731513150144647</td><td>1237666408458158163</td><td>35.90083</td><td>0.2256859</td><td>35.902477</td><td>0.22541812</td><td>792769910852839424</td><td>704</td><td>52205</td><td>496</td><td>0.02490221</td><td>5.524103e-06</td></tr>\n",
       "<tr><td>587731514227294318</td><td>1237678437018108185</td><td>43.71055</td><td>1.057498</td><td>43.710567</td><td>1.057442</td><td>461742138598647808</td><td>410</td><td>51877</td><td>448</td><td>0.04346817</td><td>7.029246e-06</td></tr>\n",
       "<tr><td>587731514227294318</td><td>1237678437018108186</td><td>43.71055</td><td>1.057498</td><td>43.710364</td><td>1.054406</td><td>1202582640398460928</td><td>1068</td><td>52614</td><td>442</td><td>0.04369546</td><td>6.311424e-06</td></tr>\n",
       "<tr><td>587731514218119226</td><td>1237678617427771667</td><td>22.70635</td><td>1.242572</td><td>22.70639</td><td>1.2425688</td><td>450449878347180032</td><td>400</td><td>51820</td><td>327</td><td>0.05905213</td><td>1.09778e-05</td></tr>\n",
       "<tr><td>587731514221330616</td><td>1237678617431048335</td><td>30.15045</td><td>1.094266</td><td>30.150464</td><td>1.0942612</td><td>453892724987291648</td><td>403</td><td>51871</td><td>564</td><td>0.05024543</td><td>7.05318e-06</td></tr>\n",
       "<tr><td>587731514222641154</td><td>1237680099167567940</td><td>33.00174</td><td>1.225666</td><td>33.00174</td><td>1.225667</td><td>1696830453668931584</td><td>1507</td><td>53763</td><td>361</td><td>0.02299949</td><td>5.995731e-06</td></tr>\n",
       "<tr><td>587731514222641156</td><td>1237680099167567941</td><td>32.99956</td><td>1.218117</td><td>32.999845</td><td>1.21745</td><td>456089823174748160</td><td>405</td><td>51816</td><td>365</td><td>0.02335213</td><td>5.894811e-06</td></tr>\n",
       "<tr><td>587731514222641156</td><td>1237680099167567941</td><td>32.99956</td><td>1.218117</td><td>32.99945</td><td>1.21829</td><td>1208190974921041920</td><td>1073</td><td>52649</td><td>365</td><td>0.0232578</td><td>7.030079e-06</td></tr>\n",
       "</table>"
      ],
      "text/plain": [
       "<Table length=171>\n",
       "       OBJID             DR12objid          RA     ...     z          zErr    \n",
       "       int64               int64         float64   ...  float64     float64   \n",
       "------------------- ------------------- ---------- ... ---------- ------------\n",
       "8647474690313946727 1237656567038608395   313.1226 ... 0.05495704 4.064313e-05\n",
       "8647474690329084045 1237663275774902499   347.6749 ... 0.01234631 4.717897e-06\n",
       "8647474690334458050 1237663275780276407 0.01344961 ... 0.02177868 5.148592e-06\n",
       "8647474690339438846 1237663782591791113   11.38851 ... 0.01366896 5.746615e-06\n",
       "8647474690339438846 1237663782591791110   11.38851 ... 0.01377012 3.565432e-06\n",
       "8647474690339438846 1237663782591791116   11.38851 ... 0.01372564 7.528681e-06\n",
       "8647474690343043368 1237663782595330352   19.51202 ... 0.03989848  1.09604e-05\n",
       "8647474690344747089 1237663782597034032   23.42248 ...  0.0164872 5.687107e-06\n",
       "8647474690344747089 1237663782597034029   23.42248 ... 0.01635964 2.641237e-06\n",
       "8647474690858942711 1237656567583604943   331.6922 ... 0.02934824  5.20117e-06\n",
       "                ...                 ...        ... ...        ...          ...\n",
       " 587731513150144647 1237666408458158160   35.90083 ... 0.02494591  9.87702e-06\n",
       " 587731513150144647 1237666408458158161   35.90083 ... 0.02516786 5.618442e-06\n",
       " 587731513150144647 1237666408458158163   35.90083 ... 0.02490221 5.524103e-06\n",
       " 587731514227294318 1237678437018108185   43.71055 ... 0.04346817 7.029246e-06\n",
       " 587731514227294318 1237678437018108186   43.71055 ... 0.04369546 6.311424e-06\n",
       " 587731514218119226 1237678617427771667   22.70635 ... 0.05905213  1.09778e-05\n",
       " 587731514221330616 1237678617431048335   30.15045 ... 0.05024543  7.05318e-06\n",
       " 587731514222641154 1237680099167567940   33.00174 ... 0.02299949 5.995731e-06\n",
       " 587731514222641156 1237680099167567941   32.99956 ... 0.02335213 5.894811e-06\n",
       " 587731514222641156 1237680099167567941   32.99956 ...  0.0232578 7.030079e-06"
      ]
     },
     "execution_count": 188,
     "metadata": {},
     "output_type": "execute_result"
    }
   ],
   "source": [
    "spectable"
   ]
  },
  {
   "cell_type": "code",
   "execution_count": 182,
   "metadata": {
    "collapsed": false
   },
   "outputs": [
    {
     "name": "stdout",
     "output_type": "stream",
     "text": [
      "['OBJID', 'DR12objid', 'RA', 'DEC', 'ra2', 'dec2', 'specObjID', 'plate', 'mjd', 'fiberID', 'z', 'zErr']\n",
      "171\n",
      "['OBJID', 'DR12objid_1', 'RA_1', 'DEC_1', 'petroMag_u_1', 'petroMag_g_1', 'petroMag_r_1', 'petroMag_i_1', 'petroMag_z_1', 'petroMagErr_u_1', 'petroMagErr_g_1', 'petroMagErr_r_1', 'petroMagErr_i_1', 'petroMagErr_z_1', 'extinction_u_1', 'extinction_g_1', 'extinction_r_1', 'extinction_i_1', 'extinction_z_1', 'petroFlux_u', 'petroFlux_g', 'petroFlux_r', 'petroFlux_i', 'petroFlux_z', 'petroRad_u', 'petroRad_g', 'petroRad_r', 'petroRad_i', 'petroRad_z', 'petroRadErr_u', 'petroRadErr_g', 'petroRadErr_r', 'petroRadErr_i', 'petroRadErr_z', 'petroR50_u', 'petror50_g', 'petror50_r', 'petror50_i_1', 'petror50_z', 'petroR90_u', 'petror90_g', 'petror90_r', 'petror90_i', 'petror90_z', 'survey_id', 'NUMBER', 'FLUX_AUTO', 'FLUXERR_AUTO', 'MAG_AUTO', 'MAGERR_AUTO', 'FLUX_PETRO', 'FLUXERR_PETRO', 'MAG_PETRO', 'MAGERR_PETRO', 'KRON_RADIUS', 'PETRO_RADIUS', 'BACKGROUND', 'THRESHOLD', 'ISOAREA_IMAGE', 'X_IMAGE', 'Y_IMAGE', 'X_WORLD', 'Y_WORLD', 'A_IMAGE', 'B_IMAGE', 'THETA_IMAGE', 'ELONGATION', 'ELLIPTICITY', 'FLUX_RADIUS', 'pogson', 'asinh', 'AB', 'zooniverse_id', 'Table', 'DR7objid', 'DR12objid_2', 'RA_2', 'DEC_2', 'imaging', 'total_count', 'total_weight', 't01_smooth_or_features_a01_smooth_fraction', 't01_smooth_or_features_a01_smooth_weighted_fraction', 't01_smooth_or_features_a01_smooth_flag', 't01_smooth_or_features_a02_features_or_disk_fraction', 't01_smooth_or_features_a02_features_or_disk_weighted_fraction', 't01_smooth_or_features_a02_features_or_disk_flag', 't01_smooth_or_features_a03_star_or_artifact_fraction', 't01_smooth_or_features_a03_star_or_artifact_weighted_fraction', 't01_smooth_or_features_a03_star_or_artifact_flag', 't01_smooth_or_features_total_count', 't01_smooth_or_features_total_weight', 't02_edgeon_a01_yes_fraction', 't02_edgeon_a01_yes_weighted_fraction', 't02_edgeon_a02_no_fraction', 't02_edgeon_a02_no_weighted_fraction', 't02_edgeon_total_count', 't02_edgeon_total_weight', 't03_bar_a01_bar_fraction', 't03_bar_a01_bar_weighted_fraction', 't03_bar_a02_no_bar_fraction', 't03_bar_a02_no_bar_weighted_fraction', 't03_bar_total_count', 't03_bar_total_weight', 't04_spiral_a01_spiral_fraction', 't04_spiral_a01_spiral_weighted_fraction', 't04_spiral_a02_no_spiral_fraction', 't04_spiral_a02_no_spiral_weighted_fraction', 't04_spiral_total_count', 't04_spiral_total_weight', 't05_bulge_prominence_a01_no_bulge_fraction', 't05_bulge_prominence_a01_no_bulge_weighted_fraction', 't05_bulge_prominence_a02_just_noticeable_fraction', 't05_bulge_prominence_a02_just_noticeable_weighted_fraction', 't05_bulge_prominence_a03_obvious_fraction', 't05_bulge_prominence_a03_obvious_weighted_fraction', 't05_bulge_prominence_a04_dominant_fraction', 't05_bulge_prominence_a04_dominant_weighted_fraction', 't05_bulge_prominence_total_count', 't05_bulge_prominence_total_weight', 't06_odd_a01_yes_fraction', 't06_odd_a01_yes_weighted_fraction', 't06_odd_a02_no_fraction', 't06_odd_a02_no_weighted_fraction', 't06_odd_total_count', 't06_odd_total_weight', 't07_rounded_a01_completely_round_fraction', 't07_rounded_a01_completely_round_weighted_fraction', 't07_rounded_a02_in_between_fraction', 't07_rounded_a02_in_between_weighted_fraction', 't07_rounded_a03_cigar_shaped_fraction', 't07_rounded_a03_cigar_shaped_weighted_fraction', 't07_rounded_total_count', 't07_rounded_total_weight', 't08_odd_feature_a01_ring_fraction', 't08_odd_feature_a01_ring_weighted_fraction', 't08_odd_feature_a02_lens_or_arc_fraction', 't08_odd_feature_a02_lens_or_arc_weighted_fraction', 't08_odd_feature_a03_disturbed_fraction', 't08_odd_feature_a03_disturbed_weighted_fraction', 't08_odd_feature_a04_irregular_fraction', 't08_odd_feature_a04_irregular_weighted_fraction', 't08_odd_feature_a05_other_fraction', 't08_odd_feature_a05_other_weighted_fraction', 't08_odd_feature_a06_merger_fraction', 't08_odd_feature_a06_merger_weighted_fraction', 't08_odd_feature_a07_dust_lane_fraction', 't08_odd_feature_a07_dust_lane_weighted_fraction', 't08_odd_feature_total_count', 't08_odd_feature_total_weight', 't09_bulge_shape_a01_rounded_fraction', 't09_bulge_shape_a01_rounded_weighted_fraction', 't09_bulge_shape_a02_boxy_fraction', 't09_bulge_shape_a02_boxy_weighted_fraction', 't09_bulge_shape_a03_no_bulge_fraction', 't09_bulge_shape_a03_no_bulge_weighted_fraction', 't09_bulge_shape_total_count', 't09_bulge_shape_total_weight', 't10_arms_winding_a01_tight_fraction', 't10_arms_winding_a01_tight_weighted_fraction', 't10_arms_winding_a02_medium_fraction', 't10_arms_winding_a02_medium_weighted_fraction', 't10_arms_winding_a03_loose_fraction', 't10_arms_winding_a03_loose_weighted_fraction', 't10_arms_winding_total_count', 't10_arms_winding_total_weight', 't11_arms_number_a01_1_fraction', 't11_arms_number_a01_1_weighted_fraction', 't11_arms_number_a02_2_fraction', 't11_arms_number_a02_2_weighted_fraction', 't11_arms_number_a03_3_fraction', 't11_arms_number_a03_3_weighted_fraction', 't11_arms_number_a04_4_fraction', 't11_arms_number_a04_4_weighted_fraction', 't11_arms_number_a05_more_than_4_fraction', 't11_arms_number_a05_more_than_4_weighted_fraction', 't11_arms_number_a06_cant_tell_fraction', 't11_arms_number_a06_cant_tell_weighted_fraction', 't11_arms_number_total_count', 't11_arms_number_total_weight', 't12_clumpy_a01_yes_fraction', 't12_clumpy_a01_yes_weighted_fraction', 't12_clumpy_a02_no_fraction', 't12_clumpy_a02_no_weighted_fraction', 't12_clumpy_total_count', 't12_clumpy_total_weight', 't13_bright_clump_a01_yes_fraction', 't13_bright_clump_a01_yes_weighted_fraction', 't13_bright_clump_a02_no_fraction', 't13_bright_clump_a02_no_weighted_fraction', 't13_bright_clump_total_count', 't13_bright_clump_total_weight', 't14_bright_clump_central_a01_yes_fraction', 't14_bright_clump_central_a01_yes_weighted_fraction', 't14_bright_clump_central_a02_no_fraction', 't14_bright_clump_central_a02_no_weighted_fraction', 't14_bright_clump_central_total_count', 't14_bright_clump_central_total_weight', 't15_clumps_arrangement_a01_line_fraction', 't15_clumps_arrangement_a01_line_weighted_fraction', 't15_clumps_arrangement_a02_chain_fraction', 't15_clumps_arrangement_a02_chain_weighted_fraction', 't15_clumps_arrangement_a03_cluster_fraction', 't15_clumps_arrangement_a03_cluster_weighted_fraction', 't15_clumps_arrangement_a04_spiral_fraction', 't15_clumps_arrangement_a04_spiral_weighted_fraction', 't15_clumps_arrangement_total_count', 't15_clumps_arrangement_total_weight', 't16_clumps_count_a02_2_fraction', 't16_clumps_count_a02_2_weighted_fraction', 't16_clumps_count_a03_3_fraction', 't16_clumps_count_a03_3_weighted_fraction', 't16_clumps_count_a04_4_fraction', 't16_clumps_count_a04_4_weighted_fraction', 't16_clumps_count_a05_more_than_4_fraction', 't16_clumps_count_a05_more_than_4_weighted_fraction', 't16_clumps_count_a06_cant_tell_fraction', 't16_clumps_count_a06_cant_tell_weighted_fraction', 't16_clumps_count_a01_1_fraction', 't16_clumps_count_a01_1_weighted_fraction', 't16_clumps_count_total_count', 't16_clumps_count_total_weight', 't17_clumps_symmetrical_a01_yes_fraction', 't17_clumps_symmetrical_a01_yes_weighted_fraction', 't17_clumps_symmetrical_a02_no_fraction', 't17_clumps_symmetrical_a02_no_weighted_fraction', 't17_clumps_symmetrical_total_count', 't17_clumps_symmetrical_total_weight', 't18_clumps_embedded_a01_yes_fraction', 't18_clumps_embedded_a01_yes_weighted_fraction', 't18_clumps_embedded_a02_no_fraction', 't18_clumps_embedded_a02_no_weighted_fraction', 't18_clumps_embedded_total_count', 't18_clumps_embedded_total_weight', 'location', 'true_clumpy', 'unique', 'ra1', 'dec1', 'separation', 'ra2', 'dec2', 'specObjID', 'petroMag_u_2', 'petroMag_g_2', 'petroMag_r_2', 'petroMag_i_2', 'petroMag_z_2', 'petroMagErr_u_2', 'petroMagErr_g_2', 'petroMagErr_r_2', 'petroMagErr_i_2', 'petroMagErr_z_2', 'extinction_u_2', 'extinction_g_2', 'extinction_r_2', 'extinction_i_2', 'extinction_z_2', 'petroR50_r', 'petroR50Err_r', 'petroR90_r', 'petroR90Err_r', 'petror50_i_2', 'petroR50Err_i', 'petroR90_i', 'petroR90Err_i', 'z', 'num_spec', 'z_avg', 'mag_u', 'mag_g', 'mag_r', 'mag_i', 'mag_z', 'int_id', 'both_imaging', 'run', 'rerun', 'camcol', 'field']\n"
     ]
    }
   ],
   "source": [
    "#print specdata.colnames\n",
    "#print\n",
    "print spectable.colnames\n",
    "print len(spectable)\n",
    "print data.colnames"
   ]
  },
  {
   "cell_type": "code",
   "execution_count": 183,
   "metadata": {
    "collapsed": false
   },
   "outputs": [],
   "source": [
    "# Isolate those that I've visually identified as poor segmaps \n",
    "problem_gals = [0, 5, 8, 13, 15, 29, 39, 46, 55, \n",
    "                66, 76, 71, 77, 86, 87, 90, 92, 101]\n",
    "good = np.ones_like(sdss['petroMag_r'], dtype=bool)\n",
    "good[problem_gals] = False"
   ]
  },
  {
   "cell_type": "code",
   "execution_count": 194,
   "metadata": {
    "collapsed": false
   },
   "outputs": [],
   "source": [
    "# Define a simple cosmology to get physical distances\n",
    "cosmo = FlatLambdaCDM(H0=70, Om0=0.3)\n",
    "\n",
    "spectable['clump_dist'] = np.zeros(len(spectable))\n",
    "spectable['norm_clump_dist'] = np.zeros(len(spectable))\n",
    "\n",
    "# For each galaxy in our sample\n",
    "for gal in data[good]:\n",
    "    # Determine how many spectra it has\n",
    "    numspec = gal['num_spec']\n",
    "\n",
    "    specmask = spectable['OBJID']==gal['OBJID']\n",
    "    spectra = spectable[specmask]\n",
    "    \n",
    "    center = SkyCoord(gal['X_WORLD']*u.deg, gal['Y_WORLD']*u.deg)\n",
    "    \n",
    "    # ------ Get the Petrosian radius of the galaxy [\"] \n",
    "    # Note: SE's petro_rad is in \"units\" of A_IMAGE which is in pixels --\n",
    "    #   convert to arcsecond through the pixel scale of image: 0.396 \"/pixel\n",
    "    petro_rad_arcs = gal['PETRO_RADIUS']*gal['A_IMAGE']*0.396*u.arcsecond   \n",
    "    \n",
    "    # ------ Get the Half-light radius \n",
    "    # Note: SE's flux radius is in pixel units\n",
    "    half_rad_arcs = gal['FLUX_RADIUS']*0.396*u.arcsecond\n",
    "    \n",
    "    # ------ Compute the physical scale from angular diameter distance [kpc/\"] \n",
    "    # Note 1: D_A is computed in units of Mpc -- convert to kpc\n",
    "    # Note 2: D_A is based on subtended angle in units of radians -- convert to arcseconds\n",
    "    scale = cosmo.angular_diameter_distance(gal['z_avg']).to(u.kpc)/(206264.67*u.arcsecond)\n",
    "    \n",
    "    # Convert Petrosian radius [\"] to [kpc] \n",
    "    half_rad_kpc = half_rad_arcs*scale\n",
    "    \n",
    "    for spec in spectra:\n",
    "\n",
    "        clump = SkyCoord(spec['ra2']*u.deg, spec['dec2']*u.deg)\n",
    "        \n",
    "        # Compute the clump distance in arcseconds \n",
    "        # Then multiply by the scale to convert to kpc \n",
    "        clump_distance =  center.separation(clump).arcsecond*u.arcsecond*scale\n",
    "\n",
    "        # Normalize by the petrosian radius of the galaxy \n",
    "        norm_clump_dist = clump_distance/half_rad_kpc\n",
    "        \n",
    "        loc = np.where(spectable['specObjID']==spec['specObjID'])[0][0]\n",
    "        spectable[loc]['clump_dist'] = clump_distance.value\n",
    "        spectable[loc]['norm_clump_dist'] = norm_clump_dist"
   ]
  },
  {
   "cell_type": "markdown",
   "metadata": {},
   "source": [
    "### Looks like we have 26 spectra with no distances yet\n",
    "This is expected because I have excluded those galaxies which I marked as \"bad\""
   ]
  },
  {
   "cell_type": "code",
   "execution_count": 205,
   "metadata": {
    "collapsed": false
   },
   "outputs": [
    {
     "name": "stdout",
     "output_type": "stream",
     "text": [
      "26\n"
     ]
    }
   ],
   "source": [
    "print np.sum(spectable['clump_dist']==0.)\n",
    "\n",
    "# Save our distances\n",
    "spectable.write('../data/2017-01-30_object_spectra_lookup_table.csv', overwrite=True)"
   ]
  },
  {
   "cell_type": "markdown",
   "metadata": {},
   "source": [
    "# Plot their distribution"
   ]
  },
  {
   "cell_type": "code",
   "execution_count": 198,
   "metadata": {
    "collapsed": false
   },
   "outputs": [
    {
     "name": "stdout",
     "output_type": "stream",
     "text": [
      "2.58843555913\n",
      "0.911423623886\n"
     ]
    },
    {
     "data": {
      "text/plain": [
       "<matplotlib.text.Text at 0x7f63563c9390>"
      ]
     },
     "execution_count": 198,
     "metadata": {},
     "output_type": "execute_result"
    },
    {
     "data": {
      "image/png": "[encoded data removed]",
      "text/plain": [
       "<matplotlib.figure.Figure at 0x7f63564bad90>"
      ]
     },
     "metadata": {},
     "output_type": "display_data"
    }
   ],
   "source": [
    "def fd(data):\n",
    "    w = 2.*np.subtract(*np.percentile(data, (75,25)))/len(data)**(1./3.)\n",
    "    print np.subtract(*np.percentile(data, (75,25)))\n",
    "    return np.arange(np.min(data), np.max(data)+w, w)\n",
    "\n",
    "\n",
    "fig = plt.figure(figsize=(8,5))\n",
    "\n",
    "dist = spectable['clump_dist'][spectable['clump_dist']>0.]\n",
    "\n",
    "ax = fig.add_subplot(121)\n",
    "ax.hist(dist, bins=fd(dist), histtype='step',lw=3)\n",
    "ax.set_xlim(-1, 12)\n",
    "ax.set_xlabel(\"clump distance [kpc]\", fontsize=20)\n",
    "\n",
    "norm_dist = spectable['norm_clump_dist'][spectable['norm_clump_dist']>0.]\n",
    "\n",
    "ax = fig.add_subplot(122)\n",
    "ax.hist(norm_dist, bins=fd(norm_dist), histtype='step',lw=3)\n",
    "ax.set_xlim(-0.1, 5)\n",
    "ax.set_xlabel(r\"clump distance / R$_{50}$\", fontsize=20)"
   ]
  },
  {
   "cell_type": "markdown",
   "metadata": {},
   "source": [
    "# Bottom line: I probably don't care about these two spectra\n",
    "These are mega-outliers that probably aren't worth our time to recover"
   ]
  },
  {
   "cell_type": "code",
   "execution_count": 200,
   "metadata": {
    "collapsed": false
   },
   "outputs": [
    {
     "data": {
      "text/html": [
       "&lt;Table length=2&gt;\n",
       "<table id=\"table140064633318608\" class=\"table-striped table-bordered table-condensed\">\n",
       "<thead><tr><th>OBJID</th><th>DR12objid</th><th>RA</th><th>DEC</th><th>ra2</th><th>dec2</th><th>specObjID</th><th>plate</th><th>mjd</th><th>fiberID</th><th>z</th><th>zErr</th><th>clump_dist</th><th>norm_clump_dist</th></tr></thead>\n",
       "<thead><tr><th>int64</th><th>int64</th><th>float64</th><th>float64</th><th>float64</th><th>float64</th><th>int64</th><th>int64</th><th>int64</th><th>int64</th><th>float64</th><th>float64</th><th>float64</th><th>float64</th></tr></thead>\n",
       "<tr><td>8647474690334458050</td><td>1237663275780276407</td><td>0.01344961</td><td>-1.113013</td><td>0.013429198</td><td>-1.1130411</td><td>771305244821841920</td><td>685</td><td>52203</td><td>232</td><td>0.02177868</td><td>5.148592e-06</td><td>26.8662838367</td><td>23.3032625805</td></tr>\n",
       "<tr><td>587731186742722714</td><td>1237657191444054059</td><td>4.475896</td><td>0.3292831</td><td>4.4808229</td><td>0.33523211</td><td>773646385240107008</td><td>687</td><td>52518</td><td>557</td><td>0.01808284</td><td>1.301776e-05</td><td>9.46604000035</td><td>6.08520335632</td></tr>\n",
       "</table>"
      ],
      "text/plain": [
       "<Table length=2>\n",
       "       OBJID             DR12objid      ...   clump_dist  norm_clump_dist\n",
       "       int64               int64        ...    float64        float64    \n",
       "------------------- ------------------- ... ------------- ---------------\n",
       "8647474690334458050 1237663275780276407 ... 26.8662838367   23.3032625805\n",
       " 587731186742722714 1237657191444054059 ... 9.46604000035   6.08520335632"
      ]
     },
     "execution_count": 200,
     "metadata": {},
     "output_type": "execute_result"
    }
   ],
   "source": [
    "spectable[spectable['norm_clump_dist'] >5]"
   ]
  },
  {
   "cell_type": "code",
   "execution_count": 201,
   "metadata": {
    "collapsed": false
   },
   "outputs": [
    {
     "data": {
      "text/html": [
       "&lt;Table masked=True length=1&gt;\n",
       "<table id=\"table140064633316560\" class=\"table-striped table-bordered table-condensed\">\n",
       "<thead><tr><th>OBJID</th><th>DR12objid_1</th><th>RA_1</th><th>DEC_1</th><th>petroMag_u_1</th><th>petroMag_g_1</th><th>petroMag_r_1</th><th>petroMag_i_1</th><th>petroMag_z_1</th><th>petroMagErr_u_1</th><th>petroMagErr_g_1</th><th>petroMagErr_r_1</th><th>petroMagErr_i_1</th><th>petroMagErr_z_1</th><th>extinction_u_1</th><th>extinction_g_1</th><th>extinction_r_1</th><th>extinction_i_1</th><th>extinction_z_1</th><th>petroFlux_u</th><th>petroFlux_g</th><th>petroFlux_r</th><th>petroFlux_i</th><th>petroFlux_z</th><th>petroRad_u</th><th>petroRad_g</th><th>petroRad_r</th><th>petroRad_i</th><th>petroRad_z</th><th>petroRadErr_u</th><th>petroRadErr_g</th><th>petroRadErr_r</th><th>petroRadErr_i</th><th>petroRadErr_z</th><th>petroR50_u</th><th>petror50_g</th><th>petror50_r</th><th>petror50_i_1</th><th>petror50_z</th><th>petroR90_u</th><th>petror90_g</th><th>petror90_r</th><th>petror90_i</th><th>petror90_z</th><th>survey_id</th><th>NUMBER</th><th>FLUX_AUTO</th><th>FLUXERR_AUTO</th><th>MAG_AUTO</th><th>MAGERR_AUTO</th><th>FLUX_PETRO</th><th>FLUXERR_PETRO</th><th>MAG_PETRO</th><th>MAGERR_PETRO</th><th>KRON_RADIUS</th><th>PETRO_RADIUS</th><th>BACKGROUND</th><th>THRESHOLD</th><th>ISOAREA_IMAGE</th><th>X_IMAGE</th><th>Y_IMAGE</th><th>X_WORLD</th><th>Y_WORLD</th><th>A_IMAGE</th><th>B_IMAGE</th><th>THETA_IMAGE</th><th>ELONGATION</th><th>ELLIPTICITY</th><th>FLUX_RADIUS</th><th>pogson</th><th>asinh</th><th>AB</th><th>zooniverse_id</th><th>Table</th><th>DR7objid</th><th>DR12objid_2</th><th>RA_2</th><th>DEC_2</th><th>imaging</th><th>total_count</th><th>total_weight</th><th>t01_smooth_or_features_a01_smooth_fraction</th><th>t01_smooth_or_features_a01_smooth_weighted_fraction</th><th>t01_smooth_or_features_a01_smooth_flag</th><th>t01_smooth_or_features_a02_features_or_disk_fraction</th><th>t01_smooth_or_features_a02_features_or_disk_weighted_fraction</th><th>t01_smooth_or_features_a02_features_or_disk_flag</th><th>t01_smooth_or_features_a03_star_or_artifact_fraction</th><th>t01_smooth_or_features_a03_star_or_artifact_weighted_fraction</th><th>t01_smooth_or_features_a03_star_or_artifact_flag</th><th>t01_smooth_or_features_total_count</th><th>t01_smooth_or_features_total_weight</th><th>t02_edgeon_a01_yes_fraction</th><th>t02_edgeon_a01_yes_weighted_fraction</th><th>t02_edgeon_a02_no_fraction</th><th>t02_edgeon_a02_no_weighted_fraction</th><th>t02_edgeon_total_count</th><th>t02_edgeon_total_weight</th><th>t03_bar_a01_bar_fraction</th><th>t03_bar_a01_bar_weighted_fraction</th><th>t03_bar_a02_no_bar_fraction</th><th>t03_bar_a02_no_bar_weighted_fraction</th><th>t03_bar_total_count</th><th>t03_bar_total_weight</th><th>t04_spiral_a01_spiral_fraction</th><th>t04_spiral_a01_spiral_weighted_fraction</th><th>t04_spiral_a02_no_spiral_fraction</th><th>t04_spiral_a02_no_spiral_weighted_fraction</th><th>t04_spiral_total_count</th><th>t04_spiral_total_weight</th><th>t05_bulge_prominence_a01_no_bulge_fraction</th><th>t05_bulge_prominence_a01_no_bulge_weighted_fraction</th><th>t05_bulge_prominence_a02_just_noticeable_fraction</th><th>t05_bulge_prominence_a02_just_noticeable_weighted_fraction</th><th>t05_bulge_prominence_a03_obvious_fraction</th><th>t05_bulge_prominence_a03_obvious_weighted_fraction</th><th>t05_bulge_prominence_a04_dominant_fraction</th><th>t05_bulge_prominence_a04_dominant_weighted_fraction</th><th>t05_bulge_prominence_total_count</th><th>t05_bulge_prominence_total_weight</th><th>t06_odd_a01_yes_fraction</th><th>t06_odd_a01_yes_weighted_fraction</th><th>t06_odd_a02_no_fraction</th><th>t06_odd_a02_no_weighted_fraction</th><th>t06_odd_total_count</th><th>t06_odd_total_weight</th><th>t07_rounded_a01_completely_round_fraction</th><th>t07_rounded_a01_completely_round_weighted_fraction</th><th>t07_rounded_a02_in_between_fraction</th><th>t07_rounded_a02_in_between_weighted_fraction</th><th>t07_rounded_a03_cigar_shaped_fraction</th><th>t07_rounded_a03_cigar_shaped_weighted_fraction</th><th>t07_rounded_total_count</th><th>t07_rounded_total_weight</th><th>t08_odd_feature_a01_ring_fraction</th><th>t08_odd_feature_a01_ring_weighted_fraction</th><th>t08_odd_feature_a02_lens_or_arc_fraction</th><th>t08_odd_feature_a02_lens_or_arc_weighted_fraction</th><th>t08_odd_feature_a03_disturbed_fraction</th><th>t08_odd_feature_a03_disturbed_weighted_fraction</th><th>t08_odd_feature_a04_irregular_fraction</th><th>t08_odd_feature_a04_irregular_weighted_fraction</th><th>t08_odd_feature_a05_other_fraction</th><th>t08_odd_feature_a05_other_weighted_fraction</th><th>t08_odd_feature_a06_merger_fraction</th><th>t08_odd_feature_a06_merger_weighted_fraction</th><th>t08_odd_feature_a07_dust_lane_fraction</th><th>t08_odd_feature_a07_dust_lane_weighted_fraction</th><th>t08_odd_feature_total_count</th><th>t08_odd_feature_total_weight</th><th>t09_bulge_shape_a01_rounded_fraction</th><th>t09_bulge_shape_a01_rounded_weighted_fraction</th><th>t09_bulge_shape_a02_boxy_fraction</th><th>t09_bulge_shape_a02_boxy_weighted_fraction</th><th>t09_bulge_shape_a03_no_bulge_fraction</th><th>t09_bulge_shape_a03_no_bulge_weighted_fraction</th><th>t09_bulge_shape_total_count</th><th>t09_bulge_shape_total_weight</th><th>t10_arms_winding_a01_tight_fraction</th><th>t10_arms_winding_a01_tight_weighted_fraction</th><th>t10_arms_winding_a02_medium_fraction</th><th>t10_arms_winding_a02_medium_weighted_fraction</th><th>t10_arms_winding_a03_loose_fraction</th><th>t10_arms_winding_a03_loose_weighted_fraction</th><th>t10_arms_winding_total_count</th><th>t10_arms_winding_total_weight</th><th>t11_arms_number_a01_1_fraction</th><th>t11_arms_number_a01_1_weighted_fraction</th><th>t11_arms_number_a02_2_fraction</th><th>t11_arms_number_a02_2_weighted_fraction</th><th>t11_arms_number_a03_3_fraction</th><th>t11_arms_number_a03_3_weighted_fraction</th><th>t11_arms_number_a04_4_fraction</th><th>t11_arms_number_a04_4_weighted_fraction</th><th>t11_arms_number_a05_more_than_4_fraction</th><th>t11_arms_number_a05_more_than_4_weighted_fraction</th><th>t11_arms_number_a06_cant_tell_fraction</th><th>t11_arms_number_a06_cant_tell_weighted_fraction</th><th>t11_arms_number_total_count</th><th>t11_arms_number_total_weight</th><th>t12_clumpy_a01_yes_fraction</th><th>t12_clumpy_a01_yes_weighted_fraction</th><th>t12_clumpy_a02_no_fraction</th><th>t12_clumpy_a02_no_weighted_fraction</th><th>t12_clumpy_total_count</th><th>t12_clumpy_total_weight</th><th>t13_bright_clump_a01_yes_fraction</th><th>t13_bright_clump_a01_yes_weighted_fraction</th><th>t13_bright_clump_a02_no_fraction</th><th>t13_bright_clump_a02_no_weighted_fraction</th><th>t13_bright_clump_total_count</th><th>t13_bright_clump_total_weight</th><th>t14_bright_clump_central_a01_yes_fraction</th><th>t14_bright_clump_central_a01_yes_weighted_fraction</th><th>t14_bright_clump_central_a02_no_fraction</th><th>t14_bright_clump_central_a02_no_weighted_fraction</th><th>t14_bright_clump_central_total_count</th><th>t14_bright_clump_central_total_weight</th><th>t15_clumps_arrangement_a01_line_fraction</th><th>t15_clumps_arrangement_a01_line_weighted_fraction</th><th>t15_clumps_arrangement_a02_chain_fraction</th><th>t15_clumps_arrangement_a02_chain_weighted_fraction</th><th>t15_clumps_arrangement_a03_cluster_fraction</th><th>t15_clumps_arrangement_a03_cluster_weighted_fraction</th><th>t15_clumps_arrangement_a04_spiral_fraction</th><th>t15_clumps_arrangement_a04_spiral_weighted_fraction</th><th>t15_clumps_arrangement_total_count</th><th>t15_clumps_arrangement_total_weight</th><th>t16_clumps_count_a02_2_fraction</th><th>t16_clumps_count_a02_2_weighted_fraction</th><th>t16_clumps_count_a03_3_fraction</th><th>t16_clumps_count_a03_3_weighted_fraction</th><th>t16_clumps_count_a04_4_fraction</th><th>t16_clumps_count_a04_4_weighted_fraction</th><th>t16_clumps_count_a05_more_than_4_fraction</th><th>t16_clumps_count_a05_more_than_4_weighted_fraction</th><th>t16_clumps_count_a06_cant_tell_fraction</th><th>t16_clumps_count_a06_cant_tell_weighted_fraction</th><th>t16_clumps_count_a01_1_fraction</th><th>t16_clumps_count_a01_1_weighted_fraction</th><th>t16_clumps_count_total_count</th><th>t16_clumps_count_total_weight</th><th>t17_clumps_symmetrical_a01_yes_fraction</th><th>t17_clumps_symmetrical_a01_yes_weighted_fraction</th><th>t17_clumps_symmetrical_a02_no_fraction</th><th>t17_clumps_symmetrical_a02_no_weighted_fraction</th><th>t17_clumps_symmetrical_total_count</th><th>t17_clumps_symmetrical_total_weight</th><th>t18_clumps_embedded_a01_yes_fraction</th><th>t18_clumps_embedded_a01_yes_weighted_fraction</th><th>t18_clumps_embedded_a02_no_fraction</th><th>t18_clumps_embedded_a02_no_weighted_fraction</th><th>t18_clumps_embedded_total_count</th><th>t18_clumps_embedded_total_weight</th><th>location</th><th>true_clumpy</th><th>unique</th><th>ra1</th><th>dec1</th><th>separation</th><th>ra2</th><th>dec2</th><th>specObjID</th><th>petroMag_u_2</th><th>petroMag_g_2</th><th>petroMag_r_2</th><th>petroMag_i_2</th><th>petroMag_z_2</th><th>petroMagErr_u_2</th><th>petroMagErr_g_2</th><th>petroMagErr_r_2</th><th>petroMagErr_i_2</th><th>petroMagErr_z_2</th><th>extinction_u_2</th><th>extinction_g_2</th><th>extinction_r_2</th><th>extinction_i_2</th><th>extinction_z_2</th><th>petroR50_r</th><th>petroR50Err_r</th><th>petroR90_r</th><th>petroR90Err_r</th><th>petror50_i_2</th><th>petroR50Err_i</th><th>petroR90_i</th><th>petroR90Err_i</th><th>z</th><th>num_spec</th><th>z_avg</th><th>mag_u</th><th>mag_g</th><th>mag_r</th><th>mag_i</th><th>mag_z</th><th>int_id</th><th>both_imaging</th><th>run</th><th>rerun</th><th>camcol</th><th>field</th></tr></thead>\n",
       "<thead><tr><th>int64</th><th>int64</th><th>float64</th><th>float64</th><th>float64</th><th>float64</th><th>float64</th><th>float64</th><th>float64</th><th>float64</th><th>float64</th><th>float64</th><th>float64</th><th>float64</th><th>float64</th><th>float64</th><th>float64</th><th>float64</th><th>float64</th><th>float64</th><th>float64</th><th>float64</th><th>float64</th><th>float64</th><th>float64</th><th>float64</th><th>float64</th><th>float64</th><th>float64</th><th>float64</th><th>float64</th><th>float64</th><th>float64</th><th>float64</th><th>float64</th><th>float64</th><th>float64</th><th>float64</th><th>float64</th><th>float64</th><th>float64</th><th>float64</th><th>float64</th><th>float64</th><th>int64</th><th>int64</th><th>float64</th><th>float64</th><th>float64</th><th>float64</th><th>float64</th><th>float64</th><th>float64</th><th>float64</th><th>float64</th><th>float64</th><th>float64</th><th>float64</th><th>int64</th><th>float64</th><th>float64</th><th>float64</th><th>float64</th><th>float64</th><th>float64</th><th>float64</th><th>float64</th><th>float64</th><th>float64</th><th>float64</th><th>float64</th><th>float64</th><th>str10</th><th>str11</th><th>int64</th><th>int64</th><th>float64</th><th>float64</th><th>str4</th><th>int64</th><th>float64</th><th>float64</th><th>float64</th><th>str5</th><th>float64</th><th>float64</th><th>str5</th><th>float64</th><th>float64</th><th>str5</th><th>int64</th><th>float64</th><th>float64</th><th>float64</th><th>float64</th><th>float64</th><th>int64</th><th>float64</th><th>float64</th><th>float64</th><th>float64</th><th>float64</th><th>int64</th><th>float64</th><th>float64</th><th>float64</th><th>float64</th><th>float64</th><th>int64</th><th>float64</th><th>float64</th><th>float64</th><th>float64</th><th>float64</th><th>float64</th><th>float64</th><th>float64</th><th>float64</th><th>int64</th><th>float64</th><th>float64</th><th>float64</th><th>float64</th><th>float64</th><th>int64</th><th>float64</th><th>float64</th><th>float64</th><th>float64</th><th>float64</th><th>float64</th><th>float64</th><th>int64</th><th>float64</th><th>float64</th><th>float64</th><th>float64</th><th>float64</th><th>float64</th><th>float64</th><th>float64</th><th>float64</th><th>float64</th><th>float64</th><th>float64</th><th>float64</th><th>float64</th><th>float64</th><th>int64</th><th>float64</th><th>float64</th><th>float64</th><th>float64</th><th>float64</th><th>float64</th><th>float64</th><th>int64</th><th>float64</th><th>float64</th><th>float64</th><th>float64</th><th>float64</th><th>float64</th><th>float64</th><th>int64</th><th>float64</th><th>float64</th><th>float64</th><th>float64</th><th>float64</th><th>float64</th><th>float64</th><th>float64</th><th>float64</th><th>float64</th><th>float64</th><th>float64</th><th>float64</th><th>int64</th><th>float64</th><th>float64</th><th>float64</th><th>float64</th><th>float64</th><th>int64</th><th>float64</th><th>float64</th><th>float64</th><th>float64</th><th>float64</th><th>int64</th><th>float64</th><th>float64</th><th>float64</th><th>float64</th><th>float64</th><th>int64</th><th>float64</th><th>float64</th><th>float64</th><th>float64</th><th>float64</th><th>float64</th><th>float64</th><th>float64</th><th>float64</th><th>int64</th><th>float64</th><th>float64</th><th>float64</th><th>float64</th><th>float64</th><th>float64</th><th>float64</th><th>float64</th><th>float64</th><th>float64</th><th>float64</th><th>float64</th><th>float64</th><th>int64</th><th>float64</th><th>float64</th><th>float64</th><th>float64</th><th>float64</th><th>int64</th><th>float64</th><th>float64</th><th>float64</th><th>float64</th><th>float64</th><th>int64</th><th>float64</th><th>str45</th><th>str4</th><th>str4</th><th>float64</th><th>float64</th><th>float64</th><th>float64</th><th>float64</th><th>int64</th><th>float64</th><th>float64</th><th>float64</th><th>float64</th><th>float64</th><th>float64</th><th>float64</th><th>float64</th><th>float64</th><th>float64</th><th>float64</th><th>float64</th><th>float64</th><th>float64</th><th>float64</th><th>float64</th><th>float64</th><th>float64</th><th>float64</th><th>float64</th><th>float64</th><th>float64</th><th>float64</th><th>float64</th><th>int64</th><th>float64</th><th>float64</th><th>float64</th><th>float64</th><th>float64</th><th>float64</th><th>int64</th><th>str5</th><th>int64</th><th>int64</th><th>int64</th><th>int64</th></tr></thead>\n",
       "<tr><td>8647474690334458050</td><td>1237663275780276407</td><td>0.01344961</td><td>-1.113013</td><td>18.60032</td><td>17.64094</td><td>17.28681</td><td>17.15933</td><td>17.19372</td><td>0.06147627</td><td>0.01348447</td><td>0.01417</td><td>0.02026141</td><td>0.08016331</td><td>0.1880025</td><td>0.1383304</td><td>0.1003288</td><td>0.07607625</td><td>0.05393901</td><td>36.29666</td><td>87.82646</td><td>121.6956</td><td>136.8571</td><td>132.5858</td><td>6.174714</td><td>6.029521</td><td>6.268817</td><td>6.012114</td><td>5.792641</td><td>0.6919144</td><td>0.1758729</td><td>0.1649189</td><td>0.1928165</td><td>0.2173814</td><td>3.125466</td><td>2.891726</td><td>2.99128</td><td>2.826703</td><td>2.423001</td><td>8.034147</td><td>5.972674</td><td>6.685583</td><td>6.145045</td><td>4.551049</td><td>8647474690334458050</td><td>1</td><td>102.6746</td><td>0.9748833</td><td>-5.0287</td><td>0.0103</td><td>97.89013</td><td>1.476182</td><td>-4.9768</td><td>0.0164</td><td>3.5</td><td>5.28</td><td>0.009033047</td><td>0.02991509</td><td>508</td><td>41.914</td><td>44.9908</td><td>0.030378609364</td><td>-1.1129693055</td><td>6.361</td><td>4.363</td><td>-62.47</td><td>1.458</td><td>0.314</td><td>6.611</td><td>17.5231527369</td><td>17.3131527369</td><td>17.3131527369</td><td>AHZ60000uj</td><td>sdss_coadd</td><td>8647474690334458050</td><td>1237663275780276407</td><td>0.0134496078572</td><td>-1.11301344627</td><td>SDSS</td><td>231</td><td>229.210998535</td><td>0.372000008821</td><td>0.388000011444</td><td>false</td><td>0.535000026226</td><td>0.558000028133</td><td>false</td><td>0.0930000022054</td><td>0.0540000014007</td><td>false</td><td>43</td><td>41.2109985352</td><td>0.0</td><td>0.0</td><td>1.0</td><td>1.0</td><td>3</td><td>3.0</td><td>0.666999995708</td><td>0.666999995708</td><td>0.333000004292</td><td>0.333000004292</td><td>3</td><td>3.0</td><td>0.333000004292</td><td>0.333000004292</td><td>0.666999995708</td><td>0.666999995708</td><td>3</td><td>3.0</td><td>0.666999995708</td><td>0.666999995708</td><td>0.333000004292</td><td>0.333000004292</td><td>0.0</td><td>0.0</td><td>0.0</td><td>0.0</td><td>3</td><td>3.0</td><td>0.231000006199</td><td>0.231000006199</td><td>0.768999993801</td><td>0.768999993801</td><td>39</td><td>39.0</td><td>0.412000000477</td><td>0.412000000477</td><td>0.412000000477</td><td>0.412000000477</td><td>0.175999999046</td><td>0.175999999046</td><td>17</td><td>17.0</td><td>0.0</td><td>0.0</td><td>0.222000002861</td><td>0.222000002861</td><td>0.111000001431</td><td>0.111000001431</td><td>0.222000002861</td><td>0.222000002861</td><td>0.333000004292</td><td>0.333000004292</td><td>0.111000001431</td><td>0.111000001431</td><td>0.0</td><td>0.0</td><td>9</td><td>9.0</td><td>0.0</td><td>0.0</td><td>0.0</td><td>0.0</td><td>0.0</td><td>0.0</td><td>0</td><td>0.0</td><td>0.0</td><td>0.0</td><td>1.0</td><td>1.0</td><td>0.0</td><td>0.0</td><td>1</td><td>1.0</td><td>0.0</td><td>0.0</td><td>0.0</td><td>0.0</td><td>0.0</td><td>0.0</td><td>0.0</td><td>0.0</td><td>0.0</td><td>0.0</td><td>1.0</td><td>1.0</td><td>1</td><td>1.0</td><td>0.870000004768</td><td>0.870000004768</td><td>0.129999995232</td><td>0.129999995232</td><td>23</td><td>23.0</td><td>0.10000000149</td><td>0.10000000149</td><td>0.899999976158</td><td>0.899999976158</td><td>20</td><td>20.0</td><td>0.0</td><td>0.0</td><td>1.0</td><td>1.0</td><td>2</td><td>2.0</td><td>0.75</td><td>0.75</td><td>0.25</td><td>0.25</td><td>0.0</td><td>0.0</td><td>0.0</td><td>0.0</td><td>4</td><td>4.0</td><td>0.899999976158</td><td>0.899999976158</td><td>0.0500000007451</td><td>0.0500000007451</td><td>0.0</td><td>0.0</td><td>0.0</td><td>0.0</td><td>0.0500000007451</td><td>0.0500000007451</td><td>0.0</td><td>0.0</td><td>20</td><td>20.0</td><td>0.899999976158</td><td>0.899999976158</td><td>0.10000000149</td><td>0.10000000149</td><td>20</td><td>20.0</td><td>0.949999988079</td><td>0.949999988079</td><td>0.0500000007451</td><td>0.0500000007451</td><td>20</td><td>20.0</td><td>http://s3.amazonaws.com/zoo2_extra/326750.jpg</td><td>true</td><td>true</td><td>0.013449607417</td><td>-1.11301338673</td><td>0.000774241348536</td><td>0.0134482038478</td><td>-1.11302621422</td><td>771305244821841920</td><td>--</td><td>--</td><td>--</td><td>--</td><td>--</td><td>--</td><td>--</td><td>--</td><td>--</td><td>--</td><td>--</td><td>--</td><td>--</td><td>--</td><td>--</td><td>2.99128</td><td>0.03592541</td><td>6.685583</td><td>0.2675102</td><td>2.826703</td><td>0.04954101</td><td>6.145045</td><td>0.3142074</td><td>0.02177868</td><td>1</td><td>0.02177868</td><td>18.41232</td><td>17.50261</td><td>17.18648</td><td>17.08325</td><td>17.13978</td><td>1100</td><td>false</td><td>4145</td><td>301</td><td>1</td><td>110</td></tr>\n",
       "</table>"
      ],
      "text/plain": [
       "<Table masked=True length=1>\n",
       "       OBJID            DR12objid_1        RA_1    ... rerun camcol field\n",
       "       int64               int64         float64   ... int64 int64  int64\n",
       "------------------- ------------------- ---------- ... ----- ------ -----\n",
       "8647474690334458050 1237663275780276407 0.01344961 ...   301      1   110"
      ]
     },
     "execution_count": 201,
     "metadata": {},
     "output_type": "execute_result"
    }
   ],
   "source": [
    "# THIS ONE HAS FUCKED UP WCS-- X_WORLD IS COMPLETELY WRONG\n",
    "data[data['OBJID'] == 8647474690334458050]"
   ]
  },
  {
   "cell_type": "code",
   "execution_count": 174,
   "metadata": {
    "collapsed": false
   },
   "outputs": [
    {
     "data": {
      "text/plain": [
       "23.232000000000003"
      ]
     },
     "execution_count": 174,
     "metadata": {},
     "output_type": "execute_result"
    }
   ],
   "source": [
    "5.28*6.31\n",
    "5.28*4.4"
   ]
  },
  {
   "cell_type": "code",
   "execution_count": 177,
   "metadata": {
    "collapsed": false
   },
   "outputs": [
    {
     "data": {
      "text/html": [
       "&lt;Table masked=True length=1&gt;\n",
       "<table id=\"table140064724870224\" class=\"table-striped table-bordered table-condensed\">\n",
       "<thead><tr><th>OBJID</th><th>DR12objid_1</th><th>RA_1</th><th>DEC_1</th><th>petroMag_u_1</th><th>petroMag_g_1</th><th>petroMag_r_1</th><th>petroMag_i_1</th><th>petroMag_z_1</th><th>petroMagErr_u_1</th><th>petroMagErr_g_1</th><th>petroMagErr_r_1</th><th>petroMagErr_i_1</th><th>petroMagErr_z_1</th><th>extinction_u_1</th><th>extinction_g_1</th><th>extinction_r_1</th><th>extinction_i_1</th><th>extinction_z_1</th><th>petroFlux_u</th><th>petroFlux_g</th><th>petroFlux_r</th><th>petroFlux_i</th><th>petroFlux_z</th><th>petroRad_u</th><th>petroRad_g</th><th>petroRad_r</th><th>petroRad_i</th><th>petroRad_z</th><th>petroRadErr_u</th><th>petroRadErr_g</th><th>petroRadErr_r</th><th>petroRadErr_i</th><th>petroRadErr_z</th><th>petroR50_u</th><th>petror50_g</th><th>petror50_r</th><th>petror50_i_1</th><th>petror50_z</th><th>petroR90_u</th><th>petror90_g</th><th>petror90_r</th><th>petror90_i</th><th>petror90_z</th><th>survey_id</th><th>NUMBER</th><th>FLUX_AUTO</th><th>FLUXERR_AUTO</th><th>MAG_AUTO</th><th>MAGERR_AUTO</th><th>FLUX_PETRO</th><th>FLUXERR_PETRO</th><th>MAG_PETRO</th><th>MAGERR_PETRO</th><th>KRON_RADIUS</th><th>PETRO_RADIUS</th><th>BACKGROUND</th><th>THRESHOLD</th><th>ISOAREA_IMAGE</th><th>X_IMAGE</th><th>Y_IMAGE</th><th>X_WORLD</th><th>Y_WORLD</th><th>A_IMAGE</th><th>B_IMAGE</th><th>THETA_IMAGE</th><th>ELONGATION</th><th>ELLIPTICITY</th><th>pogson</th><th>asinh</th><th>AB</th><th>zooniverse_id</th><th>Table</th><th>DR7objid</th><th>DR12objid_2</th><th>RA_2</th><th>DEC_2</th><th>imaging</th><th>total_count</th><th>total_weight</th><th>t01_smooth_or_features_a01_smooth_fraction</th><th>t01_smooth_or_features_a01_smooth_weighted_fraction</th><th>t01_smooth_or_features_a01_smooth_flag</th><th>t01_smooth_or_features_a02_features_or_disk_fraction</th><th>t01_smooth_or_features_a02_features_or_disk_weighted_fraction</th><th>t01_smooth_or_features_a02_features_or_disk_flag</th><th>t01_smooth_or_features_a03_star_or_artifact_fraction</th><th>t01_smooth_or_features_a03_star_or_artifact_weighted_fraction</th><th>t01_smooth_or_features_a03_star_or_artifact_flag</th><th>t01_smooth_or_features_total_count</th><th>t01_smooth_or_features_total_weight</th><th>t02_edgeon_a01_yes_fraction</th><th>t02_edgeon_a01_yes_weighted_fraction</th><th>t02_edgeon_a02_no_fraction</th><th>t02_edgeon_a02_no_weighted_fraction</th><th>t02_edgeon_total_count</th><th>t02_edgeon_total_weight</th><th>t03_bar_a01_bar_fraction</th><th>t03_bar_a01_bar_weighted_fraction</th><th>t03_bar_a02_no_bar_fraction</th><th>t03_bar_a02_no_bar_weighted_fraction</th><th>t03_bar_total_count</th><th>t03_bar_total_weight</th><th>t04_spiral_a01_spiral_fraction</th><th>t04_spiral_a01_spiral_weighted_fraction</th><th>t04_spiral_a02_no_spiral_fraction</th><th>t04_spiral_a02_no_spiral_weighted_fraction</th><th>t04_spiral_total_count</th><th>t04_spiral_total_weight</th><th>t05_bulge_prominence_a01_no_bulge_fraction</th><th>t05_bulge_prominence_a01_no_bulge_weighted_fraction</th><th>t05_bulge_prominence_a02_just_noticeable_fraction</th><th>t05_bulge_prominence_a02_just_noticeable_weighted_fraction</th><th>t05_bulge_prominence_a03_obvious_fraction</th><th>t05_bulge_prominence_a03_obvious_weighted_fraction</th><th>t05_bulge_prominence_a04_dominant_fraction</th><th>t05_bulge_prominence_a04_dominant_weighted_fraction</th><th>t05_bulge_prominence_total_count</th><th>t05_bulge_prominence_total_weight</th><th>t06_odd_a01_yes_fraction</th><th>t06_odd_a01_yes_weighted_fraction</th><th>t06_odd_a02_no_fraction</th><th>t06_odd_a02_no_weighted_fraction</th><th>t06_odd_total_count</th><th>t06_odd_total_weight</th><th>t07_rounded_a01_completely_round_fraction</th><th>t07_rounded_a01_completely_round_weighted_fraction</th><th>t07_rounded_a02_in_between_fraction</th><th>t07_rounded_a02_in_between_weighted_fraction</th><th>t07_rounded_a03_cigar_shaped_fraction</th><th>t07_rounded_a03_cigar_shaped_weighted_fraction</th><th>t07_rounded_total_count</th><th>t07_rounded_total_weight</th><th>t08_odd_feature_a01_ring_fraction</th><th>t08_odd_feature_a01_ring_weighted_fraction</th><th>t08_odd_feature_a02_lens_or_arc_fraction</th><th>t08_odd_feature_a02_lens_or_arc_weighted_fraction</th><th>t08_odd_feature_a03_disturbed_fraction</th><th>t08_odd_feature_a03_disturbed_weighted_fraction</th><th>t08_odd_feature_a04_irregular_fraction</th><th>t08_odd_feature_a04_irregular_weighted_fraction</th><th>t08_odd_feature_a05_other_fraction</th><th>t08_odd_feature_a05_other_weighted_fraction</th><th>t08_odd_feature_a06_merger_fraction</th><th>t08_odd_feature_a06_merger_weighted_fraction</th><th>t08_odd_feature_a07_dust_lane_fraction</th><th>t08_odd_feature_a07_dust_lane_weighted_fraction</th><th>t08_odd_feature_total_count</th><th>t08_odd_feature_total_weight</th><th>t09_bulge_shape_a01_rounded_fraction</th><th>t09_bulge_shape_a01_rounded_weighted_fraction</th><th>t09_bulge_shape_a02_boxy_fraction</th><th>t09_bulge_shape_a02_boxy_weighted_fraction</th><th>t09_bulge_shape_a03_no_bulge_fraction</th><th>t09_bulge_shape_a03_no_bulge_weighted_fraction</th><th>t09_bulge_shape_total_count</th><th>t09_bulge_shape_total_weight</th><th>t10_arms_winding_a01_tight_fraction</th><th>t10_arms_winding_a01_tight_weighted_fraction</th><th>t10_arms_winding_a02_medium_fraction</th><th>t10_arms_winding_a02_medium_weighted_fraction</th><th>t10_arms_winding_a03_loose_fraction</th><th>t10_arms_winding_a03_loose_weighted_fraction</th><th>t10_arms_winding_total_count</th><th>t10_arms_winding_total_weight</th><th>t11_arms_number_a01_1_fraction</th><th>t11_arms_number_a01_1_weighted_fraction</th><th>t11_arms_number_a02_2_fraction</th><th>t11_arms_number_a02_2_weighted_fraction</th><th>t11_arms_number_a03_3_fraction</th><th>t11_arms_number_a03_3_weighted_fraction</th><th>t11_arms_number_a04_4_fraction</th><th>t11_arms_number_a04_4_weighted_fraction</th><th>t11_arms_number_a05_more_than_4_fraction</th><th>t11_arms_number_a05_more_than_4_weighted_fraction</th><th>t11_arms_number_a06_cant_tell_fraction</th><th>t11_arms_number_a06_cant_tell_weighted_fraction</th><th>t11_arms_number_total_count</th><th>t11_arms_number_total_weight</th><th>t12_clumpy_a01_yes_fraction</th><th>t12_clumpy_a01_yes_weighted_fraction</th><th>t12_clumpy_a02_no_fraction</th><th>t12_clumpy_a02_no_weighted_fraction</th><th>t12_clumpy_total_count</th><th>t12_clumpy_total_weight</th><th>t13_bright_clump_a01_yes_fraction</th><th>t13_bright_clump_a01_yes_weighted_fraction</th><th>t13_bright_clump_a02_no_fraction</th><th>t13_bright_clump_a02_no_weighted_fraction</th><th>t13_bright_clump_total_count</th><th>t13_bright_clump_total_weight</th><th>t14_bright_clump_central_a01_yes_fraction</th><th>t14_bright_clump_central_a01_yes_weighted_fraction</th><th>t14_bright_clump_central_a02_no_fraction</th><th>t14_bright_clump_central_a02_no_weighted_fraction</th><th>t14_bright_clump_central_total_count</th><th>t14_bright_clump_central_total_weight</th><th>t15_clumps_arrangement_a01_line_fraction</th><th>t15_clumps_arrangement_a01_line_weighted_fraction</th><th>t15_clumps_arrangement_a02_chain_fraction</th><th>t15_clumps_arrangement_a02_chain_weighted_fraction</th><th>t15_clumps_arrangement_a03_cluster_fraction</th><th>t15_clumps_arrangement_a03_cluster_weighted_fraction</th><th>t15_clumps_arrangement_a04_spiral_fraction</th><th>t15_clumps_arrangement_a04_spiral_weighted_fraction</th><th>t15_clumps_arrangement_total_count</th><th>t15_clumps_arrangement_total_weight</th><th>t16_clumps_count_a02_2_fraction</th><th>t16_clumps_count_a02_2_weighted_fraction</th><th>t16_clumps_count_a03_3_fraction</th><th>t16_clumps_count_a03_3_weighted_fraction</th><th>t16_clumps_count_a04_4_fraction</th><th>t16_clumps_count_a04_4_weighted_fraction</th><th>t16_clumps_count_a05_more_than_4_fraction</th><th>t16_clumps_count_a05_more_than_4_weighted_fraction</th><th>t16_clumps_count_a06_cant_tell_fraction</th><th>t16_clumps_count_a06_cant_tell_weighted_fraction</th><th>t16_clumps_count_a01_1_fraction</th><th>t16_clumps_count_a01_1_weighted_fraction</th><th>t16_clumps_count_total_count</th><th>t16_clumps_count_total_weight</th><th>t17_clumps_symmetrical_a01_yes_fraction</th><th>t17_clumps_symmetrical_a01_yes_weighted_fraction</th><th>t17_clumps_symmetrical_a02_no_fraction</th><th>t17_clumps_symmetrical_a02_no_weighted_fraction</th><th>t17_clumps_symmetrical_total_count</th><th>t17_clumps_symmetrical_total_weight</th><th>t18_clumps_embedded_a01_yes_fraction</th><th>t18_clumps_embedded_a01_yes_weighted_fraction</th><th>t18_clumps_embedded_a02_no_fraction</th><th>t18_clumps_embedded_a02_no_weighted_fraction</th><th>t18_clumps_embedded_total_count</th><th>t18_clumps_embedded_total_weight</th><th>location</th><th>true_clumpy</th><th>unique</th><th>ra1</th><th>dec1</th><th>separation</th><th>ra2</th><th>dec2</th><th>specObjID</th><th>petroMag_u_2</th><th>petroMag_g_2</th><th>petroMag_r_2</th><th>petroMag_i_2</th><th>petroMag_z_2</th><th>petroMagErr_u_2</th><th>petroMagErr_g_2</th><th>petroMagErr_r_2</th><th>petroMagErr_i_2</th><th>petroMagErr_z_2</th><th>extinction_u_2</th><th>extinction_g_2</th><th>extinction_r_2</th><th>extinction_i_2</th><th>extinction_z_2</th><th>petroR50_r</th><th>petroR50Err_r</th><th>petroR90_r</th><th>petroR90Err_r</th><th>petror50_i_2</th><th>petroR50Err_i</th><th>petroR90_i</th><th>petroR90Err_i</th><th>z</th><th>num_spec</th><th>z_avg</th><th>mag_u</th><th>mag_g</th><th>mag_r</th><th>mag_i</th><th>mag_z</th><th>int_id</th><th>both_imaging</th><th>run</th><th>rerun</th><th>camcol</th><th>field</th></tr></thead>\n",
       "<thead><tr><th>int64</th><th>int64</th><th>float64</th><th>float64</th><th>float64</th><th>float64</th><th>float64</th><th>float64</th><th>float64</th><th>float64</th><th>float64</th><th>float64</th><th>float64</th><th>float64</th><th>float64</th><th>float64</th><th>float64</th><th>float64</th><th>float64</th><th>float64</th><th>float64</th><th>float64</th><th>float64</th><th>float64</th><th>float64</th><th>float64</th><th>float64</th><th>float64</th><th>float64</th><th>float64</th><th>float64</th><th>float64</th><th>float64</th><th>float64</th><th>float64</th><th>float64</th><th>float64</th><th>float64</th><th>float64</th><th>float64</th><th>float64</th><th>float64</th><th>float64</th><th>float64</th><th>int64</th><th>int64</th><th>float64</th><th>float64</th><th>float64</th><th>float64</th><th>float64</th><th>float64</th><th>float64</th><th>float64</th><th>float64</th><th>float64</th><th>float64</th><th>float64</th><th>int64</th><th>float64</th><th>float64</th><th>float64</th><th>float64</th><th>float64</th><th>float64</th><th>float64</th><th>float64</th><th>float64</th><th>float64</th><th>float64</th><th>float64</th><th>str10</th><th>str11</th><th>int64</th><th>int64</th><th>float64</th><th>float64</th><th>str4</th><th>int64</th><th>float64</th><th>float64</th><th>float64</th><th>str5</th><th>float64</th><th>float64</th><th>str5</th><th>float64</th><th>float64</th><th>str5</th><th>int64</th><th>float64</th><th>float64</th><th>float64</th><th>float64</th><th>float64</th><th>int64</th><th>float64</th><th>float64</th><th>float64</th><th>float64</th><th>float64</th><th>int64</th><th>float64</th><th>float64</th><th>float64</th><th>float64</th><th>float64</th><th>int64</th><th>float64</th><th>float64</th><th>float64</th><th>float64</th><th>float64</th><th>float64</th><th>float64</th><th>float64</th><th>float64</th><th>int64</th><th>float64</th><th>float64</th><th>float64</th><th>float64</th><th>float64</th><th>int64</th><th>float64</th><th>float64</th><th>float64</th><th>float64</th><th>float64</th><th>float64</th><th>float64</th><th>int64</th><th>float64</th><th>float64</th><th>float64</th><th>float64</th><th>float64</th><th>float64</th><th>float64</th><th>float64</th><th>float64</th><th>float64</th><th>float64</th><th>float64</th><th>float64</th><th>float64</th><th>float64</th><th>int64</th><th>float64</th><th>float64</th><th>float64</th><th>float64</th><th>float64</th><th>float64</th><th>float64</th><th>int64</th><th>float64</th><th>float64</th><th>float64</th><th>float64</th><th>float64</th><th>float64</th><th>float64</th><th>int64</th><th>float64</th><th>float64</th><th>float64</th><th>float64</th><th>float64</th><th>float64</th><th>float64</th><th>float64</th><th>float64</th><th>float64</th><th>float64</th><th>float64</th><th>float64</th><th>int64</th><th>float64</th><th>float64</th><th>float64</th><th>float64</th><th>float64</th><th>int64</th><th>float64</th><th>float64</th><th>float64</th><th>float64</th><th>float64</th><th>int64</th><th>float64</th><th>float64</th><th>float64</th><th>float64</th><th>float64</th><th>int64</th><th>float64</th><th>float64</th><th>float64</th><th>float64</th><th>float64</th><th>float64</th><th>float64</th><th>float64</th><th>float64</th><th>int64</th><th>float64</th><th>float64</th><th>float64</th><th>float64</th><th>float64</th><th>float64</th><th>float64</th><th>float64</th><th>float64</th><th>float64</th><th>float64</th><th>float64</th><th>float64</th><th>int64</th><th>float64</th><th>float64</th><th>float64</th><th>float64</th><th>float64</th><th>int64</th><th>float64</th><th>float64</th><th>float64</th><th>float64</th><th>float64</th><th>int64</th><th>float64</th><th>str45</th><th>str4</th><th>str4</th><th>float64</th><th>float64</th><th>float64</th><th>float64</th><th>float64</th><th>int64</th><th>float64</th><th>float64</th><th>float64</th><th>float64</th><th>float64</th><th>float64</th><th>float64</th><th>float64</th><th>float64</th><th>float64</th><th>float64</th><th>float64</th><th>float64</th><th>float64</th><th>float64</th><th>float64</th><th>float64</th><th>float64</th><th>float64</th><th>float64</th><th>float64</th><th>float64</th><th>float64</th><th>float64</th><th>int64</th><th>float64</th><th>float64</th><th>float64</th><th>float64</th><th>float64</th><th>float64</th><th>int64</th><th>str5</th><th>int64</th><th>int64</th><th>int64</th><th>int64</th></tr></thead>\n",
       "<tr><td>587731186742722714</td><td>1237657191444054061</td><td>4.475896</td><td>0.3292831</td><td>18.3627</td><td>17.29627</td><td>16.94849</td><td>16.77175</td><td>17.04245</td><td>0.09400713</td><td>0.04680588</td><td>0.05061101</td><td>0.05273105</td><td>0.1103103</td><td>0.1418066</td><td>0.1043399</td><td>0.07567602</td><td>0.05738283</td><td>0.04068514</td><td>45.17687</td><td>120.6403</td><td>166.1894</td><td>195.5694</td><td>152.4084</td><td>6.110735</td><td>6.69001</td><td>6.592943</td><td>22.60107</td><td>5.360209</td><td>0.2029212</td><td>0.09800486</td><td>0.09766692</td><td>2.709289</td><td>0.2313649</td><td>3.114577</td><td>3.357478</td><td>3.246578</td><td>3.229048</td><td>2.361974</td><td>5.283886</td><td>6.765907</td><td>6.900503</td><td>7.552032</td><td>4.40931</td><td>587731186742722714</td><td>1</td><td>248.6927</td><td>2.802684</td><td>-5.9892</td><td>0.0122</td><td>257.0505</td><td>4.037265</td><td>-6.025</td><td>0.0171</td><td>3.79</td><td>5.94</td><td>0.002959102</td><td>0.04966145</td><td>962</td><td>46.9277</td><td>47.1923</td><td>4.4762110427</td><td>0.32965366722</td><td>10.153</td><td>6.957</td><td>31.48</td><td>1.459</td><td>0.315</td><td>16.4749538676</td><td>16.2649538676</td><td>16.2649538676</td><td>AHZ50004eb</td><td>sdss_single</td><td>587731186742722714</td><td>1237657191444054061</td><td>4.47589572</td><td>0.32928316</td><td>SDSS</td><td>237</td><td>225.427001953</td><td>0.273000001907</td><td>0.303999990225</td><td>false</td><td>0.476999998093</td><td>0.507000029087</td><td>false</td><td>0.25</td><td>0.187999993563</td><td>false</td><td>44</td><td>39.4199981689</td><td>0.111000001431</td><td>0.111000001431</td><td>0.888999998569</td><td>0.888999998569</td><td>9</td><td>9.0</td><td>0.125</td><td>0.125</td><td>0.875</td><td>0.875</td><td>8</td><td>8.0</td><td>0.5</td><td>0.5</td><td>0.5</td><td>0.5</td><td>8</td><td>8.0</td><td>0.25</td><td>0.25</td><td>0.25</td><td>0.25</td><td>0.375</td><td>0.375</td><td>0.125</td><td>0.125</td><td>8</td><td>8.0</td><td>0.78100001812</td><td>0.805999994278</td><td>0.218999996781</td><td>0.194000005722</td><td>32</td><td>31.0009994507</td><td>0.583000004292</td><td>0.583000004292</td><td>0.416999995708</td><td>0.416999995708</td><td>0.0</td><td>0.0</td><td>12</td><td>12.0</td><td>0.0</td><td>0.0</td><td>0.0</td><td>0.0</td><td>0.0399999991059</td><td>0.0399999991059</td><td>0.0</td><td>0.0</td><td>0.239999994636</td><td>0.239999994636</td><td>0.72000002861</td><td>0.72000002861</td><td>0.0</td><td>0.0</td><td>25</td><td>25.0</td><td>0.0</td><td>0.0</td><td>0.0</td><td>0.0</td><td>1.0</td><td>1.0</td><td>1</td><td>1.0</td><td>0.75</td><td>0.75</td><td>0.25</td><td>0.25</td><td>0.0</td><td>0.0</td><td>4</td><td>4.0</td><td>0.25</td><td>0.25</td><td>0.0</td><td>0.0</td><td>0.0</td><td>0.0</td><td>0.0</td><td>0.0</td><td>0.0</td><td>0.0</td><td>0.75</td><td>0.75</td><td>4</td><td>4.0</td><td>0.523999989033</td><td>0.5</td><td>0.476000010967</td><td>0.5</td><td>21</td><td>20.0009994507</td><td>0.818000018597</td><td>0.800000011921</td><td>0.181999996305</td><td>0.20000000298</td><td>11</td><td>10.0010004044</td><td>0.888999998569</td><td>0.875</td><td>0.111000001431</td><td>0.125</td><td>9</td><td>8.00099945068</td><td>0.125</td><td>0.125</td><td>0.375</td><td>0.375</td><td>0.5</td><td>0.5</td><td>0.0</td><td>0.0</td><td>8</td><td>8.0</td><td>0.273000001907</td><td>0.20000000298</td><td>0.0</td><td>0.0</td><td>0.0909999981523</td><td>0.10000000149</td><td>0.363999992609</td><td>0.40000000596</td><td>0.273000001907</td><td>0.300000011921</td><td>0.0</td><td>0.0</td><td>11</td><td>10.0009994507</td><td>0.455000013113</td><td>0.5</td><td>0.545000016689</td><td>0.5</td><td>11</td><td>10.0009994507</td><td>0.818000018597</td><td>0.899999976158</td><td>0.181999996305</td><td>0.10000000149</td><td>11</td><td>10.0010004044</td><td>http://s3.amazonaws.com/zoo2_extra/279482.jpg</td><td>true</td><td>true</td><td>4.47589588165</td><td>0.32928314805</td><td>0.00198017699039</td><td>4.47592464839</td><td>0.329299325091</td><td>439197202812790784</td><td>18.3627</td><td>17.29627</td><td>16.94849</td><td>16.77175</td><td>17.04245</td><td>0.09400713</td><td>0.04680588</td><td>0.05061101</td><td>0.05273105</td><td>0.1103103</td><td>0.1418066</td><td>0.1043399</td><td>0.07567602</td><td>0.05738283</td><td>0.04068514</td><td>3.246578</td><td>0.1292466</td><td>6.900503</td><td>0.9652478</td><td>3.229048</td><td>0.1434199</td><td>7.552032</td><td>1.543514</td><td>0.01768062</td><td>2</td><td>0.01788173</td><td>--</td><td>--</td><td>--</td><td>--</td><td>--</td><td>54341</td><td>true</td><td>2728</td><td>301</td><td>4</td><td>443</td></tr>\n",
       "</table>"
      ],
      "text/plain": [
       "<Table masked=True length=1>\n",
       "      OBJID            DR12objid_1       RA_1     DEC_1   ... rerun camcol field\n",
       "      int64               int64        float64   float64  ... int64 int64  int64\n",
       "------------------ ------------------- -------- --------- ... ----- ------ -----\n",
       "587731186742722714 1237657191444054061 4.475896 0.3292831 ...   301      4   443"
      ]
     },
     "execution_count": 177,
     "metadata": {},
     "output_type": "execute_result"
    }
   ],
   "source": [
    "# THIS ONE IS THE WRONG SPECTRUM! \n",
    "# This little guy is an offshoot of a bigger, spiral galaxy and the spectrum\n",
    "# I have is for the center of the bigger spiral galaxy. \n",
    "data[data['OBJID'] == 587731186742722714]"
   ]
  },
  {
   "cell_type": "markdown",
   "metadata": {},
   "source": [
    "# Let's see how the distance compares with H$\\alpha$"
   ]
  },
  {
   "cell_type": "code",
   "execution_count": 208,
   "metadata": {
    "collapsed": true
   },
   "outputs": [],
   "source": [
    "# Read in emission line catalog\n",
    "emission = Table.read('../data/2017-01-30_emission_line_catalog.csv')"
   ]
  },
  {
   "cell_type": "code",
   "execution_count": 221,
   "metadata": {
    "collapsed": false
   },
   "outputs": [],
   "source": [
    "goodspec = (emission['norm_clump_dist']>0) & (emission['norm_clump_dist'] < 5)\n"
   ]
  },
  {
   "cell_type": "code",
   "execution_count": 219,
   "metadata": {
    "collapsed": false
   },
   "outputs": [
    {
     "data": {
      "text/plain": [
       "<matplotlib.text.Text at 0x7f63560d1dd0>"
      ]
     },
     "execution_count": 219,
     "metadata": {},
     "output_type": "execute_result"
    },
    {
     "data": {
      "image/png": "[encoded data removed]",
      "text/plain": [
       "<matplotlib.figure.Figure at 0x7f63562b8a90>"
      ]
     },
     "metadata": {},
     "output_type": "display_data"
    }
   ],
   "source": [
    "plt.scatter(emission[goodspec]['norm_clump_dist'], \n",
    "            emission[goodspec]['Ha_LINEEW'], marker='^')\n",
    "plt.xlabel(r'D$_{\\mathrm{clump}}$ / R$_{50}$', fontsize=18)\n",
    "plt.ylabel(r'H$\\alpha$ EW', fontsize=18)"
   ]
  },
  {
   "cell_type": "code",
   "execution_count": null,
   "metadata": {
    "collapsed": true
   },
   "outputs": [],
   "source": [
    "# Correct Halpha EW for z "
   ]
  },
  {
   "cell_type": "code",
   "execution_count": null,
   "metadata": {
    "collapsed": true
   },
   "outputs": [],
   "source": [
    "# Confirm that clump distances make sense compared to galaxy centers\n",
    "# Are their AGN?\n",
    "# Color-code by gal color b-v, for example\n",
    "# What's with the low Ha-large clump distance? Mergers? \n",
    "\n",
    "\n",
    "# Composite-model templates? (old+young components)"
   ]
  }
 ],
 "metadata": {
  "kernelspec": {
   "display_name": "Python 2",
   "language": "python",
   "name": "python2"
  },
  "language_info": {
   "codemirror_mode": {
    "name": "ipython",
    "version": 2
   },
   "file_extension": ".py",
   "mimetype": "text/x-python",
   "name": "python",
   "nbconvert_exporter": "python",
   "pygments_lexer": "ipython2",
   "version": "2.7.13"
  }
 },
 "nbformat": 4,
 "nbformat_minor": 2
}
