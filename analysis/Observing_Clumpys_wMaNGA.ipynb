{
 "cells": [
  {
   "cell_type": "code",
   "execution_count": 1,
   "metadata": {
    "collapsed": false
   },
   "outputs": [
    {
     "name": "stderr",
     "output_type": "stream",
     "text": [
      "/home/oxymoronic/.local/lib/python2.7/site-packages/IPython/kernel/__init__.py:13: ShimWarning: The `IPython.kernel` package has been deprecated. You should import from ipykernel or jupyter_client instead.\n",
      "  \"You should import from ipykernel or jupyter_client instead.\", ShimWarning)\n"
     ]
    }
   ],
   "source": [
    "from astropy.table import Table\n",
    "import matplotlib.pyplot as plt\n",
    "import numpy as np\n",
    "%matplotlib inline"
   ]
  },
  {
   "cell_type": "code",
   "execution_count": 2,
   "metadata": {
    "collapsed": false
   },
   "outputs": [],
   "source": [
    "coords = Table.read('../data/clumpy_coadd_lowz_coords.csv',format='ascii.csv')"
   ]
  },
  {
   "cell_type": "markdown",
   "metadata": {},
   "source": [
    "### MaNGA observation window\n",
    "\n",
    "1. If the ancillary program is concerned with image quality of the data cube, then we recommend you use the visibility window used by the MaNGA main program to select fields. Our visibility window is always centered at HA=0 and its length depends on Declination of the fields using the following formula. The field to be observed need to be visible for at least 1 hour between 4.25 < LST < 5.125\n",
    "\n",
    "half_window (hour) = c0 + c1 * Dec + c2 * Dec^2 + c3 * Dec^3 + c4 * Dec^4 + c5 * Dec^5\n",
    "\n",
    "c0=1.78693\n",
    "c1 =0.0663050\n",
    "c2 =-0.00174096\n",
    "c3=  2.62002d-05\n",
    "c4=  -1.03959d-07\n",
    "c5=  -1.49150d-09"
   ]
  },
  {
   "cell_type": "code",
   "execution_count": 3,
   "metadata": {
    "collapsed": true
   },
   "outputs": [],
   "source": [
    "def get_obs_hour(dec):\n",
    "    c = np.array([1.78693, 0.0663050, -0.00174096, 2.62002e-05, \n",
    "                  -1.03959e-07, -1.49150e-09], dtype='float64')\n",
    "    return c[0] + c[1]*dec + c[2]*dec**2 + c[3]*dec**3 + c[4]*dec**4 + c[5]*dec**5"
   ]
  },
  {
   "cell_type": "code",
   "execution_count": 4,
   "metadata": {
    "collapsed": false
   },
   "outputs": [
    {
     "data": {
      "text/plain": [
       "2.9115421600000007"
      ]
     },
     "execution_count": 4,
     "metadata": {},
     "output_type": "execute_result"
    }
   ],
   "source": [
    "get_obs_hour(40)"
   ]
  },
  {
   "cell_type": "code",
   "execution_count": 5,
   "metadata": {
    "collapsed": false
   },
   "outputs": [
    {
     "name": "stdout",
     "output_type": "stream",
     "text": [
      "25.6077249307 26.1188502516\n"
     ]
    }
   ],
   "source": [
    "hour_angles = []\n",
    "for dec in coords['DEC']:\n",
    "    hour_angles.append(get_obs_hour(dec))\n",
    "print min(hour_angles)*15, max(hour_angles)*14"
   ]
  },
  {
   "cell_type": "code",
   "execution_count": 6,
   "metadata": {
    "collapsed": false
   },
   "outputs": [
    {
     "name": "stdout",
     "output_type": "stream",
     "text": [
      "63.75\n",
      "76.8\n"
     ]
    }
   ],
   "source": [
    "LST_low = 4.25\n",
    "LST_high = 5.12\n",
    "\n",
    "#print LST_low - np.array(hour_angles)\n",
    "#print LST_high - np.array(hour_angles) \n",
    "\n",
    "print LST_low*15\n",
    "print LST_high*15"
   ]
  },
  {
   "cell_type": "code",
   "execution_count": 7,
   "metadata": {
    "collapsed": false
   },
   "outputs": [
    {
     "name": "stdout",
     "output_type": "stream",
     "text": [
      "gal1 347.674886974 -1.1635266424\n",
      "gal2 0.0134496078572 -1.11301344627\n",
      "gal3 11.3900105588 -1.10320694363\n",
      "gal4 19.5120156665 -1.16639806267\n",
      "gal5 23.422484363 -1.15828552915\n",
      "gal6 331.692233711 -0.688165251715\n",
      "gal7 23.7165225942 -0.648426113748\n",
      "gal8 28.4966290311 -0.750265642612\n",
      "gal9 37.8842585373 -0.727643878209\n",
      "gal10 45.2680576364 -0.745945168392\n",
      "gal11 312.717125024 -0.322558260454\n",
      "gal12 341.697422004 -0.263852447786\n",
      "gal13 43.3553591261 -0.232410857381\n",
      "gal14 46.5569686912 -0.340464036724\n",
      "gal15 20.3388396727 0.0904044422186\n",
      "gal16 7.94801601777 0.558744343076\n",
      "gal17 342.597000913 0.877534266721\n",
      "gal18 14.7311087185 1.00489384244\n",
      "gal19 18.4146132981 0.874948669201\n",
      "gal20 327.798620954 -0.94364982544\n",
      "gal21 349.373330859 -0.851047751971\n",
      "gal22 350.146593271 -0.880891750831\n",
      "gal23 355.184623256 -0.887433930972\n",
      "gal24 41.7961078634 -1.04194893913\n",
      "gal25 48.221058735 -1.02473848955\n",
      "gal26 344.518573383 -0.462271470065\n",
      "gal27 4.88010828013 -0.602958914671\n",
      "gal28 34.7491752316 -0.601293637275\n",
      "gal29 49.025654088 -0.438734853982\n",
      "gal30 311.711952856 -0.0974314844148\n",
      "gal31 351.096182727 -0.108454318217\n",
      "gal32 43.7982190153 -0.180312254226\n",
      "gal33 4.47584924974 0.329271107099\n",
      "gal34 13.2408253683 0.368770143749\n",
      "gal35 35.6238347935 0.382677879269\n",
      "gal36 35.9008131286 0.225625084715\n",
      "gal37 56.5286358937 0.39028267659\n",
      "gal38 340.993812099 0.673813769862\n",
      "gal39 22.5146262018 0.743329351758\n",
      "gal40 32.2014764304 0.800366123908\n",
      "gal41 349.50563639 1.08700795325\n",
      "gal42 33.0017406609 1.22569405112\n",
      "gal43 40.2004051705 1.10487412441\n",
      "gal44 47.6172490903 1.09768867523\n",
      "gal45 57.28802417 1.16300076533\n"
     ]
    }
   ],
   "source": [
    "gal=1\n",
    "for coord in coords:\n",
    "    print \"gal{0}\".format(gal), coord[0], coord[1]\n",
    "    gal+=1"
   ]
  },
  {
   "cell_type": "code",
   "execution_count": null,
   "metadata": {
    "collapsed": true
   },
   "outputs": [],
   "source": []
  }
 ],
 "metadata": {
  "kernelspec": {
   "display_name": "Python 2",
   "language": "python",
   "name": "python2"
  },
  "language_info": {
   "codemirror_mode": {
    "name": "ipython",
    "version": 2
   },
   "file_extension": ".py",
   "mimetype": "text/x-python",
   "name": "python",
   "nbconvert_exporter": "python",
   "pygments_lexer": "ipython2",
   "version": "2.7.6"
  }
 },
 "nbformat": 4,
 "nbformat_minor": 0
}
