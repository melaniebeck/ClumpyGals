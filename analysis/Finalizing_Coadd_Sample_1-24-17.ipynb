{
 "cells": [
  {
   "cell_type": "code",
   "execution_count": 2,
   "metadata": {
    "collapsed": true
   },
   "outputs": [],
   "source": [
    "from astropy.table import Table, join\n",
    "from astropy.coordinates import SkyCoord\n",
    "from astropy import units as u\n",
    "import numpy as np\n",
    "import matplotlib.pyplot as plt\n",
    "import matplotlib\n",
    "%matplotlib inline"
   ]
  },
  {
   "cell_type": "markdown",
   "metadata": {},
   "source": [
    "## Read in clumpy data -- Contains everything but dupes are marked"
   ]
  },
  {
   "cell_type": "code",
   "execution_count": 2,
   "metadata": {
    "collapsed": false
   },
   "outputs": [],
   "source": [
    "clumpy_coadd = Table.read('../data/gzh_sdss_strictclumpy_coadd.fits')    \n",
    "#print clumpy_coadd.colnames\n",
    "\n",
    "clumpy_single = Table.read('../data/gzh_sdss_strictclumpy_single.fits')\n",
    "clumpy_single = clumpy_single[clumpy_single['unique']==True]"
   ]
  },
  {
   "cell_type": "markdown",
   "metadata": {},
   "source": [
    "## Found a couple dupes labeled as unique -- fixing it"
   ]
  },
  {
   "cell_type": "code",
   "execution_count": 20,
   "metadata": {
    "collapsed": false
   },
   "outputs": [
    {
     "name": "stdout",
     "output_type": "stream",
     "text": [
      "[77]\n",
      "     survey_id            RA            DEC        unique\n",
      "------------------- ------------- ---------------- ------\n",
      "8647475120901062768 351.093555154  -0.104282932131  False\n",
      "8647475120901062769  351.10157944 -0.0999749121353   True\n",
      "8647475120914366651 21.5514325682 -0.0246489616184   True\n",
      "[79]\n",
      "     survey_id            RA            DEC        unique\n",
      "------------------- ------------- ---------------- ------\n",
      "8647475120914366651 21.5514325682 -0.0246489616184   True\n",
      "8647475120924131434 43.7817355953  -0.176948801486   True\n",
      "8647475120924131439 43.7982190153  -0.180312254226   True\n"
     ]
    }
   ],
   "source": [
    "# This has already been fixed -- don't run this cell again.\n",
    "#dupes = [8647475120901062769, 8647475120924131434]\n",
    "#for dupe in dupes:\n",
    "#    loc = np.where(clumpy_coadd['survey_id']==str(dupe))[0]\n",
    "#    print loc\n",
    "#    print clumpy_coadd['survey_id','RA','DEC','unique'][loc-1:loc+2]\n",
    "    \n",
    "#clumpy_coadd['unique'][np.where(clumpy_coadd['survey_id']==str(8647475120901062768))]=True\n",
    "#clumpy_coadd['unique'][np.where(clumpy_coadd['survey_id']==str(8647475120901062769))]=False\n",
    "#clumpy_coadd['unique'][np.where(clumpy_coadd['survey_id']==str(8647475120924131434))]=False\n",
    "\n",
    "# Save the adjusted catalog \n",
    "#clumpy_coadd.write('../data/gzh_sdss_strictclumpy_coadd.fits', overwrite=True)"
   ]
  },
  {
   "cell_type": "code",
   "execution_count": 3,
   "metadata": {
    "collapsed": false
   },
   "outputs": [],
   "source": [
    "clumpy_coadd = clumpy_coadd[clumpy_coadd['unique']==True]"
   ]
  },
  {
   "cell_type": "code",
   "execution_count": 4,
   "metadata": {
    "collapsed": false
   },
   "outputs": [
    {
     "name": "stdout",
     "output_type": "stream",
     "text": [
      "Total clumpy galaxies (coadd-depth): 92\n",
      "Total clumpy galaxies (single-depth): 105\n"
     ]
    }
   ],
   "source": [
    "print \"Total clumpy galaxies (coadd-depth):\",len(clumpy_coadd)\n",
    "print \"Total clumpy galaxies (single-depth):\", len(clumpy_single)"
   ]
  },
  {
   "cell_type": "markdown",
   "metadata": {},
   "source": [
    "## Match clumpy catalogs with DR12 ancillary data"
   ]
  },
  {
   "cell_type": "code",
   "execution_count": 5,
   "metadata": {
    "collapsed": true
   },
   "outputs": [],
   "source": [
    "dr12_single = Table.read('../../GalaxyZoo/catalogs/GZ2_DR12_Single_Primary_highzgal.csv')\n",
    "dr12_coadd = Table.read('../../GalaxyZoo/catalogs/GZ2_DR12_Coadd_Primary_highzgal.csv')"
   ]
  },
  {
   "cell_type": "code",
   "execution_count": 6,
   "metadata": {
    "collapsed": false,
    "scrolled": true
   },
   "outputs": [],
   "source": [
    "# Need to recast the survey_id as an INT and give it a more useful colname\n",
    "clumpy_single['DR7objid'] = [int(i) for i in clumpy_single['survey_id']]\n",
    "clumpy_single_dr12 = join(clumpy_single, dr12_single, keys='DR7objid')\n",
    "\n",
    "clumpy_coadd['DR7objid'] = [int(i) for i in clumpy_coadd['survey_id']]\n",
    "clumpy_coadd_dr12 = join(clumpy_coadd, dr12_coadd, keys='DR7objid')"
   ]
  },
  {
   "cell_type": "code",
   "execution_count": 34,
   "metadata": {
    "collapsed": false
   },
   "outputs": [
    {
     "data": {
      "text/plain": [
       "['int_id',\n",
       " 'ra1',\n",
       " 'dec1',\n",
       " 'DR7objid',\n",
       " 'DR12objid',\n",
       " 'separation',\n",
       " 'ra2',\n",
       " 'dec2',\n",
       " 'specObjID',\n",
       " 'petroMag_u',\n",
       " 'petroMag_g',\n",
       " 'petroMag_r',\n",
       " 'petroMag_i',\n",
       " 'petroMag_z',\n",
       " 'petroMagErr_u',\n",
       " 'petroMagErr_g',\n",
       " 'petroMagErr_r',\n",
       " 'petroMagErr_i',\n",
       " 'petroMagErr_z',\n",
       " 'extinction_u',\n",
       " 'extinction_g',\n",
       " 'extinction_r',\n",
       " 'extinction_i',\n",
       " 'extinction_z',\n",
       " 'petroR50_r',\n",
       " 'petroR50Err_r',\n",
       " 'petroR90_r',\n",
       " 'petroR90Err_r',\n",
       " 'petror50_i',\n",
       " 'petroR50Err_i',\n",
       " 'petroR90_i',\n",
       " 'petroR90Err_i',\n",
       " 'z']"
      ]
     },
     "execution_count": 34,
     "metadata": {},
     "output_type": "execute_result"
    }
   ],
   "source": [
    "dr12_single.colnames"
   ]
  },
  {
   "cell_type": "code",
   "execution_count": 7,
   "metadata": {
    "collapsed": false,
    "scrolled": false
   },
   "outputs": [
    {
     "name": "stdout",
     "output_type": "stream",
     "text": [
      "Single depth without redshift: 9\n",
      "Coadd depth without redshift: 16\n"
     ]
    }
   ],
   "source": [
    "redshift1, redshift2 = [], []\n",
    "\n",
    "for z in clumpy_single_dr12['z']:\n",
    "    try:\n",
    "        redshift1.append(float(z))\n",
    "    except:\n",
    "        redshift1.append(np.nan)\n",
    "        \n",
    "for z in clumpy_coadd_dr12['z']:\n",
    "    try:\n",
    "        redshift2.append(float(z))\n",
    "    except:\n",
    "        redshift2.append(np.nan)\n",
    "\n",
    "clumpy_single_dr12['z'] = redshift1\n",
    "clumpy_coadd_dr12['z'] = redshift2\n",
    "\n",
    "print \"Single depth without redshift:\", np.sum(np.isnan(np.array(redshift1)))\n",
    "print \"Coadd depth without redshift:\", np.sum(np.isnan(np.array(redshift2)))"
   ]
  },
  {
   "cell_type": "markdown",
   "metadata": {
    "collapsed": true
   },
   "source": [
    "## Of the coadd-depth, how many are actually missing spectra? "
   ]
  },
  {
   "cell_type": "code",
   "execution_count": 8,
   "metadata": {
    "collapsed": false,
    "scrolled": true
   },
   "outputs": [
    {
     "data": {
      "text/html": [
       "&lt;Table masked=True length=16&gt;\n",
       "<table id=\"table140429155846480\" class=\"table-striped table-bordered table-condensed\">\n",
       "<thead><tr><th>DR7objid</th><th>ra1</th><th>dec1</th></tr></thead>\n",
       "<thead><tr><th>int64</th><th>float64</th><th>float64</th></tr></thead>\n",
       "<tr><td>8647474690327511467</td><td>344.106140137</td><td>-1.20750248432</td></tr>\n",
       "<tr><td>8647474690339438846</td><td>11.3885126114</td><td>-1.10587835312</td></tr>\n",
       "<tr><td>8647474690891186220</td><td>45.2680587769</td><td>-0.745945155621</td></tr>\n",
       "<tr><td>8647474691428581676</td><td>46.556968689</td><td>-0.340464025736</td></tr>\n",
       "<tr><td>8647474692485415569</td><td>7.94801616669</td><td>0.558744370937</td></tr>\n",
       "<tr><td>8647474692508025103</td><td>59.5210876465</td><td>0.608293354511</td></tr>\n",
       "<tr><td>8647474693000135292</td><td>317.311187744</td><td>0.983827054501</td></tr>\n",
       "<tr><td>8647474693026873809</td><td>18.4146137238</td><td>0.874948680401</td></tr>\n",
       "<tr><td>8647475119817098026</td><td>327.798614502</td><td>-0.943649828434</td></tr>\n",
       "<tr><td>8647475120370221119</td><td>4.88010835648</td><td>-0.602958917618</td></tr>\n",
       "<tr><td>8647475120901062764</td><td>351.096191406</td><td>-0.108454316854</td></tr>\n",
       "<tr><td>8647475120901062768</td><td>351.093566895</td><td>-0.104282930493</td></tr>\n",
       "<tr><td>8647475120924131439</td><td>43.7982177734</td><td>-0.180312260985</td></tr>\n",
       "<tr><td>8647475120930947191</td><td>59.3843383789</td><td>-0.0131858661771</td></tr>\n",
       "<tr><td>8647475122500272195</td><td>325.012054443</td><td>1.21679210663</td></tr>\n",
       "<tr><td>8647475122540642445</td><td>57.2880249023</td><td>1.16300082207</td></tr>\n",
       "</table>"
      ],
      "text/plain": [
       "<Table masked=True length=16>\n",
       "      DR7objid           ra1            dec1      \n",
       "       int64           float64        float64     \n",
       "------------------- ------------- ----------------\n",
       "8647474690327511467 344.106140137   -1.20750248432\n",
       "8647474690339438846 11.3885126114   -1.10587835312\n",
       "8647474690891186220 45.2680587769  -0.745945155621\n",
       "8647474691428581676  46.556968689  -0.340464025736\n",
       "8647474692485415569 7.94801616669   0.558744370937\n",
       "8647474692508025103 59.5210876465   0.608293354511\n",
       "8647474693000135292 317.311187744   0.983827054501\n",
       "8647474693026873809 18.4146137238   0.874948680401\n",
       "8647475119817098026 327.798614502  -0.943649828434\n",
       "8647475120370221119 4.88010835648  -0.602958917618\n",
       "8647475120901062764 351.096191406  -0.108454316854\n",
       "8647475120901062768 351.093566895  -0.104282930493\n",
       "8647475120924131439 43.7982177734  -0.180312260985\n",
       "8647475120930947191 59.3843383789 -0.0131858661771\n",
       "8647475122500272195 325.012054443    1.21679210663\n",
       "8647475122540642445 57.2880249023    1.16300082207"
      ]
     },
     "execution_count": 8,
     "metadata": {},
     "output_type": "execute_result"
    }
   ],
   "source": [
    "clumpy_coadd_dr12['DR7objid','ra1', 'dec1'][np.isnan(clumpy_coadd_dr12['z'])]"
   ]
  },
  {
   "cell_type": "markdown",
   "metadata": {},
   "source": [
    "## Of the coadd-depth, only 4 of the 16 truly don't have spectra\n",
    "\n",
    "8647474690327511467\n",
    "\n",
    "8647474692508025103\n",
    "\n",
    "8647475120930947191 \n",
    "\n",
    "8647475122500272195\n",
    "\n",
    "FIXED ABOVE: \n",
    "Duplicate: 8647475120901062769, 8647475120924131434"
   ]
  },
  {
   "cell_type": "markdown",
   "metadata": {},
   "source": [
    "## Of the single-depth, only two of the 9 truly don't have spectra\n",
    "(According to SDSS DR12 Navigator)\n",
    "\n",
    "587731185661575564\n",
    "\n",
    "587731512623562859\n",
    "\n",
    "Find the missing spectra! Are they in GZ2 DR7? "
   ]
  },
  {
   "cell_type": "markdown",
   "metadata": {
    "collapsed": true
   },
   "source": [
    "## Re-selected from CasJobs the spectra within 30\" for each of our clumpy galaxies in both coadd and single depth imaging"
   ]
  },
  {
   "cell_type": "code",
   "execution_count": 8,
   "metadata": {
    "collapsed": true
   },
   "outputs": [],
   "source": [
    "coadd_spec = Table.read('../data/CasJobsDLs/clumpy_coadd_spectra_highzgal.csv')\n",
    "single_spec = Table.read('../data/CasJobsDLs/clumpy_single_spectra_highzgal.csv')"
   ]
  },
  {
   "cell_type": "code",
   "execution_count": 9,
   "metadata": {
    "collapsed": false
   },
   "outputs": [
    {
     "name": "stdout",
     "output_type": "stream",
     "text": [
      "87\n",
      "set([8647475120901062768, 8647474692508025103, 8647475122500272195, 8647474690327511467, 8647475120930947191])\n"
     ]
    }
   ],
   "source": [
    "coadd_gals = {'objid':[], 'ra':[], 'dec':[], 'num_spec':[], 'z_avg':[], 'z_sig':[]}\n",
    "coadd_grpd = coadd_spec.group_by('OBJID') \n",
    "\n",
    "for grp in coadd_grpd.groups:\n",
    "    coadd_gals['objid'].append(grp['OBJID'][0])\n",
    "    coadd_gals['num_spec'].append(len(grp))\n",
    "    coadd_gals['ra'].append(grp['RA'][0])\n",
    "    coadd_gals['dec'].append(grp['DEC'][0])\n",
    "    coadd_gals['z_avg'].append(np.mean(grp['z']))\n",
    "    coadd_gals['z_sig'].append(np.std(grp['z']))\n",
    "    \n",
    "print len(coadd_gals['objid'])\n",
    "\n",
    "# How well do these match up to our list of no-redshift gals above?\n",
    "nomatch = set(clumpy_coadd_dr12['DR7objid'])- set(coadd_gals['objid'])\n",
    "print nomatch\n"
   ]
  },
  {
   "cell_type": "markdown",
   "metadata": {},
   "source": [
    "## Spectra I found seem to match up (coadd)\n",
    "I've compared the list of objids for galaxies which truly don't have spectra according to SDSS DR12 Navigator and they are all found in the nomatch list. Additionally, the spectra list I have doesn't have a 5th objid but that's because it is an objid of a duplicate object and I decided I like the other RA/DEC better. Therefore, I should have redshifts for everything once I combine these catalogs.\n",
    "\n",
    "8647475120901062768 <--> 8647475120901062769"
   ]
  },
  {
   "cell_type": "markdown",
   "metadata": {},
   "source": [
    "## Go through the spectra and remove those that aren't associated"
   ]
  },
  {
   "cell_type": "code",
   "execution_count": 11,
   "metadata": {
    "collapsed": false
   },
   "outputs": [
    {
     "data": {
      "text/plain": [
       "<matplotlib.text.Text at 0x7fb835beea90>"
      ]
     },
     "execution_count": 11,
     "metadata": {},
     "output_type": "execute_result"
    },
    {
     "data": {
      "image/png": "[encoded data removed]",
      "text/plain": [
       "<matplotlib.figure.Figure at 0x7fb835f8a2d0>"
      ]
     },
     "metadata": {},
     "output_type": "display_data"
    }
   ],
   "source": [
    "# Obvious places to look for \"wrong\" spectra\n",
    "\n",
    "fig = plt.figure(figsize=(6,3))\n",
    "ax = fig.add_subplot(121)\n",
    "ax.hist(coadd_gals['z_sig'], bins=20)\n",
    "ax.set_xlabel('z sigma')\n",
    "\n",
    "ax = fig.add_subplot(122)\n",
    "ax.hist(coadd_spec['z'], bins=20)\n",
    "ax.set_xlabel('z')\n",
    "ax.text(0.15, 60, 'z < 0: '+str(np.sum(coadd_spec['z']<=0.)))"
   ]
  },
  {
   "cell_type": "code",
   "execution_count": 14,
   "metadata": {
    "collapsed": false
   },
   "outputs": [
    {
     "data": {
      "text/html": [
       "&lt;Table length=10&gt;\n",
       "<table id=\"table140429155054480\" class=\"table-striped table-bordered table-condensed\">\n",
       "<thead><tr><th>objid</th><th>ra</th><th>dec</th><th>num_spec</th><th>z_avg</th><th>z_sig</th></tr></thead>\n",
       "<thead><tr><th>int64</th><th>float64</th><th>float64</th><th>int64</th><th>float64</th><th>float64</th></tr></thead>\n",
       "<tr><td>8647474690891186220</td><td>45.26806</td><td>-0.7459452</td><td>4</td><td>0.0525024635</td><td>0.0757887455766</td></tr>\n",
       "<tr><td>8647474691421700189</td><td>30.75459</td><td>-0.2727283</td><td>2</td><td>0.02369529428</td><td>0.02365152572</td></tr>\n",
       "<tr><td>8647474693019795713</td><td>2.135657</td><td>1.039021</td><td>3</td><td>0.13456656</td><td>0.0917990133779</td></tr>\n",
       "<tr><td>8647474693040701887</td><td>49.95135</td><td>0.9330298</td><td>3</td><td>0.19026659</td><td>0.139930491735</td></tr>\n",
       "<tr><td>8647475120353641569</td><td>327.0714</td><td>-0.5146422</td><td>3</td><td>0.21178037</td><td>0.214325833619</td></tr>\n",
       "<tr><td>8647475120369369145</td><td>2.916573</td><td>-0.4739119</td><td>3</td><td>0.0381182310333</td><td>0.0271455568004</td></tr>\n",
       "<tr><td>8647475120390864910</td><td>51.98473</td><td>-0.471713</td><td>2</td><td>0.0811687029</td><td>0.0810425971</td></tr>\n",
       "<tr><td>8647475121445732615</td><td>9.002549</td><td>0.2758846</td><td>2</td><td>0.13901236</td><td>0.06589694</td></tr>\n",
       "<tr><td>8647475121466572880</td><td>56.52864</td><td>0.3902827</td><td>3</td><td>0.14432717</td><td>0.16056468704</td></tr>\n",
       "<tr><td>8647475122521374826</td><td>13.2528</td><td>1.109415</td><td>2</td><td>0.0392071377</td><td>0.0393802723</td></tr>\n",
       "</table>"
      ],
      "text/plain": [
       "<Table length=10>\n",
       "       objid           ra       dec     num_spec      z_avg           z_sig     \n",
       "       int64        float64   float64    int64       float64         float64    \n",
       "------------------- -------- ---------- -------- --------------- ---------------\n",
       "8647474690891186220 45.26806 -0.7459452        4    0.0525024635 0.0757887455766\n",
       "8647474691421700189 30.75459 -0.2727283        2   0.02369529428   0.02365152572\n",
       "8647474693019795713 2.135657   1.039021        3      0.13456656 0.0917990133779\n",
       "8647474693040701887 49.95135  0.9330298        3      0.19026659  0.139930491735\n",
       "8647475120353641569 327.0714 -0.5146422        3      0.21178037  0.214325833619\n",
       "8647475120369369145 2.916573 -0.4739119        3 0.0381182310333 0.0271455568004\n",
       "8647475120390864910 51.98473  -0.471713        2    0.0811687029    0.0810425971\n",
       "8647475121445732615 9.002549  0.2758846        2      0.13901236      0.06589694\n",
       "8647475121466572880 56.52864  0.3902827        3      0.14432717   0.16056468704\n",
       "8647475122521374826  13.2528   1.109415        2    0.0392071377    0.0393802723"
      ]
     },
     "execution_count": 14,
     "metadata": {},
     "output_type": "execute_result"
    }
   ],
   "source": [
    "coadd_gals['z_sig'] = np.array(coadd_gals['z_sig'])\n",
    "mask = coadd_gals['z_sig']>=0.02\n",
    "\n",
    "coadd_gals = Table(coadd_gals)\n",
    "coadd_gals['objid','ra','dec', 'num_spec', 'z_avg', 'z_sig'][mask]"
   ]
  },
  {
   "cell_type": "markdown",
   "metadata": {},
   "source": [
    "## Coadd spectra exploration\n",
    "-----------------\n",
    "### Spectra mis-match (z_sig > 0.02)\n",
    "1. 8647474690891186220: \n",
    "    1. need 4 spec; one is diff gal \n",
    "    2. removed specObjID 1759850872969390080, need specObjID 903047629993175040)\n",
    "    3. Found that spectrum! It's in the single-depth spectra list\n",
    "    \n",
    "2. 8647474691421700189: \n",
    "    1. should only have one spectra \n",
    "    2. removed specObjID 789273738318211072\n",
    "    \n",
    "3. 8647474693019795713: \n",
    "    1. remove this object -- it's actually superposition of 3 diff gals\n",
    "    \n",
    "* 8647474693040701887: \n",
    "    1. two spec are from other stuff, \n",
    "    2. removed 756752933030225920, 905370623134427136\n",
    "    \n",
    "* 8647475120353641569:\n",
    "    1. two spec are different gals\n",
    "    2. removed: 4724305787831906304, 1160876799329069056\n",
    "    \n",
    "* 8647475120369369145 ****\n",
    "    1. One of the spec is of a star in front of the galaxy: 436868160512092160\n",
    "    2. DR12 Navigator shows two more spec boxes but there is no spectra to show?\n",
    "    \n",
    "* 8647475120390864910\n",
    "    1. one of the spec is a star: 2329560356298450944\n",
    "    \n",
    "* 8647475121445732615 \n",
    "    1. spec of nearby galaxy: 4038817457552158720\n",
    "    \n",
    "* 8647475121466572880\n",
    "    1. spec of nearby galaxy : 2972549002207193088\n",
    "    \n",
    "* 8647475122521374826\n",
    "    1. spec of nearby star: 4755983817390092288\n",
    "--------------------------------------\n",
    "### Spectra mis-match (0.002 < z_sig < 0.02)\n",
    "\n",
    "1. 8647474691951296616\n",
    "    1. spec of nearby gal: 780342406624077824\n",
    "    \n",
    "2. 8647474691953983602 ****\n",
    "    1. one spec is just... blank. Like its bad or something. 1689976647551313920\n",
    "    2. DR12 Navigator has a 4th red spec in image but no spec exists?\n",
    "\n",
    "* 8647474691955294278\n",
    "    1. got another star: 785976578227070976\n",
    "    \n",
    "* 8647475119814934833   \n",
    "    1. different galaxy: 1157445218706941952\n",
    "    \n",
    "* 8647475120383263039   \n",
    "    1. got another star: 8256355245811757056\n",
    "    \n",
    "* 8647475120901062764 ****\n",
    "    1. got another star: 431269722600794112\n",
    "    2. Missing several! need: 765654029882648576\n",
    "    3. Check what I've already DL'd because Navigator is missing 2 of these spec but I know I found them all at one point... \n",
    "    \n",
    "* 8647475121988567166\n",
    "    1. aaaaand another star: 449402593471391744\n",
    "    \n",
    "------------------------------\n",
    "### Misc\n",
    "* remove object 8647475120924131439 -- this is a weird group of ellipticals/merger/star-forming combo. Most of the spectra are for the early-type galaxies.\n",
    "\n",
    "* Not sure about 8647475121457397936 -- there are two galaxies right next to each other, both blue and clumpy looking. Then there is a red speck next to the larger galaxy and this spec is labeled by SDSS as STAR but has a redshift of 0.025. I don't know if it is a strange red clump associated with the main galaxy or not. "
   ]
  },
  {
   "cell_type": "code",
   "execution_count": 42,
   "metadata": {
    "collapsed": true
   },
   "outputs": [],
   "source": [
    "remove_objids_coadd = [8647474693019795713, 8647475120924131439]\n",
    "remove_specids_coadd = [1759850872969390080, 789273738318211072, 756752933030225920, \n",
    "                        905370623134427136,4724305787831906304, 1160876799329069056, \n",
    "                        436868160512092160,2329560356298450944,4038817457552158720, \n",
    "                        2972549002207193088, 4755983817390092288, 780342406624077824, \n",
    "                        1689976647551313920, 785976578227070976, 1157445218706941952, \n",
    "                        8256355245811757056, 431269722600794112,449402593471391744]    \n",
    "needed_specids_coadd = [765654029882648576]"
   ]
  },
  {
   "cell_type": "markdown",
   "metadata": {},
   "source": [
    "## Single spectra exploration"
   ]
  },
  {
   "cell_type": "code",
   "execution_count": 12,
   "metadata": {
    "collapsed": false
   },
   "outputs": [
    {
     "name": "stdout",
     "output_type": "stream",
     "text": [
      "183\n"
     ]
    }
   ],
   "source": [
    "# I suspect many of the coadd spectra will overlap with the single-depth spectra\n",
    "# The imaging is different but the spectra are the same for these objects.\n",
    "# Sooooo... see how many of the above list of Bad Spectra are in the single_spec catalog\n",
    "set(remove_specids) & set(single_spec['specObjID'])\n",
    "\n",
    "for specid in remove_specids:\n",
    "    try:\n",
    "        single_spec.remove_row(np.where(single_spec['specObjID']==specid)[0][0])\n",
    "    except:\n",
    "        pass\n",
    "print len(single_spec)"
   ]
  },
  {
   "cell_type": "code",
   "execution_count": 13,
   "metadata": {
    "collapsed": false
   },
   "outputs": [
    {
     "name": "stdout",
     "output_type": "stream",
     "text": [
      "103\n",
      "set([587731512623562859, 587731185661575564])\n"
     ]
    }
   ],
   "source": [
    "single_gals = {'objid':[], 'ra':[], 'dec':[], 'num_spec':[], 'z_avg':[], 'z_sig':[]}\n",
    "single_grpd = single_spec.group_by('OBJID') \n",
    "\n",
    "for grp in single_grpd.groups:\n",
    "    single_gals['objid'].append(grp['OBJID'][0])\n",
    "    single_gals['num_spec'].append(len(grp))\n",
    "    single_gals['ra'].append(grp['RA'][0])\n",
    "    single_gals['dec'].append(grp['DEC'][0])\n",
    "    single_gals['z_avg'].append(np.mean(grp['z']))\n",
    "    single_gals['z_sig'].append(np.std(grp['z']))\n",
    "\n",
    "    \n",
    "print len(single_gals['objid'])\n",
    "nomatch = set(clumpy_single_dr12['DR7objid'])-set(single_gals['objid'])\n",
    "print nomatch"
   ]
  },
  {
   "cell_type": "code",
   "execution_count": 14,
   "metadata": {
    "collapsed": false
   },
   "outputs": [
    {
     "data": {
      "text/plain": [
       "<matplotlib.text.Text at 0x7f79ff427fd0>"
      ]
     },
     "execution_count": 14,
     "metadata": {},
     "output_type": "execute_result"
    },
    {
     "data": {
      "image/png": "[encoded data removed]",
      "text/plain": [
       "<matplotlib.figure.Figure at 0x7f79ff6f6950>"
      ]
     },
     "metadata": {},
     "output_type": "display_data"
    }
   ],
   "source": [
    "fig = plt.figure(figsize=(6,3))\n",
    "ax = fig.add_subplot(121)\n",
    "ax.hist(single_gals['z_sig'], bins=20)\n",
    "ax.set_xlabel('z sigma')\n",
    "\n",
    "ax = fig.add_subplot(122)\n",
    "ax.hist(single_spec['z'], bins=20)\n",
    "ax.set_xlabel('z')\n",
    "ax.text(0.15, 60, 'z < 0: '+str(np.sum(single_spec['z']<=0.)))"
   ]
  },
  {
   "cell_type": "code",
   "execution_count": 40,
   "metadata": {
    "collapsed": false
   },
   "outputs": [
    {
     "data": {
      "text/html": [
       "&lt;Table length=14&gt;\n",
       "<table id=\"table140161948907024\" class=\"table-striped table-bordered table-condensed\">\n",
       "<thead><tr><th>objid</th><th>ra</th><th>dec</th><th>num_spec</th><th>z_avg</th><th>z_sig</th></tr></thead>\n",
       "<thead><tr><th>int64</th><th>float64</th><th>float64</th><th>int64</th><th>float64</th><th>float64</th></tr></thead>\n",
       "<tr><td>587730846887248218</td><td>312.7174</td><td>-0.3257026</td><td>2</td><td>0.03066706</td><td>0.00017593</td></tr>\n",
       "<tr><td>587731186746589210</td><td>13.24084</td><td>0.3687539</td><td>2</td><td>0.033995065</td><td>0.000116245</td></tr>\n",
       "<tr><td>587731187276775531</td><td>357.9702</td><td>0.7549612</td><td>2</td><td>0.037608345</td><td>0.000101075</td></tr>\n",
       "<tr><td>587731187806044214</td><td>340.6111</td><td>1.195262</td><td>3</td><td>0.04756293</td><td>0.000150261086335</td></tr>\n",
       "<tr><td>587731187817054248</td><td>5.757333</td><td>1.183321</td><td>3</td><td>0.1038094</td><td>0.000163228367633</td></tr>\n",
       "<tr><td>587731187817971862</td><td>7.849824</td><td>1.139805</td><td>2</td><td>0.06689503</td><td>0.00015457</td></tr>\n",
       "<tr><td>587731513150144647</td><td>35.90083</td><td>0.2256859</td><td>3</td><td>0.0250053266667</td><td>0.000116304874743</td></tr>\n",
       "<tr><td>587731514222641154</td><td>33.00174</td><td>1.225666</td><td>3</td><td>0.02320314</td><td>0.000149062691733</td></tr>\n",
       "<tr><td>587731514222641156</td><td>32.99956</td><td>1.218117</td><td>3</td><td>0.02320314</td><td>0.000149062691733</td></tr>\n",
       "<tr><td>587731514227294318</td><td>43.71055</td><td>1.057498</td><td>2</td><td>0.043581815</td><td>0.000113645</td></tr>\n",
       "<tr><td>587731514228998283</td><td>47.61727</td><td>1.097676</td><td>3</td><td>0.0381198266667</td><td>0.000169767028666</td></tr>\n",
       "<tr><td>588015507679739973</td><td>47.88867</td><td>-1.244449</td><td>2</td><td>0.027464805</td><td>0.000140785</td></tr>\n",
       "<tr><td>588015508215431348</td><td>45.26369</td><td>-0.7434651</td><td>4</td><td>0.00880683775</td><td>0.000114236911076</td></tr>\n",
       "<tr><td>588015509272592572</td><td>7.437069</td><td>0.1697599</td><td>2</td><td>0.05957139</td><td>0.00018989</td></tr>\n",
       "</table>"
      ],
      "text/plain": [
       "<Table length=14>\n",
       "      objid           ra       dec     ...      z_avg            z_sig      \n",
       "      int64        float64   float64   ...     float64          float64     \n",
       "------------------ -------- ---------- ... --------------- -----------------\n",
       "587730846887248218 312.7174 -0.3257026 ...      0.03066706        0.00017593\n",
       "587731186746589210 13.24084  0.3687539 ...     0.033995065       0.000116245\n",
       "587731187276775531 357.9702  0.7549612 ...     0.037608345       0.000101075\n",
       "587731187806044214 340.6111   1.195262 ...      0.04756293 0.000150261086335\n",
       "587731187817054248 5.757333   1.183321 ...       0.1038094 0.000163228367633\n",
       "587731187817971862 7.849824   1.139805 ...      0.06689503        0.00015457\n",
       "587731513150144647 35.90083  0.2256859 ... 0.0250053266667 0.000116304874743\n",
       "587731514222641154 33.00174   1.225666 ...      0.02320314 0.000149062691733\n",
       "587731514222641156 32.99956   1.218117 ...      0.02320314 0.000149062691733\n",
       "587731514227294318 43.71055   1.057498 ...     0.043581815       0.000113645\n",
       "587731514228998283 47.61727   1.097676 ... 0.0381198266667 0.000169767028666\n",
       "588015507679739973 47.88867  -1.244449 ...     0.027464805       0.000140785\n",
       "588015508215431348 45.26369 -0.7434651 ...   0.00880683775 0.000114236911076\n",
       "588015509272592572 7.437069  0.1697599 ...      0.05957139        0.00018989"
      ]
     },
     "execution_count": 40,
     "metadata": {},
     "output_type": "execute_result"
    }
   ],
   "source": [
    "single_gals['z_sig'] = np.array(single_gals['z_sig'])\n",
    "mask = (single_gals['z_sig']>=0.0001) & (single_gals['z_sig']<0.0002)\n",
    "\n",
    "single_gals = Table(single_gals)\n",
    "single_gals['objid','ra','dec', 'num_spec', 'z_avg', 'z_sig'][mask]"
   ]
  },
  {
   "cell_type": "markdown",
   "metadata": {},
   "source": [
    "## Single spectra exploration\n",
    "----------\n",
    "### z_sig > 0.02\n",
    "\n",
    "1. 587731187802505239 nearby star: 3542183441586036736\n",
    "\n",
    "2. 587731511541432411 remove this object: \"clump\" is a superposition of another galaxy\n",
    "\n",
    "3. 587731512079417464 remove nearby galaxy: 1702443460176406528\n",
    "   \n",
    "* 588015508728184928 remove nearby galaxy: 765687290109388800\n",
    "\n",
    "* 588015509282816335 I'm to keep both spectra because I don't believe this galaxy is at z=0.6!!!\n",
    "\n",
    "* 588015509813657703 two nearby gals: 1687819943095068672, 4206560876167884800\n",
    "\n",
    "---------\n",
    "### 0.002 < z_sig < 0.02\n",
    "\n",
    "* 587731173305942556 remove star: 1107968287553120256\n",
    "\n",
    "* 587731186208473201 damn. I find it so hard to believe that one of the \"clumps\" is really a galaxy at higher redshift!! :( Remove 4753614369211478016? \n",
    "\n",
    "* 587731512073388054 \n",
    "    1. remove nearby galaxy: 452618114824169472\n",
    "    2. there are two red squares indicating additional spectra but they don't exist\n",
    "    \n",
    "* 587734303802392898 nearby star: 1298168139355285504\n",
    "\n",
    "* 588015508736966818 nearby star: 1222735037774981120\n",
    "\n",
    "* 588015509281833251 high z galaxy overlapping: 1210441405109921792\n",
    "\n",
    "### 0.0002 < z_sig < 0.002\n",
    "\n",
    "* 587731512616747020 this is that same group/merger/star-forming weird thing\n",
    "* 587731512616747024 same as above\n",
    "* 588015508752891949 galaxy right next door is actually RIGHT NEXT DOOR; but we seem to be missing a spectrum from a bright clump that has a red square in Navigator but doesn't show up in my list. Sigh. Remove 463953812630038528?? (NOT YET -- this didn't get flagged in the Coadd sample...)\n",
    "\n",
    "### 0.0001 < z_sig < 0.0002\n",
    "* 587731187806044214 interacting gals: 4733520794650079232, 425678711476480000"
   ]
  },
  {
   "cell_type": "code",
   "execution_count": 49,
   "metadata": {
    "collapsed": true
   },
   "outputs": [],
   "source": [
    "remove_objids_single = [587731511541432411, 587731512616747020, 587731512616747024]\n",
    "remove_specids_single = [3542183441586036736, 1702443460176406528,765687290109388800,\n",
    "                         1687819943095068672, 4206560876167884800,1107968287553120256,\n",
    "                         452618114824169472,1298168139355285504,1222735037774981120,\n",
    "                         1210441405109921792,4733520794650079232, 425678711476480000,\n",
    "                         459391381798938624]"
   ]
  },
  {
   "cell_type": "markdown",
   "metadata": {},
   "source": [
    "## Remove \"bad\" spectra from both Coadd and Single samples"
   ]
  },
  {
   "cell_type": "code",
   "execution_count": 51,
   "metadata": {
    "collapsed": false
   },
   "outputs": [
    {
     "name": "stdout",
     "output_type": "stream",
     "text": [
      "Number of spectra before removal: 183\n",
      "Number of spectra after removal: 171\n"
     ]
    }
   ],
   "source": [
    "# Remove bad spec from single sample\n",
    "print \"Number of spectra before removal:\",len(single_spec)\n",
    "for specid in remove_specids_single:\n",
    "    #loc = np.where(single_spec['specObjID']==specid)[0]\n",
    "    try:\n",
    "        single_spec.remove_row(np.where(single_spec['specObjID']==specid)[0][0])\n",
    "    except:\n",
    "        pass\n",
    "print \"Number of spectra after removal:\",len(single_spec)"
   ]
  },
  {
   "cell_type": "code",
   "execution_count": 52,
   "metadata": {
    "collapsed": false
   },
   "outputs": [
    {
     "name": "stdout",
     "output_type": "stream",
     "text": [
      "Number of spectra before removal: 169\n",
      "Number of spectra after removal: 151\n"
     ]
    }
   ],
   "source": [
    "print \"Number of spectra before removal:\",len(coadd_spec)\n",
    "for specid in remove_specids_coadd:\n",
    "    #loc = np.where(single_spec['specObjID']==specid)[0]\n",
    "    try:\n",
    "        coadd_spec.remove_row(np.where(coadd_spec['specObjID']==specid)[0][0])\n",
    "    except:\n",
    "        pass\n",
    "print \"Number of spectra after removal:\",len(coadd_spec)"
   ]
  },
  {
   "cell_type": "code",
   "execution_count": 71,
   "metadata": {
    "collapsed": false
   },
   "outputs": [],
   "source": [
    "# Now that spectra have been removed, some entire objects must be removed\n",
    "# Remove the object from the GZH DR12 catalogs and their spectra from the spectra catalogs\n",
    "remove_objids_single = [587731511541432411, 587731512616747020, 587731512616747024]\n",
    "for objid in remove_objids_single: \n",
    "    try:\n",
    "        clumpy_single_dr12.remove_row(np.where(clumpy_single_dr12['DR7objid']==objid)[0][0])\n",
    "    except:\n",
    "        pass\n",
    "    \n",
    "    try:\n",
    "        single_spectra.remove_rows(np.where(single_spectra['OBJID']==objid)[0])\n",
    "    except:\n",
    "        pass\n",
    "    \n",
    "remove_objids_coadd = [8647474693019795713, 8647475120924131439, 8647475120901062764]\n",
    "for objid in remove_objids_coadd: \n",
    "    try:\n",
    "        clumpy_coadd_dr12.remove_row(np.where(clumpy_coadd_dr12['DR7objid']==objid)[0][0])\n",
    "    except:\n",
    "        pass\n",
    "    try:\n",
    "        coadd_spectra.remove_rows(np.where(coadd_spectra['OBJID']==objid)[0])\n",
    "    except:\n",
    "        pass"
   ]
  },
  {
   "cell_type": "markdown",
   "metadata": {},
   "source": [
    "## Add spectral data to our clumpy catalogs"
   ]
  },
  {
   "cell_type": "code",
   "execution_count": 53,
   "metadata": {
    "collapsed": false
   },
   "outputs": [],
   "source": [
    "clumpy_coadd_dr12['num_spec'] = 0\n",
    "clumpy_coadd_dr12['z_avg'] = 0.\n",
    "\n",
    "clumpy_single_dr12['num_spec'] = 0\n",
    "clumpy_single_dr12['z_avg'] = 0."
   ]
  },
  {
   "cell_type": "code",
   "execution_count": 70,
   "metadata": {
    "collapsed": false
   },
   "outputs": [
    {
     "name": "stderr",
     "output_type": "stream",
     "text": [
      "/home/oxymoronic/Software/miniconda2/envs/data-env/lib/python2.7/site-packages/ipykernel/__main__.py:22: VisibleDeprecationWarning: converting an array with ndim > 0 to an index will result in an error in the future\n",
      "/home/oxymoronic/Software/miniconda2/envs/data-env/lib/python2.7/site-packages/ipykernel/__main__.py:23: VisibleDeprecationWarning: converting an array with ndim > 0 to an index will result in an error in the future\n"
     ]
    }
   ],
   "source": [
    "def aggregate_spectra(spectra_catalog):\n",
    "    spectral_data = {'objid':[], 'ra':[], 'dec':[], 'num_spec':[], 'z_avg':[], 'z_sig':[]}\n",
    "    spectra_by_grp = spectra_catalog.group_by('OBJID') \n",
    "    \n",
    "    for grp in spectra_by_grp.groups:\n",
    "        spectral_data['objid'].append(grp['OBJID'][0])\n",
    "        spectral_data['num_spec'].append(len(grp))\n",
    "        spectral_data['ra'].append(grp['RA'][0])\n",
    "        spectral_data['dec'].append(grp['DEC'][0])\n",
    "        spectral_data['z_avg'].append(np.mean(grp['z']))\n",
    "        spectral_data['z_sig'].append(np.std(grp['z']))\n",
    "        \n",
    "    return spectral_data\n",
    "\n",
    "\n",
    "def add_spec_values(clumpy_catalog, spectra_data):\n",
    "    for idx, gal in enumerate(clumpy_catalog):\n",
    "        objid = gal['DR7objid']\n",
    "    \n",
    "        if objid in spectra_data['objid']:\n",
    "            loc = np.where(spectra_data['objid'] == gal['DR7objid'])[0]\n",
    "            clumpy_catalog['num_spec'][idx] = spectra_data['num_spec'][loc]\n",
    "            clumpy_catalog['z_avg'][idx] = spectra_data['z_avg'][loc]\n",
    "            \n",
    "\n",
    "# Re-aggregate all the spectra now that we've deleted all the \"bad\" ones\n",
    "coadd_spectra_data = clumpy_spec_data = aggregate_spectra(coadd_spec)\n",
    "single_spectra_data = clumpy_spec_data = aggregate_spectra(single_spec)\n",
    "\n",
    "add_spec_values(clumpy_coadd_dr12, coadd_spectra_data)\n",
    "add_spec_values(clumpy_single_dr12, single_spectra_data)"
   ]
  },
  {
   "cell_type": "code",
   "execution_count": 82,
   "metadata": {
    "collapsed": false
   },
   "outputs": [
    {
     "data": {
      "text/plain": [
       "<matplotlib.text.Text at 0x7f79fcaf3a50>"
      ]
     },
     "execution_count": 82,
     "metadata": {},
     "output_type": "execute_result"
    },
    {
     "data": {
      "image/png": "[encoded data removed]",
      "text/plain": [
       "<matplotlib.figure.Figure at 0x7f79fce7fdd0>"
      ]
     },
     "metadata": {},
     "output_type": "display_data"
    }
   ],
   "source": [
    "fig = plt.figure(figsize=(6,3))\n",
    "ax = fig.add_subplot(121)\n",
    "ax.scatter(clumpy_single_dr12['z'], clumpy_single_dr12['z_avg'])\n",
    "ax.set_xlabel('DR12 z')\n",
    "ax.set_ylabel('<z> from spectra')\n",
    "ax.set_title('Single-depth')\n",
    "\n",
    "ax = fig.add_subplot(122)\n",
    "ax.scatter(clumpy_coadd_dr12['z'], clumpy_coadd_dr12['z_avg'])\n",
    "ax.set_xlabel('DR12 z')\n",
    "ax.set_ylabel('<z> from spectra')\n",
    "ax.set_title('coadd-depth')"
   ]
  },
  {
   "cell_type": "code",
   "execution_count": 80,
   "metadata": {
    "collapsed": false
   },
   "outputs": [
    {
     "name": "stdout",
     "output_type": "stream",
     "text": [
      "zooniverse_id     survey_id         Table    ...    z     num_spec   z_avg   \n",
      "------------- ------------------ ----------- ... -------- -------- ----------\n",
      "   AHZ5000efn 588015509282816335 sdss_single ... 0.019052        2 0.32896828\n"
     ]
    },
    {
     "name": "stderr",
     "output_type": "stream",
     "text": [
      "/home/oxymoronic/Software/miniconda2/envs/data-env/lib/python2.7/site-packages/ipykernel/__main__.py:1: RuntimeWarning: invalid value encountered in less\n",
      "  if __name__ == '__main__':\n"
     ]
    }
   ],
   "source": [
    "mask = (clumpy_single_dr12['z_avg'] > 0.1) & (clumpy_single_dr12['z'] < 0.1)\n",
    "print clumpy_single_dr12[mask]\n",
    "\n",
    "#mask = (clumpy_coadd_dr12['z_avg'] >0.12) & (clumpy_coadd_dr12['z']<0.1)\n",
    "#print clumpy_coadd_dr12[mask]"
   ]
  },
  {
   "cell_type": "code",
   "execution_count": 81,
   "metadata": {
    "collapsed": true
   },
   "outputs": [],
   "source": [
    "clumpy_coadd_dr12.remove_row(np.where(clumpy_coadd_dr12['DR7objid']==8647474693019795713)[0][0])"
   ]
  },
  {
   "cell_type": "markdown",
   "metadata": {},
   "source": [
    "## Save our new and improved catalogs! \n",
    "Both the clumpy-DR12-GZH and the spectra list"
   ]
  },
  {
   "cell_type": "code",
   "execution_count": 44,
   "metadata": {
    "collapsed": false
   },
   "outputs": [],
   "source": [
    "clumpy_coadd_dr12.write('../data/2017-01-30_coadd-depth_clumpy_GZH_DR12_spectra.csv', overwrite=True)\n",
    "clumpy_single_dr12.write('../data/2017-01-30_single-depth_clumpy_GZH_DR12_spectra.csv', overwrite=True)\n",
    "\n",
    "coadd_spec.write('../data/2017-01-30_coadd-depth_clumpy_spectra_list.csv', overwrite=True)\n",
    "single_spec.write('../data/2017-01-30_single-depth_clumpy_spectra_list.csv', overwrite=True)"
   ]
  },
  {
   "cell_type": "code",
   "execution_count": 3,
   "metadata": {
    "collapsed": false
   },
   "outputs": [],
   "source": [
    "# I came back to this after closing it down -- open those files back up\n",
    "clumpy_coadd_dr12 = Table.read('../data/2017-01-30_coadd-depth_clumpy_GZH_DR12_spectra.csv')\n",
    "clumpy_single_dr12 = Table.read('../data/2017-01-30_single-depth_clumpy_GZH_DR12_spectra.csv')\n",
    "\n",
    "coadd_spectra = Table.read('../data/2017-01-30_coadd-depth_clumpy_spectra_list.csv')\n",
    "single_spectra = Table.read('../data/2017-01-30_single-depth_clumpy_spectra_list.csv')"
   ]
  },
  {
   "cell_type": "markdown",
   "metadata": {},
   "source": [
    "## SO HOW MANY GALAXIES DO WE HAVE AND WITH HOW MANY SPECTRA?\n",
    "\n",
    "For our final sample, 36 galaxies are in BOTH the coadd- and single-depth catalogs\n",
    "Of those, 28 have the same DR12 objid."
   ]
  },
  {
   "cell_type": "code",
   "execution_count": 169,
   "metadata": {
    "collapsed": false
   },
   "outputs": [
    {
     "name": "stdout",
     "output_type": "stream",
     "text": [
      "27\n",
      "89\n",
      "102\n"
     ]
    }
   ],
   "source": [
    "# How many in the coadd- and single-depth catalogs have identical DR12 identifiers?\n",
    "print len(set(clumpy_coadd_dr12['DR12objid']) & set(clumpy_single_dr12['DR12objid']))\n",
    "print len(clumpy_coadd_dr12)\n",
    "print len(clumpy_single_dr12)"
   ]
  },
  {
   "cell_type": "code",
   "execution_count": 74,
   "metadata": {
    "collapsed": false
   },
   "outputs": [],
   "source": [
    "# But there is more overlap than that....\n",
    "single_sample = SkyCoord(ra=clumpy_single_dr12['RA']*u.deg, \n",
    "                         dec=clumpy_single_dr12['DEC']*u.deg)\n",
    "\n",
    "coadd_catalog = SkyCoord(ra=clumpy_coadd_dr12['RA']*u.deg,\n",
    "                         dec=clumpy_coadd_dr12['DEC']*u.deg)\n",
    "\n",
    "idx, d2d, d3d = single_sample.match_to_catalog_sky(coadd_catalog) \n",
    "within25as_single = (coadd_catalog[idx].separation(single_sample)<25*u.arcsec)\n",
    "\n",
    "idx, d2d, d3d = coadd_catalog.match_to_catalog_sky(single_sample)\n",
    "within25as = (single_sample[idx].separation(coadd_catalog)<25*u.arcsec)\n",
    "\n",
    "b1 = clumpy_coadd_dr12['DR7objid','DR12objid','RA','DEC'][within25as]\n",
    "b2 = clumpy_single_dr12['DR7objid', 'DR12objid','RA','DEC'][within25as_single]"
   ]
  },
  {
   "cell_type": "code",
   "execution_count": 88,
   "metadata": {
    "collapsed": false
   },
   "outputs": [
    {
     "name": "stdout",
     "output_type": "stream",
     "text": [
      "155\n"
     ]
    }
   ],
   "source": [
    "from astropy.table import vstack\n",
    "\n",
    "# Add a column to all_unique_clumpy that identifies which single-depth gals\n",
    "# have coadd-depth metadata associated with them\n",
    "clumpy_single_dr12['both_imaging'] = np.zeros(len(clumpy_single_dr12), dtype=bool)\n",
    "clumpy_single_dr12['both_imaging'][within25as_single] = 1\n",
    "clumpy_coadd_dr12['both_imaging'] = np.zeros(len(clumpy_coadd_dr12), dtype=bool)\n",
    "\n",
    "# Take all the single-depth galaxies and tack on those in the coadd-depth \n",
    "# that are NOT found in the cross-matching above\n",
    "all_unique_clumpy = vstack([clumpy_single_dr12, clumpy_coadd_dr12[~within25as]])\n",
    "print len(all_unique_clumpy)"
   ]
  },
  {
   "cell_type": "code",
   "execution_count": 89,
   "metadata": {
    "collapsed": false
   },
   "outputs": [
    {
     "name": "stdout",
     "output_type": "stream",
     "text": [
      "36\n"
     ]
    }
   ],
   "source": [
    "# Also keep track of the coadd-depth info associated with those gals that have BOTH\n",
    "coadd_for_both_imaging = clumpy_coadd_dr12[within25as]\n",
    "print len(coadd_single)"
   ]
  },
  {
   "cell_type": "code",
   "execution_count": 7,
   "metadata": {
    "collapsed": false
   },
   "outputs": [
    {
     "data": {
      "text/plain": [
       "234"
      ]
     },
     "execution_count": 7,
     "metadata": {},
     "output_type": "execute_result"
    }
   ],
   "source": [
    "shared_spec = set(coadd_spectra['specObjID']) & set(single_spectra['specObjID'])\n",
    "len(shared_spec)\n",
    "(len(coadd_spectra)-73) + len(single_spectra)"
   ]
  },
  {
   "cell_type": "markdown",
   "metadata": {},
   "source": [
    "# 156 Unique Galaxies w/ 234 Unique Spectra"
   ]
  },
  {
   "cell_type": "markdown",
   "metadata": {
    "collapsed": false
   },
   "source": [
    "1. create one big happy combined catalog\n",
    "2. how many galaxies DO NOT have spectra?\n",
    "3. how many galaxies have only 1 spectrum?\n",
    "4. how many galaxies have > 1 spec and z < 0.06\n",
    "\n",
    "At some point: Create one big happy catalog of all unique clumpy galaxies"
   ]
  },
  {
   "cell_type": "code",
   "execution_count": 104,
   "metadata": {
    "collapsed": false
   },
   "outputs": [
    {
     "name": "stdout",
     "output_type": "stream",
     "text": [
      "5 galaxies have NO SPECTRA\n"
     ]
    }
   ],
   "source": [
    "print np.sum(all_unique_clumpy['num_spec']==0), 'galaxies have NO SPECTRA'"
   ]
  },
  {
   "cell_type": "code",
   "execution_count": 105,
   "metadata": {
    "collapsed": false
   },
   "outputs": [
    {
     "name": "stdout",
     "output_type": "stream",
     "text": [
      "67 galaxies with more than 1 spectrum\n"
     ]
    }
   ],
   "source": [
    "print np.sum(all_unique_clumpy['num_spec']>1), \"galaxies with more than 1 spectrum\""
   ]
  },
  {
   "cell_type": "code",
   "execution_count": 170,
   "metadata": {
    "collapsed": false
   },
   "outputs": [
    {
     "name": "stdout",
     "output_type": "stream",
     "text": [
      "105 galaxies with at least 1 spectrum and z < 0.06\n",
      "175 spectra belong to these gals.\n"
     ]
    }
   ],
   "source": [
    "final_sample = (all_unique_clumpy['num_spec']>=1) & (all_unique_clumpy['z_avg']<0.06)\n",
    "print np.sum( final_sample), 'galaxies with at least 1 spectrum and z < 0.06'\n",
    "print np.sum(all_unique_clumpy['num_spec'][final_sample]), \"spectra belong to these gals.\""
   ]
  },
  {
   "cell_type": "markdown",
   "metadata": {},
   "source": [
    "## Yay! We have lots more than we did before!!!"
   ]
  },
  {
   "cell_type": "code",
   "execution_count": 156,
   "metadata": {
    "collapsed": false
   },
   "outputs": [
    {
     "name": "stdout",
     "output_type": "stream",
     "text": [
      "26 galaxies meet the z criterion and have both types of imaging\n"
     ]
    }
   ],
   "source": [
    "# Save the final sample of low-z clumpy gals\n",
    "all_unique_clumpy[final_sample].write('../data/2017-01-30_final_clumpy_sample.csv',overwrite=True)\n",
    "\n",
    "final_gals = all_unique_clumpy[final_sample]\n",
    "\n",
    "# need intersection: final sample with both Coadd- and Single-depth img\n",
    "mask = (coadd_for_both_imaging['z_avg']<0.06) & \\\n",
    "           (coadd_for_both_imaging['num_spec']>=1)\n",
    "print np.sum(mask), 'galaxies meet the z criterion and have both types of imaging'\n",
    "coadd_for_both_imaging[mask].write('../data/2017-01-30_coadd_info_for_final_sample_with_both.csv')\n",
    "\n",
    "final_gals_both_imaging = coadd_for_both_imaging[mask]"
   ]
  },
  {
   "cell_type": "code",
   "execution_count": 167,
   "metadata": {
    "collapsed": false
   },
   "outputs": [
    {
     "name": "stdout",
     "output_type": "stream",
     "text": [
      "175\n",
      "55\n",
      "0\n"
     ]
    }
   ],
   "source": [
    "# Save the list of spectra associated with those galaxies specifical\n",
    "all_spectra = vstack([coadd_spectra, single_spectra])\n",
    "\n",
    "idx = []\n",
    "idx2 = []\n",
    "for i, spec in enumerate(all_spectra):\n",
    "    if spec['OBJID'] in final_gals['DR7objid']:\n",
    "        idx.append(i)\n",
    "        \n",
    "    if spec['OBJID'] in final_gals_both_imaging['DR7objid']:\n",
    "        idx2.append(i)\n",
    "    \n",
    "final_spectra = all_spectra[idx]\n",
    "coadd_spec_both_imaging = all_spectra[idx2]\n",
    "print len(final_spectra)\n",
    "print len(coadd_spec_both_imaging)\n",
    "print len(set(coadd_spec_both_imaging['specObjID'])-set(final_spectra['specObjID']))\n",
    "\n",
    "# Join current list of spec for final sample with any addl spectra associated\n",
    "# with the coadd-depth imaging for those gals which have both depth imaging\n",
    "final_spectra_freals = join(coadd_spec_both_imaging, final_spectra, \n",
    "                            keys=['specObjID', 'DR12objid', 'plate', 'mjd', 'fiberID',\n",
    "                                  'z', 'zErr','ra2','dec2'], \n",
    "                            join_type='outer')"
   ]
  },
  {
   "cell_type": "code",
   "execution_count": 168,
   "metadata": {
    "collapsed": false
   },
   "outputs": [],
   "source": [
    "final_spectra.write('../data/2017-01-30_final_clumpy_spectra_list.csv', overwrite=True)"
   ]
  },
  {
   "cell_type": "code",
   "execution_count": 174,
   "metadata": {
    "collapsed": false
   },
   "outputs": [
    {
     "data": {
      "text/plain": [
       "(array([ 55.,   0.,   0.,  33.,   0.,   0.,  14.,   0.,   0.,   3.]),\n",
       " array([ 1. ,  1.3,  1.6,  1.9,  2.2,  2.5,  2.8,  3.1,  3.4,  3.7,  4. ]),\n",
       " <a list of 10 Patch objects>)"
      ]
     },
     "execution_count": 174,
     "metadata": {},
     "output_type": "execute_result"
    },
    {
     "data": {
      "image/png": "[encoded data removed]",
      "text/plain": [
       "<matplotlib.figure.Figure at 0x7f36657a6350>"
      ]
     },
     "metadata": {},
     "output_type": "display_data"
    }
   ],
   "source": [
    "plt.hist(final_gals['num_spec'])"
   ]
  },
  {
   "cell_type": "code",
   "execution_count": null,
   "metadata": {
    "collapsed": true
   },
   "outputs": [],
   "source": []
  }
 ],
 "metadata": {
  "kernelspec": {
   "display_name": "Python 2",
   "language": "python",
   "name": "python2"
  },
  "language_info": {
   "codemirror_mode": {
    "name": "ipython",
    "version": 2
   },
   "file_extension": ".py",
   "mimetype": "text/x-python",
   "name": "python",
   "nbconvert_exporter": "python",
   "pygments_lexer": "ipython2",
   "version": "2.7.13"
  }
 },
 "nbformat": 4,
 "nbformat_minor": 2
}
