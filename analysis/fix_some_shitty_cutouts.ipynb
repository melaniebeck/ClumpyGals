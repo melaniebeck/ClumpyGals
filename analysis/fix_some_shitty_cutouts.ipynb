{
 "cells": [
  {
   "cell_type": "code",
   "execution_count": 21,
   "metadata": {
    "collapsed": true
   },
   "outputs": [],
   "source": [
    "from astropy.io import fits\n",
    "from astropy.table import Table\n",
    "from astropy.wcs import WCS\n",
    "from astropy.nddata import Cutout2D\n",
    "import astropy.units as u\n",
    "from astropy.coordinates import SkyCoord\n",
    "import numpy as np\n",
    "import bz2, pdb\n",
    "import matplotlib.pyplot as plt\n",
    "\n",
    "%matplotlib inline"
   ]
  },
  {
   "cell_type": "code",
   "execution_count": 15,
   "metadata": {
    "collapsed": true
   },
   "outputs": [],
   "source": [
    "def SDSS_FITS_filename(RUN, CAMCOL, FIELD, FILTER):\n",
    "\n",
    "\treturn \"frame-{0}-{1:06d}-{2}-{3:04d}.fits.bz2\".format(FILTER, RUN, CAMCOL, FIELD)\n",
    "\n",
    "def open_fits(filename):\n",
    "\n",
    "\thdulist = fits.open('../data/SDSSfields/{}'.format(filename))\n",
    "\treturn hdulist[0].data, hdulist[0].header\n",
    "\n",
    "def adjust_cutout_hdr(cutout, header):\n",
    "\n",
    "\tnewhdr = cutout.wcs.to_header()\n",
    "\t# These params are necessary for pixel scale \n",
    "\tfor key in ['CD1_1', 'CD1_2', 'CD2_1', 'CD2_2']:\n",
    "\t\tnewhdr[key] = header[key]\n",
    "\treturn newhdr\n",
    "\n",
    "def save_cutout(cutout, header, outfile, **kwargs):\n",
    "\n",
    "\thdu = fits.PrimaryHDU(cutout.data, header=header)\n",
    "\thdulist = fits.HDUList(hdu)\n",
    "\thdulist.writeto(\"../data/cutouts/\"+outfile, **kwargs)\n",
    "    \n",
    "def get_clim(img):\n",
    "\n",
    "\tmean = np.mean(img.ravel())\n",
    "\tstd = np.std(img.ravel())\n",
    "\tlow, high = mean-std/4., (mean+std)*2.5\n",
    "\n",
    "\treturn (low, high)"
   ]
  },
  {
   "cell_type": "code",
   "execution_count": 5,
   "metadata": {
    "collapsed": true
   },
   "outputs": [],
   "source": [
    "gals = Table.read(\"../data/2017-01-30_final_clumpy_sample.csv\")"
   ]
  },
  {
   "cell_type": "code",
   "execution_count": 34,
   "metadata": {
    "collapsed": false
   },
   "outputs": [],
   "source": [
    "# List of idx for gals that, by eye, have BAD cutouts\n",
    "bad = [12,13,14,15,25,46,64,63,76,75,92,93,101]\n",
    "\n",
    "coords = Table(data=(np.zeros(len(bad)), np.zeros(len(bad))), names=('RA', 'DEC'))\n",
    "badgals = gals[bad]"
   ]
  },
  {
   "cell_type": "code",
   "execution_count": 116,
   "metadata": {
    "collapsed": false
   },
   "outputs": [
    {
     "name": "stdout",
     "output_type": "stream",
     "text": [
      "101\n",
      "frame-r-002700-5-0016.fits.bz2\n",
      "22.5146262018 0.743329351758\n"
     ]
    },
    {
     "data": {
      "text/plain": [
       "[]"
      ]
     },
     "execution_count": 116,
     "metadata": {},
     "output_type": "execute_result"
    },
    {
     "data": {
      "image/png": "[encoded data removed]",
      "text/plain": [
       "<matplotlib.figure.Figure at 0x7f7e85001690>"
      ]
     },
     "metadata": {},
     "output_type": "display_data"
    }
   ],
   "source": [
    "t = 12\n",
    "n = bad[t]\n",
    "print n\n",
    "\n",
    "filename = SDSS_FITS_filename(gals[n]['run'],gals[n]['camcol'],gals[n]['field'], 'r')\n",
    "print filename\n",
    "print gals[n]['RA'], gals[n]['DEC']\n",
    "img, hdr = open_fits(filename)\n",
    "\n",
    "gal_position = SkyCoord(gals[n]['RA'], gals[n]['DEC'], unit='deg')\n",
    "newra, newdec = 22.515374,0.7428529\n",
    "gal_position = SkyCoord(newra,newdec, unit='deg')\n",
    "\n",
    "cutout_size = int(20*gals[n]['petroR90_r']/0.396) # in pixels  \n",
    "cutout = Cutout2D(img, gal_position, cutout_size, wcs=WCS(hdr))\n",
    "    \n",
    "fig = plt.figure()\n",
    "ax = fig.add_subplot(111)\n",
    "ax.imshow(cutout.data, origin='lower', interpolation='nearest',\n",
    "          cmap='Greys_r', clim=get_clim(cutout.data))\n",
    "ax.set_xticks([])\n",
    "ax.set_yticks([])"
   ]
  },
  {
   "cell_type": "code",
   "execution_count": 112,
   "metadata": {
    "collapsed": false
   },
   "outputs": [],
   "source": [
    "chdr = adjust_cutout_hdr(cutout, hdr)\n",
    "\n",
    "outfile = \"{}_{}.fits\".format(gals[n]['survey_id'], 'r')\n",
    "save_cutout(cutout, chdr, outfile, **{'overwrite':True})"
   ]
  },
  {
   "cell_type": "code",
   "execution_count": 113,
   "metadata": {
    "collapsed": false
   },
   "outputs": [],
   "source": [
    "coords[t]['RA'] = newra\n",
    "coords[t]['DEC'] = newdec"
   ]
  },
  {
   "cell_type": "code",
   "execution_count": 114,
   "metadata": {
    "collapsed": false
   },
   "outputs": [
    {
     "data": {
      "text/html": [
       "&lt;Table length=13&gt;\n",
       "<table id=\"table140181300857744\" class=\"table-striped table-bordered table-condensed\">\n",
       "<thead><tr><th>RA</th><th>DEC</th></tr></thead>\n",
       "<thead><tr><th>float64</th><th>float64</th></tr></thead>\n",
       "<tr><td>340.30978</td><td>-0.61884</td></tr>\n",
       "<tr><td>2.52747</td><td>-0.43605</td></tr>\n",
       "<tr><td>2.91533</td><td>-0.474905</td></tr>\n",
       "<tr><td>4.8787415</td><td>-0.60283528</td></tr>\n",
       "<tr><td>357.97064</td><td>0.75295714</td></tr>\n",
       "<tr><td>0.0</td><td>0.0</td></tr>\n",
       "<tr><td>43.356118</td><td>-0.23186905</td></tr>\n",
       "<tr><td>26.26363</td><td>-0.30075621</td></tr>\n",
       "<tr><td>11.391237</td><td>-1.1044939</td></tr>\n",
       "<tr><td>0.029935567</td><td>-1.1128727</td></tr>\n",
       "<tr><td>0.0</td><td>0.0</td></tr>\n",
       "<tr><td>20.574401</td><td>1.0077585</td></tr>\n",
       "<tr><td>22.515374</td><td>0.7428529</td></tr>\n",
       "</table>"
      ],
      "text/plain": [
       "<Table length=13>\n",
       "     RA         DEC    \n",
       "  float64     float64  \n",
       "----------- -----------\n",
       "  340.30978    -0.61884\n",
       "    2.52747    -0.43605\n",
       "    2.91533   -0.474905\n",
       "  4.8787415 -0.60283528\n",
       "  357.97064  0.75295714\n",
       "        0.0         0.0\n",
       "  43.356118 -0.23186905\n",
       "   26.26363 -0.30075621\n",
       "  11.391237  -1.1044939\n",
       "0.029935567  -1.1128727\n",
       "        0.0         0.0\n",
       "  20.574401   1.0077585\n",
       "  22.515374   0.7428529"
      ]
     },
     "execution_count": 114,
     "metadata": {},
     "output_type": "execute_result"
    }
   ],
   "source": [
    "coords"
   ]
  },
  {
   "cell_type": "code",
   "execution_count": null,
   "metadata": {
    "collapsed": true
   },
   "outputs": [],
   "source": []
  }
 ],
 "metadata": {
  "kernelspec": {
   "display_name": "Python 2",
   "language": "python",
   "name": "python2"
  },
  "language_info": {
   "codemirror_mode": {
    "name": "ipython",
    "version": 2
   },
   "file_extension": ".py",
   "mimetype": "text/x-python",
   "name": "python",
   "nbconvert_exporter": "python",
   "pygments_lexer": "ipython2",
   "version": "2.7.13"
  }
 },
 "nbformat": 4,
 "nbformat_minor": 2
}
