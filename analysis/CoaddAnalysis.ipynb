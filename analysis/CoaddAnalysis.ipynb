{
 "cells": [
  {
   "cell_type": "markdown",
   "metadata": {},
   "source": [
    "## Finalizing the coadd sample\n",
    "### This sample will potentially be used in a short ApJ Letter as well as follow up with MANGA\n",
    "\n",
    "10-8-16 Claudia and I looked at all the coadd images (in /documents/) and picked out those which were the best examples of clumpy galaxies for additional follow-up/study. \n",
    "\n",
    "What needs to be done:\n",
    "    1. Isolate these galaxies from the FITS file containing all clumpy gals -- send coordinates to Chris?\n",
    "    2. Download all available SDSS spectra for each galaxy\n",
    "    3. Get all single-epoch imaging \n",
    "    4. Look at overall subject distributions"
   ]
  },
  {
   "cell_type": "code",
   "execution_count": 2,
   "metadata": {
    "collapsed": false
   },
   "outputs": [],
   "source": [
    "from astropy.table import Table, join\n",
    "import numpy as np\n",
    "import matplotlib.pyplot as plt\n",
    "%matplotlib inline"
   ]
  },
  {
   "cell_type": "code",
   "execution_count": 3,
   "metadata": {
    "collapsed": true
   },
   "outputs": [],
   "source": [
    "# Import FITS file containing ALL clumpy gals (coadd, single) with associated SDSS metadata\n",
    "data = Table.read('../data/gzh_sdss_strictclumpy_trueclumpy_sdssdata.fits')"
   ]
  },
  {
   "cell_type": "code",
   "execution_count": 4,
   "metadata": {
    "collapsed": false
   },
   "outputs": [
    {
     "name": "stdout",
     "output_type": "stream",
     "text": [
      "105\n"
     ]
    }
   ],
   "source": [
    "coadd_mask = data['Table'] != 'sdss_single  '\n",
    "coadd = data[coadd_mask]\n",
    "print len(coadd)"
   ]
  },
  {
   "cell_type": "code",
   "execution_count": null,
   "metadata": {
    "collapsed": true
   },
   "outputs": [],
   "source": []
  }
 ],
 "metadata": {
  "kernelspec": {
   "display_name": "Python 2",
   "language": "python",
   "name": "python2"
  },
  "language_info": {
   "codemirror_mode": {
    "name": "ipython",
    "version": 2
   },
   "file_extension": ".py",
   "mimetype": "text/x-python",
   "name": "python",
   "nbconvert_exporter": "python",
   "pygments_lexer": "ipython2",
   "version": "2.7.12"
  }
 },
 "nbformat": 4,
 "nbformat_minor": 0
}
