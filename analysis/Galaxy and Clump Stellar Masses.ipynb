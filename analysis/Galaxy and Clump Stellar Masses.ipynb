{
 "cells": [
  {
   "cell_type": "code",
   "execution_count": 1,
   "metadata": {
    "collapsed": true
   },
   "outputs": [],
   "source": [
    "from astropy.table import Table, join\n",
    "\n",
    "import numpy as np\n",
    "import matplotlib.pyplot as plt\n",
    "% matplotlib inline"
   ]
  },
  {
   "cell_type": "markdown",
   "metadata": {},
   "source": [
    "## Stellar mass catalogs from SDSS ancillary data\n",
    "I re-examined the various methods that were used to compute stellar masses for a large sample of SDSS galaxies. I settled on two methods that I thought stood out from the rest: Granada (Conroy, Gunn & White) and Wisconsin (Chen, et al.). The former fits ugriz imaging with flexible stellar populations in a variety of configurations (along with a redshift given by the spectra). The latter uses a PCA analysis of a wide portion of individual spectra (3500 - 6000A? I forgot). \n",
    "\n",
    "The problem with the latter is that I can't find any documentation to determine whether the quoted stellar masses are for the fiber or if they've been scaled to the galaxy. Scaling to the galaxy would come with a significant error considering the assumptions that have to go in and the questionable photometry needed to convert the M/L ratio M.  \n",
    "\n",
    "The problem with the former is that, under the assumption these are fairly robust measurements of the galaxy stellar mass, they will be for the entire galaxy and not individual clumps, whereas the Wisconsin method (if they don't try to scale the mass measurment from individual spectra up to the whole galaxy) could reflect the clump mass. \n",
    "\n",
    "I've downloaded both catalogs (where, for the Granada I've chosen \"Wide No Dust\" -- will explain later). "
   ]
  },
  {
   "cell_type": "code",
   "execution_count": 2,
   "metadata": {
    "collapsed": false
   },
   "outputs": [
    {
     "name": "stdout",
     "output_type": "stream",
     "text": [
      "['OBJID', 'DR12objid', 'RA', 'DEC', 'ra2', 'dec2', 'specObjID', 'plate', 'mjd', 'fiberID', 'z', 'zErr', 'clump_dist', 'norm_clump_dist', 'logMass', 'logMass_median', 'logMass_err', 'metallicity_mean', 'metallicity_err', 'dust1_mean', 'dust1_err', 'tau_mean', 'tau_err', 'age', 'age_mean', 'ssfr', 'ssfr_mean']\n",
      "\n",
      "['OBJID', 'DR12objid', 'RA', 'DEC', 'ra2', 'dec2', 'specObjID', 'plate', 'mjd', 'fiberID', 'z', 'zErr', 'clump_dist', 'norm_clump_dist', 'mstellar_median', 'mstellar_err', 'vdisp_median', 'vdisp_err', 'warning']\n"
     ]
    }
   ],
   "source": [
    "wisc = Table.read('../data/final_clumpy_spectra_WiscBC03_highzgal.csv')\n",
    "gran = Table.read('../data/final_clumpy_spectra_GranWideNoDust_highzgal.csv')\n",
    "print gran.colnames\n",
    "print \n",
    "print wisc.colnames"
   ]
  },
  {
   "cell_type": "code",
   "execution_count": 3,
   "metadata": {
    "collapsed": false
   },
   "outputs": [
    {
     "name": "stdout",
     "output_type": "stream",
     "text": [
      "167 167\n"
     ]
    }
   ],
   "source": [
    "# My original list had 171 spectra so both catalogs are missing 5\n",
    "print len(wisc), len(gran)"
   ]
  },
  {
   "cell_type": "code",
   "execution_count": 4,
   "metadata": {
    "collapsed": false
   },
   "outputs": [
    {
     "data": {
      "text/plain": [
       "14"
      ]
     },
     "execution_count": 4,
     "metadata": {},
     "output_type": "execute_result"
    }
   ],
   "source": [
    "# There are 14 galaxies that are not well fit in Wisconsin Method\n",
    "np.sum(wisc['warning']>0)"
   ]
  },
  {
   "cell_type": "code",
   "execution_count": 5,
   "metadata": {
    "collapsed": false
   },
   "outputs": [
    {
     "data": {
      "text/plain": [
       "11"
      ]
     },
     "execution_count": 5,
     "metadata": {},
     "output_type": "execute_result"
    }
   ],
   "source": [
    "# There are 11 galaxies that are not well fit in the Granada Method\n",
    "np.sum(gran['logMass_median']<=0)"
   ]
  },
  {
   "cell_type": "code",
   "execution_count": 6,
   "metadata": {
    "collapsed": false
   },
   "outputs": [
    {
     "data": {
      "text/plain": [
       "{587731186200018973, 587731186725486612, 8647474690339438846}"
      ]
     },
     "execution_count": 6,
     "metadata": {},
     "output_type": "execute_result"
    }
   ],
   "source": [
    "# Of the galaxies that are not well-fit, only 3 overlap between the two samples.\n",
    "granIDs = set(gran[gran['logMass_median']<=0]['OBJID'])\n",
    "wiscIDs = set(wisc[wisc['warning']>0]['OBJID'])\n",
    "\n",
    "granIDs & wiscIDs"
   ]
  },
  {
   "cell_type": "markdown",
   "metadata": {},
   "source": [
    "## This is my FAVORITE galaxy! \n",
    "There are actually 4 spectra but both catalogs have only 1 spectrum and they both get it totally wrong. This galaxy has to be done individually, I guess. "
   ]
  },
  {
   "cell_type": "code",
   "execution_count": 7,
   "metadata": {
    "collapsed": false
   },
   "outputs": [
    {
     "data": {
      "text/html": [
       "&lt;Table length=1&gt;\n",
       "<table id=\"table140592535255696\" class=\"table-striped table-bordered table-condensed\">\n",
       "<thead><tr><th>OBJID</th><th>DR12objid</th><th>RA</th><th>DEC</th><th>ra2</th><th>dec2</th><th>specObjID</th><th>plate</th><th>mjd</th><th>fiberID</th><th>z</th><th>zErr</th><th>clump_dist</th><th>norm_clump_dist</th><th>logMass</th><th>logMass_median</th><th>logMass_err</th><th>metallicity_mean</th><th>metallicity_err</th><th>dust1_mean</th><th>dust1_err</th><th>tau_mean</th><th>tau_err</th><th>age</th><th>age_mean</th><th>ssfr</th><th>ssfr_mean</th></tr></thead>\n",
       "<thead><tr><th>int64</th><th>int64</th><th>float64</th><th>float64</th><th>float64</th><th>float64</th><th>int64</th><th>int64</th><th>int64</th><th>int64</th><th>float64</th><th>float64</th><th>float64</th><th>float64</th><th>float64</th><th>float64</th><th>float64</th><th>float64</th><th>float64</th><th>float64</th><th>int64</th><th>float64</th><th>float64</th><th>float64</th><th>float64</th><th>float64</th><th>float64</th></tr></thead>\n",
       "<tr><td>587731186200018973</td><td>1237657190901284914</td><td>351.0962</td><td>-0.1084575</td><td>351.0889</td><td>-0.10817</td><td>1232914866113636352</td><td>1095</td><td>52521</td><td>198</td><td>0.008917743</td><td>3.166824e-06</td><td>4.985298</td><td>1.522758</td><td>7.51054155905</td><td>-9999.0</td><td>-9999.0</td><td>-9999.0</td><td>-9999.0</td><td>0.0</td><td>0</td><td>-9999.0</td><td>-9999.0</td><td>1.29934740067</td><td>-9999.0</td><td>-0.285143464804</td><td>-9999.0</td></tr>\n",
       "</table>"
      ],
      "text/plain": [
       "<Table length=1>\n",
       "      OBJID             DR12objid         RA    ...       ssfr      ssfr_mean\n",
       "      int64               int64        float64  ...     float64      float64 \n",
       "------------------ ------------------- -------- ... --------------- ---------\n",
       "587731186200018973 1237657190901284914 351.0962 ... -0.285143464804   -9999.0"
      ]
     },
     "execution_count": 7,
     "metadata": {},
     "output_type": "execute_result"
    }
   ],
   "source": [
    "wisc[wisc['OBJID']==587731186200018973] #\n",
    "gran[gran['OBJID']==587731186200018973] #"
   ]
  },
  {
   "cell_type": "markdown",
   "metadata": {},
   "source": [
    "## This gal is has two spectra -- Both methods fail on the bright clump\n",
    "1108-397-53227"
   ]
  },
  {
   "cell_type": "code",
   "execution_count": 8,
   "metadata": {
    "collapsed": false
   },
   "outputs": [
    {
     "data": {
      "text/html": [
       "&lt;Table length=2&gt;\n",
       "<table id=\"table140592694571152\" class=\"table-striped table-bordered table-condensed\">\n",
       "<thead><tr><th>OBJID</th><th>DR12objid</th><th>RA</th><th>DEC</th><th>ra2</th><th>dec2</th><th>specObjID</th><th>plate</th><th>mjd</th><th>fiberID</th><th>z</th><th>zErr</th><th>clump_dist</th><th>norm_clump_dist</th><th>logMass</th><th>logMass_median</th><th>logMass_err</th><th>metallicity_mean</th><th>metallicity_err</th><th>dust1_mean</th><th>dust1_err</th><th>tau_mean</th><th>tau_err</th><th>age</th><th>age_mean</th><th>ssfr</th><th>ssfr_mean</th></tr></thead>\n",
       "<thead><tr><th>int64</th><th>int64</th><th>float64</th><th>float64</th><th>float64</th><th>float64</th><th>int64</th><th>int64</th><th>int64</th><th>int64</th><th>float64</th><th>float64</th><th>float64</th><th>float64</th><th>float64</th><th>float64</th><th>float64</th><th>float64</th><th>float64</th><th>float64</th><th>int64</th><th>float64</th><th>float64</th><th>float64</th><th>float64</th><th>float64</th><th>float64</th></tr></thead>\n",
       "<tr><td>587731186725486612</td><td>1237663543680631053</td><td>324.9864</td><td>0.3232627</td><td>324.9854</td><td>0.322708</td><td>1247606277450786816</td><td>1108</td><td>53227</td><td>397</td><td>0.04983082</td><td>5.680749e-06</td><td>4.171423</td><td>1.02965</td><td>8.45076905666</td><td>-9999.0</td><td>-9999.0</td><td>-9999.0</td><td>-9999.0</td><td>0.0</td><td>0</td><td>-9999.0</td><td>-9999.0</td><td>1.29934740067</td><td>-9999.0</td><td>-0.285143464804</td><td>-9999.0</td></tr>\n",
       "<tr><td>587731186725486612</td><td>1237663543680631055</td><td>324.9864</td><td>0.3232627</td><td>324.9865</td><td>0.3232599</td><td>1114759421507954688</td><td>990</td><td>52465</td><td>431</td><td>0.04987694</td><td>5.928548e-06</td><td>0.6812232</td><td>0.1681492</td><td>9.6804029105</td><td>9.6804029105</td><td>0.0359611749856</td><td>0.00777835373733</td><td>0.0003786907975</td><td>0.150150150061</td><td>0</td><td>1.13522033475</td><td>0.191394042035</td><td>1.69919931889</td><td>1.79805034152</td><td>-0.806965410709</td><td>-0.81810904812</td></tr>\n",
       "</table>"
      ],
      "text/plain": [
       "<Table length=2>\n",
       "      OBJID             DR12objid      ...       ssfr        ssfr_mean   \n",
       "      int64               int64        ...     float64        float64    \n",
       "------------------ ------------------- ... --------------- --------------\n",
       "587731186725486612 1237663543680631053 ... -0.285143464804        -9999.0\n",
       "587731186725486612 1237663543680631055 ... -0.806965410709 -0.81810904812"
      ]
     },
     "execution_count": 8,
     "metadata": {},
     "output_type": "execute_result"
    }
   ],
   "source": [
    "gran[gran['OBJID']==587731186725486612] #"
   ]
  },
  {
   "cell_type": "code",
   "execution_count": 9,
   "metadata": {
    "collapsed": false
   },
   "outputs": [
    {
     "data": {
      "text/html": [
       "&lt;Table length=2&gt;\n",
       "<table id=\"table140592691504784\" class=\"table-striped table-bordered table-condensed\">\n",
       "<thead><tr><th>OBJID</th><th>DR12objid</th><th>RA</th><th>DEC</th><th>ra2</th><th>dec2</th><th>specObjID</th><th>plate</th><th>mjd</th><th>fiberID</th><th>z</th><th>zErr</th><th>clump_dist</th><th>norm_clump_dist</th><th>mstellar_median</th><th>mstellar_err</th><th>vdisp_median</th><th>vdisp_err</th><th>warning</th></tr></thead>\n",
       "<thead><tr><th>int64</th><th>int64</th><th>float64</th><th>float64</th><th>float64</th><th>float64</th><th>int64</th><th>int64</th><th>int64</th><th>int64</th><th>float64</th><th>float64</th><th>float64</th><th>float64</th><th>float64</th><th>float64</th><th>float64</th><th>float64</th><th>int64</th></tr></thead>\n",
       "<tr><td>587731186725486612</td><td>1237663543680631055</td><td>324.9864</td><td>0.3232627</td><td>324.9865</td><td>0.3232599</td><td>1114759421507954688</td><td>990</td><td>52465</td><td>431</td><td>0.04987694</td><td>5.928548e-06</td><td>0.6812232</td><td>0.1681492</td><td>9.83458688881</td><td>0.128614496876</td><td>117.534575462</td><td>34.4426238537</td><td>0</td></tr>\n",
       "<tr><td>587731186725486612</td><td>1237663543680631053</td><td>324.9864</td><td>0.3232627</td><td>324.9854</td><td>0.322708</td><td>1247606277450786816</td><td>1108</td><td>53227</td><td>397</td><td>0.04983082</td><td>5.680749e-06</td><td>4.171423</td><td>1.02965</td><td>0.0</td><td>0.0</td><td>0.0</td><td>0.0</td><td>8</td></tr>\n",
       "</table>"
      ],
      "text/plain": [
       "<Table length=2>\n",
       "      OBJID             DR12objid         RA    ...   vdisp_err   warning\n",
       "      int64               int64        float64  ...    float64     int64 \n",
       "------------------ ------------------- -------- ... ------------- -------\n",
       "587731186725486612 1237663543680631055 324.9864 ... 34.4426238537       0\n",
       "587731186725486612 1237663543680631053 324.9864 ...           0.0       8"
      ]
     },
     "execution_count": 9,
     "metadata": {},
     "output_type": "execute_result"
    }
   ],
   "source": [
    "wisc[wisc['OBJID']==587731186725486612] #"
   ]
  },
  {
   "cell_type": "markdown",
   "metadata": {},
   "source": [
    "## This is a super low SB galaxy that is probably incorrectly broken into several SDSS objects. \n",
    "\n",
    "Granada method fails on the spectra that seems to be on a clump and a red star. (691-52199-123)\n",
    "Wisconsin method fails on the spectra covering the faintest blob [20 mag] (1495-52944-55)"
   ]
  },
  {
   "cell_type": "code",
   "execution_count": 10,
   "metadata": {
    "collapsed": false
   },
   "outputs": [
    {
     "data": {
      "text/html": [
       "&lt;Table length=3&gt;\n",
       "<table id=\"table140592535181776\" class=\"table-striped table-bordered table-condensed\">\n",
       "<thead><tr><th>OBJID</th><th>DR12objid</th><th>RA</th><th>DEC</th><th>ra2</th><th>dec2</th><th>specObjID</th><th>plate</th><th>mjd</th><th>fiberID</th><th>z</th><th>zErr</th><th>clump_dist</th><th>norm_clump_dist</th><th>logMass</th><th>logMass_median</th><th>logMass_err</th><th>metallicity_mean</th><th>metallicity_err</th><th>dust1_mean</th><th>dust1_err</th><th>tau_mean</th><th>tau_err</th><th>age</th><th>age_mean</th><th>ssfr</th><th>ssfr_mean</th></tr></thead>\n",
       "<thead><tr><th>int64</th><th>int64</th><th>float64</th><th>float64</th><th>float64</th><th>float64</th><th>int64</th><th>int64</th><th>int64</th><th>int64</th><th>float64</th><th>float64</th><th>float64</th><th>float64</th><th>float64</th><th>float64</th><th>float64</th><th>float64</th><th>float64</th><th>float64</th><th>int64</th><th>float64</th><th>float64</th><th>float64</th><th>float64</th><th>float64</th><th>float64</th></tr></thead>\n",
       "<tr><td>8647474690339438846</td><td>1237663782591791113</td><td>11.38851</td><td>-1.105878</td><td>11.39023</td><td>-1.10353</td><td>1221616009916475392</td><td>1085</td><td>52531</td><td>53</td><td>0.01366896</td><td>5.746615e-06</td><td>0.0</td><td>0.0</td><td>8.99305513243</td><td>8.98049869232</td><td>0.0218453047546</td><td>0.0279484681528</td><td>0.00340692586985</td><td>0.150150150061</td><td>0</td><td>8.44084237883</td><td>1.84808354841</td><td>2.41249394417</td><td>2.31289159944</td><td>-0.571290135384</td><td>-0.562833759937</td></tr>\n",
       "<tr><td>8647474690339438846</td><td>1237663782591791110</td><td>11.38851</td><td>-1.105878</td><td>11.39126</td><td>-1.101733</td><td>778030682503931904</td><td>691</td><td>52199</td><td>123</td><td>0.01377012</td><td>3.565432e-06</td><td>0.0</td><td>0.0</td><td>8.64954186217</td><td>-9999.0</td><td>-9999.0</td><td>-9999.0</td><td>-9999.0</td><td>0.0</td><td>0</td><td>-9999.0</td><td>-9999.0</td><td>13.1198301315</td><td>-9999.0</td><td>-33.0</td><td>-9999.0</td></tr>\n",
       "<tr><td>8647474690339438846</td><td>1237663782591791116</td><td>11.38851</td><td>-1.105878</td><td>11.39584</td><td>-1.104012</td><td>1683235528406755328</td><td>1495</td><td>52944</td><td>55</td><td>0.01372564</td><td>7.528681e-06</td><td>0.0</td><td>0.0</td><td>6.71340495267</td><td>6.71774374353</td><td>0.0660243678424</td><td>0.0139399862315</td><td>0.00457239118957</td><td>0.150150150061</td><td>0</td><td>9.32967690255</td><td>1.01302276345</td><td>1.29934740067</td><td>1.3034148604</td><td>-0.285143464804</td><td>-0.289745761008</td></tr>\n",
       "</table>"
      ],
      "text/plain": [
       "<Table length=3>\n",
       "       OBJID             DR12objid      ...       ssfr         ssfr_mean   \n",
       "       int64               int64        ...     float64         float64    \n",
       "------------------- ------------------- ... --------------- ---------------\n",
       "8647474690339438846 1237663782591791113 ... -0.571290135384 -0.562833759937\n",
       "8647474690339438846 1237663782591791110 ...           -33.0         -9999.0\n",
       "8647474690339438846 1237663782591791116 ... -0.285143464804 -0.289745761008"
      ]
     },
     "execution_count": 10,
     "metadata": {},
     "output_type": "execute_result"
    }
   ],
   "source": [
    "gran[gran['OBJID']==8647474690339438846] #"
   ]
  },
  {
   "cell_type": "code",
   "execution_count": 11,
   "metadata": {
    "collapsed": false
   },
   "outputs": [
    {
     "data": {
      "text/html": [
       "&lt;Table length=3&gt;\n",
       "<table id=\"table140592532195856\" class=\"table-striped table-bordered table-condensed\">\n",
       "<thead><tr><th>OBJID</th><th>DR12objid</th><th>RA</th><th>DEC</th><th>ra2</th><th>dec2</th><th>specObjID</th><th>plate</th><th>mjd</th><th>fiberID</th><th>z</th><th>zErr</th><th>clump_dist</th><th>norm_clump_dist</th><th>mstellar_median</th><th>mstellar_err</th><th>vdisp_median</th><th>vdisp_err</th><th>warning</th></tr></thead>\n",
       "<thead><tr><th>int64</th><th>int64</th><th>float64</th><th>float64</th><th>float64</th><th>float64</th><th>int64</th><th>int64</th><th>int64</th><th>int64</th><th>float64</th><th>float64</th><th>float64</th><th>float64</th><th>float64</th><th>float64</th><th>float64</th><th>float64</th><th>int64</th></tr></thead>\n",
       "<tr><td>8647474690339438846</td><td>1237663782591791110</td><td>11.38851</td><td>-1.105878</td><td>11.39126</td><td>-1.101733</td><td>778030682503931904</td><td>691</td><td>52199</td><td>123</td><td>0.01377012</td><td>3.565432e-06</td><td>0.0</td><td>0.0</td><td>8.24816737026</td><td>0.193798275121</td><td>263.918018341</td><td>97.7764129639</td><td>0</td></tr>\n",
       "<tr><td>8647474690339438846</td><td>1237663782591791113</td><td>11.38851</td><td>-1.105878</td><td>11.39023</td><td>-1.10353</td><td>1221616009916475392</td><td>1085</td><td>52531</td><td>53</td><td>0.01366896</td><td>5.746615e-06</td><td>0.0</td><td>0.0</td><td>8.48975027778</td><td>0.161218654887</td><td>352.610244751</td><td>44.7744655609</td><td>0</td></tr>\n",
       "<tr><td>8647474690339438846</td><td>1237663782591791116</td><td>11.38851</td><td>-1.105878</td><td>11.39584</td><td>-1.104012</td><td>1683235528406755328</td><td>1495</td><td>52944</td><td>55</td><td>0.01372564</td><td>7.528681e-06</td><td>0.0</td><td>0.0</td><td>0.0</td><td>0.0</td><td>0.0</td><td>0.0</td><td>8</td></tr>\n",
       "</table>"
      ],
      "text/plain": [
       "<Table length=3>\n",
       "       OBJID             DR12objid         RA    ...   vdisp_err   warning\n",
       "       int64               int64        float64  ...    float64     int64 \n",
       "------------------- ------------------- -------- ... ------------- -------\n",
       "8647474690339438846 1237663782591791110 11.38851 ... 97.7764129639       0\n",
       "8647474690339438846 1237663782591791113 11.38851 ... 44.7744655609       0\n",
       "8647474690339438846 1237663782591791116 11.38851 ...           0.0       8"
      ]
     },
     "execution_count": 11,
     "metadata": {},
     "output_type": "execute_result"
    }
   ],
   "source": [
    "wisc[wisc['OBJID']==8647474690339438846] #"
   ]
  },
  {
   "cell_type": "code",
   "execution_count": 12,
   "metadata": {
    "collapsed": false
   },
   "outputs": [],
   "source": [
    "gran_bad = gran[gran['logMass_median']<=0]\n",
    "wisc_bad = wisc[wisc['warning']>0]\n",
    "\n",
    "\n",
    "wisc_good_gran_bad = join(gran_bad, wisc, keys=['OBJID','DR12objid','RA',\n",
    "                                                'DEC','ra2','dec2','specObjID',\n",
    "                                                'plate','mjd','fiberID','z',\n",
    "                                                'zErr','clump_dist',\n",
    "                                                'norm_clump_dist'])\n",
    "gran_good_wisc_bad = join(wisc_bad, gran, keys=['OBJID','DR12objid','RA',\n",
    "                                                'DEC','ra2','dec2','specObjID',\n",
    "                                                'plate','mjd','fiberID','z',\n",
    "                                                'zErr','clump_dist',\n",
    "                                                'norm_clump_dist'])"
   ]
  },
  {
   "cell_type": "markdown",
   "metadata": {},
   "source": [
    "## Let's compare stellar masses for the ones they both fit well"
   ]
  },
  {
   "cell_type": "code",
   "execution_count": 16,
   "metadata": {
    "collapsed": false
   },
   "outputs": [],
   "source": [
    "combo = join(wisc, gran, keys=['OBJID','DR12objid','RA','DEC',\n",
    "                               'ra2','dec2','specObjID',\n",
    "                               'plate','mjd','fiberID','z','zErr',\n",
    "                               'clump_dist','norm_clump_dist'])\n",
    "\n",
    "# Save the combined mass catalogs for later \n",
    "combo.write('../data/final_clumpy_spectra_2masscatalogs.csv', format='ascii.csv')"
   ]
  },
  {
   "cell_type": "code",
   "execution_count": null,
   "metadata": {
    "collapsed": true
   },
   "outputs": [],
   "source": [
    "good_masses = combo[(combo['warning']==0)&(combo['logMass_median']>0)]"
   ]
  },
  {
   "cell_type": "code",
   "execution_count": null,
   "metadata": {
    "collapsed": false
   },
   "outputs": [],
   "source": [
    "plt.scatter(good_masses['logMass_median'], good_masses['mstellar_median'])\n",
    "plt.plot((8,11), (8,11), ls='--', lw=3, color='red')\n",
    "plt.xlabel('Granada', fontsize=20)\n",
    "plt.ylabel('Wisconsin', fontsize=20)"
   ]
  },
  {
   "cell_type": "code",
   "execution_count": null,
   "metadata": {
    "collapsed": false,
    "scrolled": true
   },
   "outputs": [],
   "source": [
    "high_mass = (good_masses['logMass_median'] > 10) & (good_masses['mstellar_median'] > 10)\n",
    "\n",
    "print np.sum(high_mass)"
   ]
  },
  {
   "cell_type": "code",
   "execution_count": null,
   "metadata": {
    "collapsed": false
   },
   "outputs": [],
   "source": [
    "good_masses[high_mass]"
   ]
  },
  {
   "cell_type": "markdown",
   "metadata": {
    "collapsed": true
   },
   "source": [
    "## Test the GANDALF code on a galaxy that has a more robust mass measurement\n",
    "\n",
    "I ran GANDALF on the spectrum of the galaxy center, `spec-0383-51818-0294.fit`, using the Milky Way value of E(B-V) that Vihang gave me from the Schlegel maps (0.0397).\n",
    "I want to see if the output makes any sense and if I can sort of reconstruct the mass of this galaxy. "
   ]
  },
  {
   "cell_type": "code",
   "execution_count": null,
   "metadata": {
    "collapsed": false
   },
   "outputs": [],
   "source": [
    "test_galaxy = good_masses[np.where(good_masses['OBJID']==588015508191445089)[0][0]]\n",
    "test_galaxy"
   ]
  },
  {
   "cell_type": "code",
   "execution_count": null,
   "metadata": {
    "collapsed": true
   },
   "outputs": [],
   "source": []
  }
 ],
 "metadata": {
  "kernelspec": {
   "display_name": "Python 2",
   "language": "python",
   "name": "python2"
  },
  "language_info": {
   "codemirror_mode": {
    "name": "ipython",
    "version": 2
   },
   "file_extension": ".py",
   "mimetype": "text/x-python",
   "name": "python",
   "nbconvert_exporter": "python",
   "pygments_lexer": "ipython2",
   "version": "2.7.13"
  }
 },
 "nbformat": 4,
 "nbformat_minor": 2
}
